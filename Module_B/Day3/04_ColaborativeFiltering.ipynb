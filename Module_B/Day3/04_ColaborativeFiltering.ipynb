{
 "cells": [
  {
   "cell_type": "markdown",
   "metadata": {},
   "source": [
    "# Use-case on collaborative filtering\n",
    "\n",
    "Collaborative filtering is a family of methods where the output is a ranked list of items in the order of their relevance to the user taking into account the interactions of __similar__ users.\n",
    "\n",
    "The workflow consists of two main steps:\n",
    "\n",
    " * Determine the similarity of users\n",
    " * Using the set of similar users calculate the ratings missing items\n",
    " \n",
    "The model families can be groupped to two categories:\n",
    "\n",
    " 1. Similarity based methods\n",
    " 2. Model based methods\n",
    " \n",
    " \n",
    "## Similarity based methods\n",
    "\n",
    "Let's use the following user item matrix as an example. 4 users are in the rows and and 3 items are in the columns:"
   ]
  },
  {
   "cell_type": "code",
   "execution_count": 1,
   "metadata": {},
   "outputs": [
    {
     "data": {
      "text/plain": [
       "array([[ 5., nan,  4.,  1., nan],\n",
       "       [nan,  3., nan,  3.,  5.],\n",
       "       [nan,  2.,  4.,  4.,  1.],\n",
       "       [ 4.,  4.,  5., nan, nan],\n",
       "       [ 2.,  4., nan,  5.,  2.]])"
      ]
     },
     "execution_count": 1,
     "metadata": {},
     "output_type": "execute_result"
    }
   ],
   "source": [
    "import numpy as np\n",
    "\n",
    "ui = np.array([[5, np.nan, 4, 1, np.nan],\n",
    "               [np.nan, 3, np.nan, 3, 5],\n",
    "               [np.nan, 2, 4, 4, 1],\n",
    "               [4, 4, 5, np.nan, np.nan],\n",
    "               [2, 4, np.nan, 5, 2]])\n",
    "ui"
   ]
  },
  {
   "cell_type": "markdown",
   "metadata": {},
   "source": [
    "(NOTE: indexing of users and items start with 0)\n",
    "\n",
    "Integers in the matrix represent the explicit preference/rating of the users. What [measures](http://www.benfrederickson.com/distance-metrics/) shall can pick to measure the similarity between users?\n",
    "\n",
    "__Jaccard distance__: intersection of two sets of items where the result is the number of items rated by both users but normalized by the size of intersection (avoids bias)"
   ]
  },
  {
   "cell_type": "code",
   "execution_count": 2,
   "metadata": {},
   "outputs": [],
   "source": [
    "def jaccard(a, b):\n",
    "    intersection = float(len(set(a).intersection(set(b))))\n",
    "    return intersection / (len(a) + len(b) - intersection)\n",
    "\n",
    "def get_set_of_items(ui, id):\n",
    "    uij = np.argwhere(np.invert(np.isnan(ui)))\n",
    "    return set(uij[uij[:, 0] == id][:,1])"
   ]
  },
  {
   "cell_type": "code",
   "execution_count": 3,
   "metadata": {},
   "outputs": [
    {
     "data": {
      "text/plain": [
       "0.5"
      ]
     },
     "execution_count": 3,
     "metadata": {},
     "output_type": "execute_result"
    }
   ],
   "source": [
    "a = get_set_of_items(ui, 0)\n",
    "b = get_set_of_items(ui, 3)\n",
    "jaccard(a, b)"
   ]
  },
  {
   "cell_type": "code",
   "execution_count": 4,
   "metadata": {},
   "outputs": [
    {
     "data": {
      "text/plain": [
       "0.4"
      ]
     },
     "execution_count": 4,
     "metadata": {},
     "output_type": "execute_result"
    }
   ],
   "source": [
    "c = get_set_of_items(ui, 2)\n",
    "jaccard(c, b)"
   ]
  },
  {
   "cell_type": "markdown",
   "metadata": {},
   "source": [
    "__Eucladian distance__: distance between two points in the *Eucladian* plane.\n",
    "$$\n",
    "d(\\textbf{x}, \\textbf{y}) = \\sqrt{(x_1 - y_1)^2 + (x_2 - y_2)^2 + ... + (x_n - y_n)^2)}\n",
    "$$\n",
    "\n",
    "Let's pick users 3 and 4:"
   ]
  },
  {
   "cell_type": "code",
   "execution_count": 5,
   "metadata": {},
   "outputs": [
    {
     "name": "stdout",
     "output_type": "stream",
     "text": [
      "User 3:  [4. 4.]\n",
      "User 4:  [2. 4.]\n"
     ]
    },
    {
     "data": {
      "text/plain": [
       "2.0"
      ]
     },
     "execution_count": 5,
     "metadata": {},
     "output_type": "execute_result"
    }
   ],
   "source": [
    "u3 = ui[3,:2]\n",
    "u4 = ui[4,:2]\n",
    "print('User 3: ', u3)\n",
    "print('User 4: ', u4)\n",
    "\n",
    "from scipy import spatial\n",
    "\n",
    "spatial.distance.euclidean(u3, u4)"
   ]
  },
  {
   "cell_type": "code",
   "execution_count": 6,
   "metadata": {},
   "outputs": [
    {
     "data": {
      "text/plain": [
       "2.8284271247461903"
      ]
     },
     "execution_count": 6,
     "metadata": {},
     "output_type": "execute_result"
    }
   ],
   "source": [
    "spatial.distance.euclidean(u3, np.array([2,2]))"
   ]
  },
  {
   "cell_type": "code",
   "execution_count": 7,
   "metadata": {},
   "outputs": [
    {
     "data": {
      "text/plain": [
       "(0.0, 6.0)"
      ]
     },
     "execution_count": 7,
     "metadata": {},
     "output_type": "execute_result"
    },
    {
     "data": {
      "image/png": "[encoded data removed]",
      "text/plain": [
       "<Figure size 432x288 with 1 Axes>"
      ]
     },
     "metadata": {
      "needs_background": "light"
     },
     "output_type": "display_data"
    }
   ],
   "source": [
    "%matplotlib inline\n",
    "import matplotlib.pyplot as plt\n",
    "\n",
    "orig = np.array([[0, 0], [0, 0]])\n",
    "plt.quiver(*orig, u3, u4, angles='xy', scale_units='xy', scale=1)\n",
    "plt.xlim(0, 6)\n",
    "plt.ylim(0, 6)"
   ]
  },
  {
   "cell_type": "markdown",
   "metadata": {},
   "source": [
    "__Cosine similarity__: The higher the angle between two vectors the higher the value:\n",
    "\n",
    "$$\n",
    "\\cos ({\\bf u_1},{\\bf u_2})= {{\\bf u_1} {\\bf u_2} \\over \\|{\\bf u_1}\\| \\|{\\bf u_2}\\|},\n",
    "$$\n",
    "which returns a value in [-1, 1].\n",
    "\n",
    "__Note__ that the cosine distance in the SciPy packge returns $$ 1- \\cos ({\\bf u_1},{\\bf u_2})$$"
   ]
  },
  {
   "cell_type": "code",
   "execution_count": 8,
   "metadata": {},
   "outputs": [
    {
     "data": {
      "text/plain": [
       "0.9486832980505138"
      ]
     },
     "execution_count": 8,
     "metadata": {},
     "output_type": "execute_result"
    }
   ],
   "source": [
    "1 - spatial.distance.cosine(u3, u4)"
   ]
  },
  {
   "cell_type": "code",
   "execution_count": 9,
   "metadata": {},
   "outputs": [
    {
     "data": {
      "text/plain": [
       "0.8574929257125441"
      ]
     },
     "execution_count": 9,
     "metadata": {},
     "output_type": "execute_result"
    }
   ],
   "source": [
    "1 - spatial.distance.cosine(u3, np.array([4,1]))"
   ]
  },
  {
   "cell_type": "markdown",
   "metadata": {},
   "source": [
    "__Centered cosine similarity__: Looking at the user-item matrix the natural question arrives how to treat the non-rated items by similar users. Furthermore, note that the users expresses their preferences at different \"levels\". Some are more critical in general (though raters) with all items (gives rather lower ratings for everything) while others tend to give hither ratings in general. So we see that there is a need to remove this type of bias from the similarity measures. To solve boths of these problems we can center the ratings by substracting the averge user rating per person. Centered/average ratings per use can be also used to impute missing ratings of the similar users. By doing so the centered average of all users will be 0.\n",
    "\n",
    "Let's see how does it looks like in case of cosine similarity, we use user1 and user2 in the example:"
   ]
  },
  {
   "cell_type": "code",
   "execution_count": 10,
   "metadata": {},
   "outputs": [
    {
     "data": {
      "text/plain": [
       "0.07856742013183848"
      ]
     },
     "execution_count": 10,
     "metadata": {},
     "output_type": "execute_result"
    }
   ],
   "source": [
    "ui_centered = ui - np.nanmean(ui, axis = 1, keepdims = True)\n",
    "ui_centered = np.nan_to_num(ui_centered)\n",
    "# Calc cosine similarity on centered user-item matrix\n",
    "1 - spatial.distance.cosine(ui_centered[3,:], ui_centered[4,:])"
   ]
  },
  {
   "cell_type": "code",
   "execution_count": null,
   "metadata": {},
   "outputs": [],
   "source": [
    "ui_cen"
   ]
  },
  {
   "cell_type": "code",
   "execution_count": 11,
   "metadata": {},
   "outputs": [
    {
     "data": {
      "text/plain": [
       "array([[ 1.66666667,  0.        ,  0.66666667, -2.33333333,  0.        ],\n",
       "       [ 0.        , -0.66666667,  0.        , -0.66666667,  1.33333333],\n",
       "       [ 0.        , -0.75      ,  1.25      ,  1.25      , -1.75      ],\n",
       "       [-0.33333333, -0.33333333,  0.66666667,  0.        ,  0.        ],\n",
       "       [-1.25      ,  0.75      ,  0.        ,  1.75      , -1.25      ]])"
      ]
     },
     "execution_count": 11,
     "metadata": {},
     "output_type": "execute_result"
    }
   ],
   "source": [
    "ui_centered"
   ]
  },
  {
   "cell_type": "markdown",
   "metadata": {},
   "source": [
    "Negative similarity makes sense in case of user1 and user2 as they rated item1 pretty differently. The centered cosine similarty is also referred in the literature as equal to the Person correlation, let's check it:"
   ]
  },
  {
   "cell_type": "code",
   "execution_count": 12,
   "metadata": {},
   "outputs": [
    {
     "name": "stdout",
     "output_type": "stream",
     "text": [
      "\n",
      "Pearson corr:  0.07856742013183857\n",
      "p-value: pearson[1]\n"
     ]
    }
   ],
   "source": [
    "from scipy.stats import pearsonr\n",
    "pearson = pearsonr(ui_centered[3,:], ui_centered[4,:])\n",
    "print('\\nPearson corr: ', pearson[0])\n",
    "print('p-value: pearson[1]')"
   ]
  },
  {
   "cell_type": "markdown",
   "metadata": {},
   "source": [
    "## Calculating ratings\n",
    "\n",
    "Now that we have a similarty measure between users, we can calculate ratings of non-rated items of each user. A users \"predicted\" rating for a given item will be the average rating of those outer users who are similar. In our method we weight the other user's rating with the similarity measure:\n",
    "\n",
    "$$\n",
    "R_u = (\\sum_{u=1}^n R_u*S_u)/(\\sum_{u=1}^n S_u)\n",
    "$$\n",
    "where R is the given user rating, n is the number of __similar__ users and S is the similarity measure, in our case the centered cosine similarity. For the sake of simplicity we define similar users where the __cosine value is > 0__, therefore we need to floor the similarty matrix at zero\n",
    "\n",
    "Let's implement this in our example:"
   ]
  },
  {
   "cell_type": "code",
   "execution_count": 13,
   "metadata": {},
   "outputs": [],
   "source": [
    "# Calculte centered cosine similarity matrix\n",
    "# Note we cheat here as we use the Numpy Pearson corr func ;)\n",
    "simmat = np.corrcoef(ui_centered)\n",
    "# floor similarty matrix\n",
    "simmat[simmat < 0] = 0"
   ]
  },
  {
   "cell_type": "code",
   "execution_count": 14,
   "metadata": {},
   "outputs": [
    {
     "name": "stdout",
     "output_type": "stream",
     "text": [
      "\n",
      "User-item pairs where there is no rating:  [(0, 1), (0, 4), (1, 0), (1, 2), (2, 0), (3, 3), (3, 4), (4, 2)]\n"
     ]
    }
   ],
   "source": [
    "# Get user-item pairs where there is no rating\n",
    "no_rating = np.argwhere(np.isnan(ui))\n",
    "no_rating = list(map(tuple, no_rating))\n",
    "print('\\nUser-item pairs where there is no rating: ', no_rating)"
   ]
  },
  {
   "cell_type": "code",
   "execution_count": 15,
   "metadata": {},
   "outputs": [
    {
     "name": "stdout",
     "output_type": "stream",
     "text": [
      "\n",
      "Original user-item matrix: \n",
      "----------------------------------------------------------------------------------------------------\n",
      " [[ 5. nan  4.  1. nan]\n",
      " [nan  3. nan  3.  5.]\n",
      " [nan  2.  4.  4.  1.]\n",
      " [ 4.  4.  5. nan nan]\n",
      " [ 2.  4. nan  5.  2.]]\n",
      "\n",
      "Modified similarity matirx: \n",
      "----------------------------------------------------------------------------------------------------\n",
      " [[0.         0.32357511 0.         0.         0.        ]\n",
      " [0.32357511 0.         0.         0.16666667 0.        ]\n",
      " [0.         0.         0.         0.51068823 0.56481481]\n",
      " [0.         0.16666667 0.51068823 0.         0.07856742]\n",
      " [0.         0.         0.56481481 0.07856742 0.        ]]\n",
      "\n",
      "Predicted user-item matrix: \n",
      "----------------------------------------------------------------------------------------------------\n",
      " [[5.         3.         4.         1.         5.        ]\n",
      " [4.6600317  3.         4.3399683  3.         5.        ]\n",
      " [2.94967324 2.         4.         4.         1.        ]\n",
      " [4.         4.         5.         3.88345463 1.98586068]\n",
      " [2.         4.         4.12211624 5.         2.        ]]\n"
     ]
    }
   ],
   "source": [
    "out = ui.copy()\n",
    "print('\\nOriginal user-item matrix: \\n' + '-'*100 + '\\n', ui)\n",
    "ui[np.isnan(ui)] = 0\n",
    "np.fill_diagonal(simmat, 0)\n",
    "for u, i in no_rating:\n",
    "    rating = np.dot(ui[:, i], simmat[:, u]) / np.sum(simmat[:, u])\n",
    "    out[u, i] = rating\n",
    "print('\\nModified similarity matirx: \\n' + '-'*100 + '\\n', simmat)\n",
    "print('\\nPredicted user-item matrix: \\n' + '-'*100 + '\\n', out)"
   ]
  },
  {
   "cell_type": "markdown",
   "metadata": {},
   "source": [
    "__Note__ that we can repeat the same exercise starting with __similarty of items__ instead of similarty of users.\n",
    "\n",
    "Collaborative filtering methods based on similarity matrices suffers from the huge computational expense in case of large user-item matrices. Real life examples show that the user-item matrix is typically sparse: in this case dimensionality reduction methods come handy. Model based recommendation systems mostly a variant of __matrix factorization__ methods.\n",
    "\n",
    "## Model based approaches\n",
    "\n",
    "In this section we introduce two popular matrix factorization approaches:\n",
    "\n",
    " * Alternating Least Squares method\n",
    " * Bayesian Personalized Ranking method\n",
    " \n",
    "### ALS\n",
    " \n",
    "We use a well known __Last.fm__ dataset and [Ben Frederickson](https://github.com/benfred)'s `implicit` package to demonstrate ALS."
   ]
  },
  {
   "cell_type": "code",
   "execution_count": 16,
   "metadata": {},
   "outputs": [],
   "source": [
    "import pandas as pd\n",
    "\n",
    "data = pd.read_table(\"lastfm-dataset-360k/usersha1-artmbid-artname-plays.tsv\", \n",
    "                     usecols=[0, 2, 3], \n",
    "                     names=['user', 'artist', 'plays'])"
   ]
  },
  {
   "cell_type": "code",
   "execution_count": 17,
   "metadata": {},
   "outputs": [
    {
     "name": "stdout",
     "output_type": "stream",
     "text": [
      "<class 'pandas.core.frame.DataFrame'>\n",
      "RangeIndex: 17535655 entries, 0 to 17535654\n",
      "Data columns (total 3 columns):\n",
      " #   Column  Dtype \n",
      "---  ------  ----- \n",
      " 0   user    object\n",
      " 1   artist  object\n",
      " 2   plays   int64 \n",
      "dtypes: int64(1), object(2)\n",
      "memory usage: 401.4+ MB\n"
     ]
    }
   ],
   "source": [
    "data.info()"
   ]
  },
  {
   "cell_type": "code",
   "execution_count": 18,
   "metadata": {},
   "outputs": [
    {
     "data": {
      "text/html": [
       "<div>\n",
       "<style scoped>\n",
       "    .dataframe tbody tr th:only-of-type {\n",
       "        vertical-align: middle;\n",
       "    }\n",
       "\n",
       "    .dataframe tbody tr th {\n",
       "        vertical-align: top;\n",
       "    }\n",
       "\n",
       "    .dataframe thead th {\n",
       "        text-align: right;\n",
       "    }\n",
       "</style>\n",
       "<table border=\"1\" class=\"dataframe\">\n",
       "  <thead>\n",
       "    <tr style=\"text-align: right;\">\n",
       "      <th></th>\n",
       "      <th>user</th>\n",
       "      <th>artist</th>\n",
       "      <th>plays</th>\n",
       "    </tr>\n",
       "  </thead>\n",
       "  <tbody>\n",
       "    <tr>\n",
       "      <th>0</th>\n",
       "      <td>00000c289a1829a808ac09c00daf10bc3c4e223b</td>\n",
       "      <td>betty blowtorch</td>\n",
       "      <td>2137</td>\n",
       "    </tr>\n",
       "    <tr>\n",
       "      <th>1</th>\n",
       "      <td>00000c289a1829a808ac09c00daf10bc3c4e223b</td>\n",
       "      <td>die Ärzte</td>\n",
       "      <td>1099</td>\n",
       "    </tr>\n",
       "    <tr>\n",
       "      <th>2</th>\n",
       "      <td>00000c289a1829a808ac09c00daf10bc3c4e223b</td>\n",
       "      <td>melissa etheridge</td>\n",
       "      <td>897</td>\n",
       "    </tr>\n",
       "    <tr>\n",
       "      <th>3</th>\n",
       "      <td>00000c289a1829a808ac09c00daf10bc3c4e223b</td>\n",
       "      <td>elvenking</td>\n",
       "      <td>717</td>\n",
       "    </tr>\n",
       "    <tr>\n",
       "      <th>4</th>\n",
       "      <td>00000c289a1829a808ac09c00daf10bc3c4e223b</td>\n",
       "      <td>juliette &amp; the licks</td>\n",
       "      <td>706</td>\n",
       "    </tr>\n",
       "    <tr>\n",
       "      <th>...</th>\n",
       "      <td>...</td>\n",
       "      <td>...</td>\n",
       "      <td>...</td>\n",
       "    </tr>\n",
       "    <tr>\n",
       "      <th>9995</th>\n",
       "      <td>00243799d78e58fcf6869efc5232b5e776b18434</td>\n",
       "      <td>the appleseed cast</td>\n",
       "      <td>39</td>\n",
       "    </tr>\n",
       "    <tr>\n",
       "      <th>9996</th>\n",
       "      <td>00243799d78e58fcf6869efc5232b5e776b18434</td>\n",
       "      <td>natural snow buildings</td>\n",
       "      <td>37</td>\n",
       "    </tr>\n",
       "    <tr>\n",
       "      <th>9997</th>\n",
       "      <td>00243799d78e58fcf6869efc5232b5e776b18434</td>\n",
       "      <td>at the drive-in</td>\n",
       "      <td>35</td>\n",
       "    </tr>\n",
       "    <tr>\n",
       "      <th>9998</th>\n",
       "      <td>00243799d78e58fcf6869efc5232b5e776b18434</td>\n",
       "      <td>keelhaul</td>\n",
       "      <td>35</td>\n",
       "    </tr>\n",
       "    <tr>\n",
       "      <th>9999</th>\n",
       "      <td>00243799d78e58fcf6869efc5232b5e776b18434</td>\n",
       "      <td>tortoise</td>\n",
       "      <td>34</td>\n",
       "    </tr>\n",
       "  </tbody>\n",
       "</table>\n",
       "<p>10000 rows × 3 columns</p>\n",
       "</div>"
      ],
      "text/plain": [
       "                                          user                  artist  plays\n",
       "0     00000c289a1829a808ac09c00daf10bc3c4e223b         betty blowtorch   2137\n",
       "1     00000c289a1829a808ac09c00daf10bc3c4e223b               die Ärzte   1099\n",
       "2     00000c289a1829a808ac09c00daf10bc3c4e223b       melissa etheridge    897\n",
       "3     00000c289a1829a808ac09c00daf10bc3c4e223b               elvenking    717\n",
       "4     00000c289a1829a808ac09c00daf10bc3c4e223b    juliette & the licks    706\n",
       "...                                        ...                     ...    ...\n",
       "9995  00243799d78e58fcf6869efc5232b5e776b18434      the appleseed cast     39\n",
       "9996  00243799d78e58fcf6869efc5232b5e776b18434  natural snow buildings     37\n",
       "9997  00243799d78e58fcf6869efc5232b5e776b18434         at the drive-in     35\n",
       "9998  00243799d78e58fcf6869efc5232b5e776b18434                keelhaul     35\n",
       "9999  00243799d78e58fcf6869efc5232b5e776b18434                tortoise     34\n",
       "\n",
       "[10000 rows x 3 columns]"
      ]
     },
     "execution_count": 18,
     "metadata": {},
     "output_type": "execute_result"
    }
   ],
   "source": [
    "data = data.iloc[:10000,:]\n",
    "data"
   ]
  },
  {
   "cell_type": "code",
   "execution_count": 19,
   "metadata": {},
   "outputs": [],
   "source": [
    "import implicit\n",
    "from scipy.sparse import coo_matrix\n",
    "from implicit.nearest_neighbours import bm25_weight"
   ]
  },
  {
   "cell_type": "markdown",
   "metadata": {},
   "source": [
    "We use sparse matrix classes from `scipy.sparse` to represent our dataset in a memory efficient way. __COOrdinte sparse matrix__ requires the coordinates of non-zero elements."
   ]
  },
  {
   "cell_type": "code",
   "execution_count": 20,
   "metadata": {},
   "outputs": [],
   "source": [
    "# Map each artist and user to a unique numeric value\n",
    "data['user'] = data['user'].astype(\"category\")\n",
    "data['artist'] = data['artist'].astype(\"category\")\n",
    "\n",
    "# Create a sparse matrix of all the artist/user/play triples\n",
    "plays = coo_matrix((data['plays'].astype(float), \n",
    "                      (data['artist'].cat.codes, \n",
    "                      data['user'].cat.codes)))"
   ]
  },
  {
   "cell_type": "markdown",
   "metadata": {},
   "source": [
    "We train a model with 50 factors and transform the play counts as the implicit ratings with [__BM25__](https://www.benfrederickson.com/distance-metrics/) weights. It is a ranking function, which ensures that the active listeners are not overrepresented compared to those who listen just to a couple of songs."
   ]
  },
  {
   "cell_type": "code",
   "execution_count": 21,
   "metadata": {},
   "outputs": [
    {
     "name": "stderr",
     "output_type": "stream",
     "text": [
      "WARNING:root:Intel MKL BLAS detected. Its highly recommend to set the environment variable 'export MKL_NUM_THREADS=1' to disable its internal multithreading\n"
     ]
    },
    {
     "data": {
      "application/vnd.jupyter.widget-view+json": {
       "model_id": "f220b8f24d534cf9b5889e0201ee8c45",
       "version_major": 2,
       "version_minor": 0
      },
      "text/plain": [
       "  0%|          | 0/15 [00:00<?, ?it/s]"
      ]
     },
     "metadata": {},
     "output_type": "display_data"
    }
   ],
   "source": [
    "# Initialize a model\n",
    "model = implicit.als.AlternatingLeastSquares(factors=50, regularization=0.02)\n",
    "\n",
    "# train the model on a sparse matrix of item/user/confidence weights\n",
    "model.fit(bm25_weight(plays))"
   ]
  },
  {
   "cell_type": "code",
   "execution_count": 22,
   "metadata": {},
   "outputs": [
    {
     "name": "stdout",
     "output_type": "stream",
     "text": [
      "00000c289a1829a808ac09c00daf10bc3c4e223b\tmetallica\t1.0623744\n",
      "\n",
      "00000c289a1829a808ac09c00daf10bc3c4e223b\toasis\t0.92825145\n",
      "\n",
      "00000c289a1829a808ac09c00daf10bc3c4e223b\tantonio carlos jobim & astrud gilberto\t0.85643005\n",
      "\n",
      "00000c289a1829a808ac09c00daf10bc3c4e223b\tthe killers\t0.8208675\n",
      "\n",
      "00000c289a1829a808ac09c00daf10bc3c4e223b\tdisturbed\t0.78080195\n",
      "\n",
      "00000c289a1829a808ac09c00daf10bc3c4e223b\tthe automatic\t0.734434\n",
      "\n",
      "00000c289a1829a808ac09c00daf10bc3c4e223b\tjosé gonzález\t0.7068355\n",
      "\n",
      "00000c289a1829a808ac09c00daf10bc3c4e223b\ttool\t0.7010291\n",
      "\n",
      "00000c289a1829a808ac09c00daf10bc3c4e223b\tdark angel\t0.67965066\n",
      "\n",
      "00000c289a1829a808ac09c00daf10bc3c4e223b\tsnow patrol\t0.6700312\n",
      "\n"
     ]
    }
   ],
   "source": [
    "# Recommend items for a user\n",
    "user_items = plays.T.tocsr()\n",
    "\n",
    "userid = 42\n",
    "recommendations = model.recommend(userid, user_items)\n",
    "for artistid, score in recommendations[:10]:\n",
    "    print(\"%s\\t%s\\t%s\\n\" % (data['user'][userid], data['artist'][artistid], score))"
   ]
  },
  {
   "cell_type": "code",
   "execution_count": null,
   "metadata": {},
   "outputs": [],
   "source": []
  }
 ],
 "metadata": {
  "kernelspec": {
   "display_name": "Python 3",
   "language": "python",
   "name": "python3"
  },
  "language_info": {
   "codemirror_mode": {
    "name": "ipython",
    "version": 3
   },
   "file_extension": ".py",
   "mimetype": "text/x-python",
   "name": "python",
   "nbconvert_exporter": "python",
   "pygments_lexer": "ipython3",
   "version": "3.7.1"
  }
 },
 "nbformat": 4,
 "nbformat_minor": 2
}
