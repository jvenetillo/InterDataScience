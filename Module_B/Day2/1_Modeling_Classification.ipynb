{
 "cells": [
  {
   "cell_type": "markdown",
   "metadata": {
    "application/vnd.databricks.v1+cell": {
     "inputWidgets": {},
     "nuid": "f5a538eb-bfd3-422d-9f50-0bdd65df69e7",
     "showTitle": false,
     "title": ""
    },
    "id": "vX6vY6IEw-v8"
   },
   "source": [
    "# Introduction to Data Science\n",
    "\n",
    "## Predictive Analysis - numerical and categorical data\n",
    "\n",
    "### The sinking of Titanic  \n",
    "Based on [this](https://www.kaggle.com/c/titanic-gettingStarted) Kaggle Competition."
   ]
  },
  {
   "cell_type": "markdown",
   "metadata": {
    "application/vnd.databricks.v1+cell": {
     "inputWidgets": {},
     "nuid": "c5fcb001-405b-4565-8d00-c09e223ce34c",
     "showTitle": false,
     "title": ""
    },
    "id": "Oo7xzXSmw-wM"
   },
   "source": [
    "## The Mighty Titanic !\n",
    "\n",
    "![Titanic](https://upload.wikimedia.org/wikipedia/commons/thumb/f/fd/RMS_Titanic_3.jpg/1280px-RMS_Titanic_3.jpg)"
   ]
  },
  {
   "cell_type": "markdown",
   "metadata": {
    "application/vnd.databricks.v1+cell": {
     "inputWidgets": {},
     "nuid": "8af7e9a8-31f9-48c3-a1f1-3fe0c8016e08",
     "showTitle": false,
     "title": ""
    },
    "id": "mQCwoYaww-wN"
   },
   "source": [
    "The sinking of the RMS Titanic is one of the most infamous shipwrecks in history.  On April 15, 1912, during her maiden voyage, the Titanic sank after colliding with an iceberg, killing 1502 out of 2224 passengers and crew. This sensational tragedy shocked the international community and led to better safety regulations for ships.\n",
    "\n",
    "One of the reasons that the shipwreck led to such loss of life was that there were not enough lifeboats for the passengers and crew. Although there was some element of luck involved in surviving the sinking, some groups of people were more likely to survive than others, such as women, children, and the upper-class.\n",
    "\n",
    "In this challenge, we ask you to complete the analysis of what sorts of people were likely to survive. In particular, we ask you to apply the tools of machine learning to predict which passengers survived the tragedy."
   ]
  },
  {
   "cell_type": "markdown",
   "metadata": {
    "application/vnd.databricks.v1+cell": {
     "inputWidgets": {},
     "nuid": "71cd9e3c-5c04-40e5-972f-e1b91e67170e",
     "showTitle": false,
     "title": ""
    },
    "id": "JCd7kHw2w-wN"
   },
   "source": [
    "VARIABLE DESCRIPTIONS:\n",
    "survival        Survival\n",
    "                (0 = No; 1 = Yes)\n",
    "pclass          Passenger Class\n",
    "                (1 = 1st; 2 = 2nd; 3 = 3rd)\n",
    "name            Name\n",
    "sex             Sex\n",
    "age             Age\n",
    "sibsp           Number of Siblings/Spouses Aboard\n",
    "parch           Number of Parents/Children Aboard\n",
    "ticket          Ticket Number\n",
    "fare            Passenger Fare\n",
    "cabin           Cabin\n",
    "embarked        Port of Embarkation\n",
    "                (C = Cherbourg; Q = Queenstown; S = Southampton)\n",
    "\n",
    "SPECIAL NOTES:\n",
    "Pclass is a proxy for socio-economic status (SES)\n",
    " 1st ~ Upper; 2nd ~ Middle; 3rd ~ Lower\n",
    "\n",
    "Age is in Years; Fractional if Age less than One (1)\n",
    " If the Age is Estimated, it is in the form xx.5\n",
    "\n",
    "With respect to the family relation variables (i.e. sibsp and parch)\n",
    "some relations were ignored.  The following are the definitions used\n",
    "for sibsp and parch.\n",
    "\n",
    "Sibling:  Brother, Sister, Stepbrother, or Stepsister of Passenger Aboard Titanic\n",
    "Spouse:   Husband or Wife of Passenger Aboard Titanic (Mistresses and Fiances Ignored)\n",
    "Parent:   Mother or Father of Passenger Aboard Titanic\n",
    "Child:    Son, Daughter, Stepson, or Stepdaughter of Passenger Aboard Titanic\n",
    "\n",
    "Other family relatives excluded from this study include cousins,\n",
    "nephews/nieces, aunts/uncles, and in-laws.  Some children travelled\n",
    "only with a nanny, therefore parch=0 for them.  As well, some\n",
    "travelled with very close friends or neighbors in a village, however,\n",
    "the definitions do not support such relations."
   ]
  },
  {
   "cell_type": "markdown",
   "metadata": {
    "application/vnd.databricks.v1+cell": {
     "inputWidgets": {},
     "nuid": "d10a4a8b-25ab-48ac-aa1a-ba7a8c6640cc",
     "showTitle": false,
     "title": ""
    },
    "id": "UWE2lGdKw-wO"
   },
   "source": [
    "# 1 - (Installing and) Loading Basic Packages"
   ]
  },
  {
   "cell_type": "code",
   "execution_count": 1,
   "metadata": {
    "application/vnd.databricks.v1+cell": {
     "inputWidgets": {},
     "nuid": "4c450588-36e6-43a3-9a39-6ecdd06e184d",
     "showTitle": false,
     "title": ""
    },
    "colab": {
     "base_uri": "https://localhost:8080/"
    },
    "id": "Ek86i4B_w-v-",
    "outputId": "73899cb5-2a28-47de-b05b-4e737d1c1bec"
   },
   "outputs": [],
   "source": [
    "#!pip install -U -q  scikit-learn \n",
    "#!pip install -U -q  imbalanced-learn \n",
    "#!pip install -U -q  xgboost \n",
    "#!pip install -U -q  lightgbm \n",
    "#!pip install -U -q  rgf_python \n",
    "#!pip install -U -q  forestci\n",
    "#!pip install -U -q  tpot \n",
    "#!pip install -U -q  tensorflow tensorboard \n",
    "#!pip install -U -q  torch torchvision \n",
    "#!pip install -U -q  delayed\n",
    "#!pip install -U -q  joblib "
   ]
  },
  {
   "cell_type": "code",
   "execution_count": 2,
   "metadata": {
    "application/vnd.databricks.v1+cell": {
     "inputWidgets": {},
     "nuid": "010e5d60-1e97-4a51-b835-74f0363bbc34",
     "showTitle": false,
     "title": ""
    },
    "colab": {
     "base_uri": "https://localhost:8080/"
    },
    "id": "6E-YtjgEw-wD",
    "outputId": "2926a925-1ea0-4bce-a77d-eab9955e8ae1"
   },
   "outputs": [],
   "source": [
    "import os\n",
    "import sys\n",
    "import time\n",
    "import pickle\n",
    "import itertools\n",
    "import warnings\n",
    "import string\n",
    "import re\n",
    "\n",
    "import numpy as np\n",
    "import pylab\n",
    "import pandas as pd\n",
    "import matplotlib\n",
    "import matplotlib.pyplot as plt\n",
    "from matplotlib.font_manager import FontProperties\n",
    "import seaborn as sns\n",
    "import statsmodels.api as sm\n",
    "import statsmodels.formula.api as smf\n",
    "\n",
    "from IPython.display import display, Image\n",
    "from IPython.core.interactiveshell import InteractiveShell\n",
    "\n",
    "%matplotlib inline"
   ]
  },
  {
   "cell_type": "markdown",
   "metadata": {
    "application/vnd.databricks.v1+cell": {
     "inputWidgets": {},
     "nuid": "df325861-bcbb-4e97-a114-77b8be4234ff",
     "showTitle": false,
     "title": ""
    }
   },
   "source": [
    "## 1.1 - Testing if GPU is present"
   ]
  },
  {
   "cell_type": "code",
   "execution_count": 3,
   "metadata": {
    "application/vnd.databricks.v1+cell": {
     "inputWidgets": {},
     "nuid": "986a795e-6486-40c6-9a25-adacb60fef45",
     "showTitle": false,
     "title": ""
    },
    "colab": {
     "base_uri": "https://localhost:8080/"
    },
    "id": "vbqyaYKKw-wJ",
    "outputId": "335a7864-c13b-4f1e-970a-c30d70199f6d"
   },
   "outputs": [
    {
     "name": "stderr",
     "output_type": "stream",
     "text": [
      "2022-10-03 20:15:10.675089: I tensorflow/core/platform/cpu_feature_guard.cc:193] This TensorFlow binary is optimized with oneAPI Deep Neural Network Library (oneDNN) to use the following CPU instructions in performance-critical operations:  AVX2 FMA\n",
      "To enable them in other operations, rebuild TensorFlow with the appropriate compiler flags.\n",
      "2022-10-03 20:15:11.242975: E tensorflow/stream_executor/cuda/cuda_blas.cc:2981] Unable to register cuBLAS factory: Attempting to register factory for plugin cuBLAS when one has already been registered\n",
      "2022-10-03 20:15:12.246330: W tensorflow/stream_executor/platform/default/dso_loader.cc:64] Could not load dynamic library 'libnvinfer.so.7'; dlerror: libnvinfer.so.7: cannot open shared object file: No such file or directory\n",
      "2022-10-03 20:15:12.246494: W tensorflow/stream_executor/platform/default/dso_loader.cc:64] Could not load dynamic library 'libnvinfer_plugin.so.7'; dlerror: libnvinfer_plugin.so.7: cannot open shared object file: No such file or directory\n",
      "2022-10-03 20:15:12.246521: W tensorflow/compiler/tf2tensorrt/utils/py_utils.cc:38] TF-TRT Warning: Cannot dlopen some TensorRT libraries. If you would like to use Nvidia GPU with TensorRT, please make sure the missing libraries mentioned above are installed properly.\n"
     ]
    },
    {
     "name": "stdout",
     "output_type": "stream",
     "text": [
      "2.10.0\n",
      "[name: \"/device:CPU:0\"\n",
      "device_type: \"CPU\"\n",
      "memory_limit: 268435456\n",
      "locality {\n",
      "}\n",
      "incarnation: 9523717742762903878\n",
      "xla_global_id: -1\n",
      ", name: \"/device:GPU:0\"\n",
      "device_type: \"GPU\"\n",
      "memory_limit: 11911561216\n",
      "locality {\n",
      "  bus_id: 1\n",
      "  links {\n",
      "  }\n",
      "}\n",
      "incarnation: 7131680920730671371\n",
      "physical_device_desc: \"device: 0, name: NVIDIA TITAN Xp, pci bus id: 0000:01:00.0, compute capability: 6.1\"\n",
      "xla_global_id: 416903419\n",
      "]\n"
     ]
    },
    {
     "name": "stderr",
     "output_type": "stream",
     "text": [
      "2022-10-03 20:15:13.218399: I tensorflow/core/platform/cpu_feature_guard.cc:193] This TensorFlow binary is optimized with oneAPI Deep Neural Network Library (oneDNN) to use the following CPU instructions in performance-critical operations:  AVX2 FMA\n",
      "To enable them in other operations, rebuild TensorFlow with the appropriate compiler flags.\n",
      "2022-10-03 20:15:13.274960: I tensorflow/stream_executor/cuda/cuda_gpu_executor.cc:980] successful NUMA node read from SysFS had negative value (-1), but there must be at least one NUMA node, so returning NUMA node zero\n",
      "2022-10-03 20:15:13.381044: I tensorflow/stream_executor/cuda/cuda_gpu_executor.cc:980] successful NUMA node read from SysFS had negative value (-1), but there must be at least one NUMA node, so returning NUMA node zero\n",
      "2022-10-03 20:15:13.381356: I tensorflow/stream_executor/cuda/cuda_gpu_executor.cc:980] successful NUMA node read from SysFS had negative value (-1), but there must be at least one NUMA node, so returning NUMA node zero\n",
      "2022-10-03 20:15:14.372822: I tensorflow/stream_executor/cuda/cuda_gpu_executor.cc:980] successful NUMA node read from SysFS had negative value (-1), but there must be at least one NUMA node, so returning NUMA node zero\n",
      "2022-10-03 20:15:14.373499: I tensorflow/stream_executor/cuda/cuda_gpu_executor.cc:980] successful NUMA node read from SysFS had negative value (-1), but there must be at least one NUMA node, so returning NUMA node zero\n",
      "2022-10-03 20:15:14.373655: I tensorflow/stream_executor/cuda/cuda_gpu_executor.cc:980] successful NUMA node read from SysFS had negative value (-1), but there must be at least one NUMA node, so returning NUMA node zero\n",
      "2022-10-03 20:15:14.373792: I tensorflow/core/common_runtime/gpu/gpu_device.cc:1616] Created device /device:GPU:0 with 11359 MB memory:  -> device: 0, name: NVIDIA TITAN Xp, pci bus id: 0000:01:00.0, compute capability: 6.1\n"
     ]
    }
   ],
   "source": [
    "## Optional -- testing GPU support to tensorflow\n",
    "import tensorflow as tf\n",
    "print(tf.__version__)\n",
    "\n",
    "from tensorflow.python.client import device_lib\n",
    "print(device_lib.list_local_devices())"
   ]
  },
  {
   "cell_type": "markdown",
   "metadata": {
    "application/vnd.databricks.v1+cell": {
     "inputWidgets": {},
     "nuid": "9d773810-836a-4554-9457-d7abea982371",
     "showTitle": false,
     "title": ""
    },
    "id": "V4maP5KQw-wV"
   },
   "source": [
    "# 2 - Load Dataset and Distinguishing Attributes"
   ]
  },
  {
   "cell_type": "code",
   "execution_count": 7,
   "metadata": {
    "application/vnd.databricks.v1+cell": {
     "inputWidgets": {},
     "nuid": "06c0ef7e-75dd-423a-9948-2060ace542be",
     "showTitle": false,
     "title": ""
    },
    "id": "pPY8JuNAw-wP"
   },
   "outputs": [],
   "source": [
    "datapath = \"./data/Titanic\""
   ]
  },
  {
   "cell_type": "code",
   "execution_count": 8,
   "metadata": {
    "application/vnd.databricks.v1+cell": {
     "inputWidgets": {},
     "nuid": "7bb1ed17-2325-4705-bf22-2064e7f52798",
     "showTitle": false,
     "title": ""
    },
    "id": "fFBU3wClw-wS"
   },
   "outputs": [
    {
     "ename": "FileNotFoundError",
     "evalue": "[Errno 2] No such file or directory: '../Data/Kaggle/Titanic/kaggle_titanic_train.csv'",
     "output_type": "error",
     "traceback": [
      "\u001b[0;31m---------------------------------------------------------------------------\u001b[0m",
      "\u001b[0;31mFileNotFoundError\u001b[0m                         Traceback (most recent call last)",
      "Input \u001b[0;32mIn [8]\u001b[0m, in \u001b[0;36m<cell line: 1>\u001b[0;34m()\u001b[0m\n\u001b[0;32m----> 1\u001b[0m df_train \u001b[38;5;241m=\u001b[39m \u001b[43mpd\u001b[49m\u001b[38;5;241;43m.\u001b[39;49m\u001b[43mread_csv\u001b[49m\u001b[43m(\u001b[49m\u001b[43mos\u001b[49m\u001b[38;5;241;43m.\u001b[39;49m\u001b[43mpath\u001b[49m\u001b[38;5;241;43m.\u001b[39;49m\u001b[43mjoin\u001b[49m\u001b[43m(\u001b[49m\u001b[43mdatapath\u001b[49m\u001b[43m,\u001b[49m\u001b[38;5;124;43m'\u001b[39;49m\u001b[38;5;124;43mkaggle_titanic_train.csv\u001b[39;49m\u001b[38;5;124;43m'\u001b[39;49m\u001b[43m)\u001b[49m\u001b[43m)\u001b[49m\n",
      "File \u001b[0;32m~/Documents/env_default/lib/python3.10/site-packages/pandas/util/_decorators.py:311\u001b[0m, in \u001b[0;36mdeprecate_nonkeyword_arguments.<locals>.decorate.<locals>.wrapper\u001b[0;34m(*args, **kwargs)\u001b[0m\n\u001b[1;32m    305\u001b[0m \u001b[38;5;28;01mif\u001b[39;00m \u001b[38;5;28mlen\u001b[39m(args) \u001b[38;5;241m>\u001b[39m num_allow_args:\n\u001b[1;32m    306\u001b[0m     warnings\u001b[38;5;241m.\u001b[39mwarn(\n\u001b[1;32m    307\u001b[0m         msg\u001b[38;5;241m.\u001b[39mformat(arguments\u001b[38;5;241m=\u001b[39marguments),\n\u001b[1;32m    308\u001b[0m         \u001b[38;5;167;01mFutureWarning\u001b[39;00m,\n\u001b[1;32m    309\u001b[0m         stacklevel\u001b[38;5;241m=\u001b[39mstacklevel,\n\u001b[1;32m    310\u001b[0m     )\n\u001b[0;32m--> 311\u001b[0m \u001b[38;5;28;01mreturn\u001b[39;00m \u001b[43mfunc\u001b[49m\u001b[43m(\u001b[49m\u001b[38;5;241;43m*\u001b[39;49m\u001b[43margs\u001b[49m\u001b[43m,\u001b[49m\u001b[43m \u001b[49m\u001b[38;5;241;43m*\u001b[39;49m\u001b[38;5;241;43m*\u001b[39;49m\u001b[43mkwargs\u001b[49m\u001b[43m)\u001b[49m\n",
      "File \u001b[0;32m~/Documents/env_default/lib/python3.10/site-packages/pandas/io/parsers/readers.py:678\u001b[0m, in \u001b[0;36mread_csv\u001b[0;34m(filepath_or_buffer, sep, delimiter, header, names, index_col, usecols, squeeze, prefix, mangle_dupe_cols, dtype, engine, converters, true_values, false_values, skipinitialspace, skiprows, skipfooter, nrows, na_values, keep_default_na, na_filter, verbose, skip_blank_lines, parse_dates, infer_datetime_format, keep_date_col, date_parser, dayfirst, cache_dates, iterator, chunksize, compression, thousands, decimal, lineterminator, quotechar, quoting, doublequote, escapechar, comment, encoding, encoding_errors, dialect, error_bad_lines, warn_bad_lines, on_bad_lines, delim_whitespace, low_memory, memory_map, float_precision, storage_options)\u001b[0m\n\u001b[1;32m    663\u001b[0m kwds_defaults \u001b[38;5;241m=\u001b[39m _refine_defaults_read(\n\u001b[1;32m    664\u001b[0m     dialect,\n\u001b[1;32m    665\u001b[0m     delimiter,\n\u001b[0;32m   (...)\u001b[0m\n\u001b[1;32m    674\u001b[0m     defaults\u001b[38;5;241m=\u001b[39m{\u001b[38;5;124m\"\u001b[39m\u001b[38;5;124mdelimiter\u001b[39m\u001b[38;5;124m\"\u001b[39m: \u001b[38;5;124m\"\u001b[39m\u001b[38;5;124m,\u001b[39m\u001b[38;5;124m\"\u001b[39m},\n\u001b[1;32m    675\u001b[0m )\n\u001b[1;32m    676\u001b[0m kwds\u001b[38;5;241m.\u001b[39mupdate(kwds_defaults)\n\u001b[0;32m--> 678\u001b[0m \u001b[38;5;28;01mreturn\u001b[39;00m \u001b[43m_read\u001b[49m\u001b[43m(\u001b[49m\u001b[43mfilepath_or_buffer\u001b[49m\u001b[43m,\u001b[49m\u001b[43m \u001b[49m\u001b[43mkwds\u001b[49m\u001b[43m)\u001b[49m\n",
      "File \u001b[0;32m~/Documents/env_default/lib/python3.10/site-packages/pandas/io/parsers/readers.py:575\u001b[0m, in \u001b[0;36m_read\u001b[0;34m(filepath_or_buffer, kwds)\u001b[0m\n\u001b[1;32m    572\u001b[0m _validate_names(kwds\u001b[38;5;241m.\u001b[39mget(\u001b[38;5;124m\"\u001b[39m\u001b[38;5;124mnames\u001b[39m\u001b[38;5;124m\"\u001b[39m, \u001b[38;5;28;01mNone\u001b[39;00m))\n\u001b[1;32m    574\u001b[0m \u001b[38;5;66;03m# Create the parser.\u001b[39;00m\n\u001b[0;32m--> 575\u001b[0m parser \u001b[38;5;241m=\u001b[39m \u001b[43mTextFileReader\u001b[49m\u001b[43m(\u001b[49m\u001b[43mfilepath_or_buffer\u001b[49m\u001b[43m,\u001b[49m\u001b[43m \u001b[49m\u001b[38;5;241;43m*\u001b[39;49m\u001b[38;5;241;43m*\u001b[39;49m\u001b[43mkwds\u001b[49m\u001b[43m)\u001b[49m\n\u001b[1;32m    577\u001b[0m \u001b[38;5;28;01mif\u001b[39;00m chunksize \u001b[38;5;129;01mor\u001b[39;00m iterator:\n\u001b[1;32m    578\u001b[0m     \u001b[38;5;28;01mreturn\u001b[39;00m parser\n",
      "File \u001b[0;32m~/Documents/env_default/lib/python3.10/site-packages/pandas/io/parsers/readers.py:932\u001b[0m, in \u001b[0;36mTextFileReader.__init__\u001b[0;34m(self, f, engine, **kwds)\u001b[0m\n\u001b[1;32m    929\u001b[0m     \u001b[38;5;28mself\u001b[39m\u001b[38;5;241m.\u001b[39moptions[\u001b[38;5;124m\"\u001b[39m\u001b[38;5;124mhas_index_names\u001b[39m\u001b[38;5;124m\"\u001b[39m] \u001b[38;5;241m=\u001b[39m kwds[\u001b[38;5;124m\"\u001b[39m\u001b[38;5;124mhas_index_names\u001b[39m\u001b[38;5;124m\"\u001b[39m]\n\u001b[1;32m    931\u001b[0m \u001b[38;5;28mself\u001b[39m\u001b[38;5;241m.\u001b[39mhandles: IOHandles \u001b[38;5;241m|\u001b[39m \u001b[38;5;28;01mNone\u001b[39;00m \u001b[38;5;241m=\u001b[39m \u001b[38;5;28;01mNone\u001b[39;00m\n\u001b[0;32m--> 932\u001b[0m \u001b[38;5;28mself\u001b[39m\u001b[38;5;241m.\u001b[39m_engine \u001b[38;5;241m=\u001b[39m \u001b[38;5;28;43mself\u001b[39;49m\u001b[38;5;241;43m.\u001b[39;49m\u001b[43m_make_engine\u001b[49m\u001b[43m(\u001b[49m\u001b[43mf\u001b[49m\u001b[43m,\u001b[49m\u001b[43m \u001b[49m\u001b[38;5;28;43mself\u001b[39;49m\u001b[38;5;241;43m.\u001b[39;49m\u001b[43mengine\u001b[49m\u001b[43m)\u001b[49m\n",
      "File \u001b[0;32m~/Documents/env_default/lib/python3.10/site-packages/pandas/io/parsers/readers.py:1216\u001b[0m, in \u001b[0;36mTextFileReader._make_engine\u001b[0;34m(self, f, engine)\u001b[0m\n\u001b[1;32m   1212\u001b[0m     mode \u001b[38;5;241m=\u001b[39m \u001b[38;5;124m\"\u001b[39m\u001b[38;5;124mrb\u001b[39m\u001b[38;5;124m\"\u001b[39m\n\u001b[1;32m   1213\u001b[0m \u001b[38;5;66;03m# error: No overload variant of \"get_handle\" matches argument types\u001b[39;00m\n\u001b[1;32m   1214\u001b[0m \u001b[38;5;66;03m# \"Union[str, PathLike[str], ReadCsvBuffer[bytes], ReadCsvBuffer[str]]\"\u001b[39;00m\n\u001b[1;32m   1215\u001b[0m \u001b[38;5;66;03m# , \"str\", \"bool\", \"Any\", \"Any\", \"Any\", \"Any\", \"Any\"\u001b[39;00m\n\u001b[0;32m-> 1216\u001b[0m \u001b[38;5;28mself\u001b[39m\u001b[38;5;241m.\u001b[39mhandles \u001b[38;5;241m=\u001b[39m \u001b[43mget_handle\u001b[49m\u001b[43m(\u001b[49m\u001b[43m  \u001b[49m\u001b[38;5;66;43;03m# type: ignore[call-overload]\u001b[39;49;00m\n\u001b[1;32m   1217\u001b[0m \u001b[43m    \u001b[49m\u001b[43mf\u001b[49m\u001b[43m,\u001b[49m\n\u001b[1;32m   1218\u001b[0m \u001b[43m    \u001b[49m\u001b[43mmode\u001b[49m\u001b[43m,\u001b[49m\n\u001b[1;32m   1219\u001b[0m \u001b[43m    \u001b[49m\u001b[43mencoding\u001b[49m\u001b[38;5;241;43m=\u001b[39;49m\u001b[38;5;28;43mself\u001b[39;49m\u001b[38;5;241;43m.\u001b[39;49m\u001b[43moptions\u001b[49m\u001b[38;5;241;43m.\u001b[39;49m\u001b[43mget\u001b[49m\u001b[43m(\u001b[49m\u001b[38;5;124;43m\"\u001b[39;49m\u001b[38;5;124;43mencoding\u001b[39;49m\u001b[38;5;124;43m\"\u001b[39;49m\u001b[43m,\u001b[49m\u001b[43m \u001b[49m\u001b[38;5;28;43;01mNone\u001b[39;49;00m\u001b[43m)\u001b[49m\u001b[43m,\u001b[49m\n\u001b[1;32m   1220\u001b[0m \u001b[43m    \u001b[49m\u001b[43mcompression\u001b[49m\u001b[38;5;241;43m=\u001b[39;49m\u001b[38;5;28;43mself\u001b[39;49m\u001b[38;5;241;43m.\u001b[39;49m\u001b[43moptions\u001b[49m\u001b[38;5;241;43m.\u001b[39;49m\u001b[43mget\u001b[49m\u001b[43m(\u001b[49m\u001b[38;5;124;43m\"\u001b[39;49m\u001b[38;5;124;43mcompression\u001b[39;49m\u001b[38;5;124;43m\"\u001b[39;49m\u001b[43m,\u001b[49m\u001b[43m \u001b[49m\u001b[38;5;28;43;01mNone\u001b[39;49;00m\u001b[43m)\u001b[49m\u001b[43m,\u001b[49m\n\u001b[1;32m   1221\u001b[0m \u001b[43m    \u001b[49m\u001b[43mmemory_map\u001b[49m\u001b[38;5;241;43m=\u001b[39;49m\u001b[38;5;28;43mself\u001b[39;49m\u001b[38;5;241;43m.\u001b[39;49m\u001b[43moptions\u001b[49m\u001b[38;5;241;43m.\u001b[39;49m\u001b[43mget\u001b[49m\u001b[43m(\u001b[49m\u001b[38;5;124;43m\"\u001b[39;49m\u001b[38;5;124;43mmemory_map\u001b[39;49m\u001b[38;5;124;43m\"\u001b[39;49m\u001b[43m,\u001b[49m\u001b[43m \u001b[49m\u001b[38;5;28;43;01mFalse\u001b[39;49;00m\u001b[43m)\u001b[49m\u001b[43m,\u001b[49m\n\u001b[1;32m   1222\u001b[0m \u001b[43m    \u001b[49m\u001b[43mis_text\u001b[49m\u001b[38;5;241;43m=\u001b[39;49m\u001b[43mis_text\u001b[49m\u001b[43m,\u001b[49m\n\u001b[1;32m   1223\u001b[0m \u001b[43m    \u001b[49m\u001b[43merrors\u001b[49m\u001b[38;5;241;43m=\u001b[39;49m\u001b[38;5;28;43mself\u001b[39;49m\u001b[38;5;241;43m.\u001b[39;49m\u001b[43moptions\u001b[49m\u001b[38;5;241;43m.\u001b[39;49m\u001b[43mget\u001b[49m\u001b[43m(\u001b[49m\u001b[38;5;124;43m\"\u001b[39;49m\u001b[38;5;124;43mencoding_errors\u001b[39;49m\u001b[38;5;124;43m\"\u001b[39;49m\u001b[43m,\u001b[49m\u001b[43m \u001b[49m\u001b[38;5;124;43m\"\u001b[39;49m\u001b[38;5;124;43mstrict\u001b[39;49m\u001b[38;5;124;43m\"\u001b[39;49m\u001b[43m)\u001b[49m\u001b[43m,\u001b[49m\n\u001b[1;32m   1224\u001b[0m \u001b[43m    \u001b[49m\u001b[43mstorage_options\u001b[49m\u001b[38;5;241;43m=\u001b[39;49m\u001b[38;5;28;43mself\u001b[39;49m\u001b[38;5;241;43m.\u001b[39;49m\u001b[43moptions\u001b[49m\u001b[38;5;241;43m.\u001b[39;49m\u001b[43mget\u001b[49m\u001b[43m(\u001b[49m\u001b[38;5;124;43m\"\u001b[39;49m\u001b[38;5;124;43mstorage_options\u001b[39;49m\u001b[38;5;124;43m\"\u001b[39;49m\u001b[43m,\u001b[49m\u001b[43m \u001b[49m\u001b[38;5;28;43;01mNone\u001b[39;49;00m\u001b[43m)\u001b[49m\u001b[43m,\u001b[49m\n\u001b[1;32m   1225\u001b[0m \u001b[43m\u001b[49m\u001b[43m)\u001b[49m\n\u001b[1;32m   1226\u001b[0m \u001b[38;5;28;01massert\u001b[39;00m \u001b[38;5;28mself\u001b[39m\u001b[38;5;241m.\u001b[39mhandles \u001b[38;5;129;01mis\u001b[39;00m \u001b[38;5;129;01mnot\u001b[39;00m \u001b[38;5;28;01mNone\u001b[39;00m\n\u001b[1;32m   1227\u001b[0m f \u001b[38;5;241m=\u001b[39m \u001b[38;5;28mself\u001b[39m\u001b[38;5;241m.\u001b[39mhandles\u001b[38;5;241m.\u001b[39mhandle\n",
      "File \u001b[0;32m~/Documents/env_default/lib/python3.10/site-packages/pandas/io/common.py:786\u001b[0m, in \u001b[0;36mget_handle\u001b[0;34m(path_or_buf, mode, encoding, compression, memory_map, is_text, errors, storage_options)\u001b[0m\n\u001b[1;32m    781\u001b[0m \u001b[38;5;28;01melif\u001b[39;00m \u001b[38;5;28misinstance\u001b[39m(handle, \u001b[38;5;28mstr\u001b[39m):\n\u001b[1;32m    782\u001b[0m     \u001b[38;5;66;03m# Check whether the filename is to be opened in binary mode.\u001b[39;00m\n\u001b[1;32m    783\u001b[0m     \u001b[38;5;66;03m# Binary mode does not support 'encoding' and 'newline'.\u001b[39;00m\n\u001b[1;32m    784\u001b[0m     \u001b[38;5;28;01mif\u001b[39;00m ioargs\u001b[38;5;241m.\u001b[39mencoding \u001b[38;5;129;01mand\u001b[39;00m \u001b[38;5;124m\"\u001b[39m\u001b[38;5;124mb\u001b[39m\u001b[38;5;124m\"\u001b[39m \u001b[38;5;129;01mnot\u001b[39;00m \u001b[38;5;129;01min\u001b[39;00m ioargs\u001b[38;5;241m.\u001b[39mmode:\n\u001b[1;32m    785\u001b[0m         \u001b[38;5;66;03m# Encoding\u001b[39;00m\n\u001b[0;32m--> 786\u001b[0m         handle \u001b[38;5;241m=\u001b[39m \u001b[38;5;28;43mopen\u001b[39;49m\u001b[43m(\u001b[49m\n\u001b[1;32m    787\u001b[0m \u001b[43m            \u001b[49m\u001b[43mhandle\u001b[49m\u001b[43m,\u001b[49m\n\u001b[1;32m    788\u001b[0m \u001b[43m            \u001b[49m\u001b[43mioargs\u001b[49m\u001b[38;5;241;43m.\u001b[39;49m\u001b[43mmode\u001b[49m\u001b[43m,\u001b[49m\n\u001b[1;32m    789\u001b[0m \u001b[43m            \u001b[49m\u001b[43mencoding\u001b[49m\u001b[38;5;241;43m=\u001b[39;49m\u001b[43mioargs\u001b[49m\u001b[38;5;241;43m.\u001b[39;49m\u001b[43mencoding\u001b[49m\u001b[43m,\u001b[49m\n\u001b[1;32m    790\u001b[0m \u001b[43m            \u001b[49m\u001b[43merrors\u001b[49m\u001b[38;5;241;43m=\u001b[39;49m\u001b[43merrors\u001b[49m\u001b[43m,\u001b[49m\n\u001b[1;32m    791\u001b[0m \u001b[43m            \u001b[49m\u001b[43mnewline\u001b[49m\u001b[38;5;241;43m=\u001b[39;49m\u001b[38;5;124;43m\"\u001b[39;49m\u001b[38;5;124;43m\"\u001b[39;49m\u001b[43m,\u001b[49m\n\u001b[1;32m    792\u001b[0m \u001b[43m        \u001b[49m\u001b[43m)\u001b[49m\n\u001b[1;32m    793\u001b[0m     \u001b[38;5;28;01melse\u001b[39;00m:\n\u001b[1;32m    794\u001b[0m         \u001b[38;5;66;03m# Binary mode\u001b[39;00m\n\u001b[1;32m    795\u001b[0m         handle \u001b[38;5;241m=\u001b[39m \u001b[38;5;28mopen\u001b[39m(handle, ioargs\u001b[38;5;241m.\u001b[39mmode)\n",
      "\u001b[0;31mFileNotFoundError\u001b[0m: [Errno 2] No such file or directory: '../Data/Kaggle/Titanic/kaggle_titanic_train.csv'"
     ]
    }
   ],
   "source": [
    "df_train = pd.read_csv(os.path.join(datapath,'kaggle_titanic_train.csv'))\n",
    "# df_test = pd.read_csv(os.path.join(datapath,'kaggle_titanic_test.csv')) No labels"
   ]
  },
  {
   "cell_type": "code",
   "execution_count": null,
   "metadata": {
    "application/vnd.databricks.v1+cell": {
     "inputWidgets": {},
     "nuid": "54354afb-e3fe-4306-a7e2-4a37502bf055",
     "showTitle": false,
     "title": ""
    },
    "colab": {
     "base_uri": "https://localhost:8080/",
     "height": 255
    },
    "id": "4jvf7Gvgw-wW",
    "outputId": "a36230da-5467-499e-ffb3-7bd01a21d260"
   },
   "outputs": [],
   "source": [
    "df_train.head()"
   ]
  },
  {
   "cell_type": "code",
   "execution_count": null,
   "metadata": {
    "application/vnd.databricks.v1+cell": {
     "inputWidgets": {},
     "nuid": "70d1993d-a724-4022-912d-2f50175c7a5c",
     "showTitle": false,
     "title": ""
    },
    "colab": {
     "base_uri": "https://localhost:8080/"
    },
    "id": "m4FbUOwLw-wb",
    "outputId": "6a32fb13-e997-496f-a68f-adfca99e468c"
   },
   "outputs": [],
   "source": [
    "df_train.info(verbose=True, show_counts=True)"
   ]
  },
  {
   "cell_type": "code",
   "execution_count": null,
   "metadata": {
    "application/vnd.databricks.v1+cell": {
     "inputWidgets": {},
     "nuid": "f15bade4-007b-4344-b466-d67a2b19ef7a",
     "showTitle": false,
     "title": ""
    }
   },
   "outputs": [],
   "source": [
    "#print(df_train.columns)\n",
    "print(df_train.select_dtypes(include='number').columns)\n",
    "print(df_train.select_dtypes(include='object').columns)\n",
    "print(df_train.select_dtypes(include='category').columns)"
   ]
  },
  {
   "cell_type": "code",
   "execution_count": null,
   "metadata": {
    "application/vnd.databricks.v1+cell": {
     "inputWidgets": {},
     "nuid": "d3bcb5c6-8dfb-4b4d-9af9-6a6bbdd527d2",
     "showTitle": false,
     "title": ""
    },
    "colab": {
     "base_uri": "https://localhost:8080/"
    },
    "id": "XLP8v8r4w-we",
    "outputId": "9ba73670-a9da-4ac7-ef7c-32a03dacbb30"
   },
   "outputs": [],
   "source": [
    "print(df_train.dtypes)\n",
    "#print(df_train.dtypes[df_train.dtypes.map(lambda x: x =='int64')])\n",
    "#print(df_train.dtypes[df_train.dtypes.map(lambda x: x =='float64')])\n",
    "#print(df_train.dtypes[df_train.dtypes.map(lambda x: x =='object')])"
   ]
  },
  {
   "cell_type": "code",
   "execution_count": null,
   "metadata": {
    "application/vnd.databricks.v1+cell": {
     "inputWidgets": {},
     "nuid": "daf7fae6-5489-4627-a7af-c12d58258752",
     "showTitle": false,
     "title": ""
    },
    "colab": {
     "base_uri": "https://localhost:8080/"
    },
    "id": "aLXXwmErw-wt",
    "outputId": "31e6c7d2-eaae-4cd0-b37f-df91568d99a7"
   },
   "outputs": [],
   "source": [
    "for cat in df_train.columns:\n",
    "    print(f\"Number of levels in category '{cat}': \\b {df_train[cat].unique().size:2.2f} \")"
   ]
  },
  {
   "cell_type": "markdown",
   "metadata": {
    "application/vnd.databricks.v1+cell": {
     "inputWidgets": {},
     "nuid": "ccb5be54-31d6-486a-b75f-6a50140a9820",
     "showTitle": false,
     "title": ""
    },
    "id": "8-PEsav-w-ww"
   },
   "source": [
    "## 2.1 - Examining the numeric values"
   ]
  },
  {
   "cell_type": "code",
   "execution_count": null,
   "metadata": {
    "application/vnd.databricks.v1+cell": {
     "inputWidgets": {},
     "nuid": "d531eee7-2f40-4122-877c-1c17904c3f3f",
     "showTitle": false,
     "title": ""
    },
    "colab": {
     "base_uri": "https://localhost:8080/",
     "height": 297
    },
    "id": "A-96Mna2w-wx",
    "outputId": "92b33cb0-dde2-43ed-e8b5-db4a99d99b35"
   },
   "outputs": [],
   "source": [
    "df_train.describe()"
   ]
  },
  {
   "cell_type": "markdown",
   "metadata": {
    "application/vnd.databricks.v1+cell": {
     "inputWidgets": {},
     "nuid": "9f24d154-9dda-42ed-bb03-fdf1c4a68841",
     "showTitle": false,
     "title": ""
    },
    "id": "O9G-qVaZw-w0"
   },
   "source": [
    "## 2.2 - Examining the categorical values (first 20)"
   ]
  },
  {
   "cell_type": "code",
   "execution_count": 6,
   "metadata": {
    "application/vnd.databricks.v1+cell": {
     "inputWidgets": {},
     "nuid": "c595154b-580b-4745-b92d-85ec1e25b31e",
     "showTitle": false,
     "title": ""
    },
    "colab": {
     "base_uri": "https://localhost:8080/"
    },
    "id": "31VTS6PHw-w0",
    "outputId": "8119919e-1475-414b-b988-95e7ba999e2e"
   },
   "outputs": [
    {
     "ename": "NameError",
     "evalue": "name 'df_train' is not defined",
     "output_type": "error",
     "traceback": [
      "\u001b[0;31m---------------------------------------------------------------------------\u001b[0m",
      "\u001b[0;31mNameError\u001b[0m                                 Traceback (most recent call last)",
      "Input \u001b[0;32mIn [6]\u001b[0m, in \u001b[0;36m<cell line: 3>\u001b[0;34m()\u001b[0m\n\u001b[1;32m      1\u001b[0m \u001b[38;5;66;03m# There are many values for name and ticket\u001b[39;00m\n\u001b[0;32m----> 3\u001b[0m \u001b[38;5;28;01mfor\u001b[39;00m cat \u001b[38;5;129;01min\u001b[39;00m \u001b[43mdf_train\u001b[49m\u001b[38;5;241m.\u001b[39mselect_dtypes(include\u001b[38;5;241m=\u001b[39m\u001b[38;5;124m'\u001b[39m\u001b[38;5;124mobject\u001b[39m\u001b[38;5;124m'\u001b[39m)\u001b[38;5;241m.\u001b[39mcolumns:\n\u001b[1;32m      4\u001b[0m     \u001b[38;5;28mprint\u001b[39m(\u001b[38;5;124mf\u001b[39m\u001b[38;5;124m\"\u001b[39m\u001b[38;5;124mUnique values for category \u001b[39m\u001b[38;5;124m'\u001b[39m\u001b[38;5;132;01m{\u001b[39;00mcat\u001b[38;5;132;01m}\u001b[39;00m\u001b[38;5;124m'\u001b[39m\u001b[38;5;124m: \u001b[39m\u001b[38;5;130;01m\\b\u001b[39;00m\u001b[38;5;124m \u001b[39m\u001b[38;5;132;01m{\u001b[39;00mdf_train[cat]\u001b[38;5;241m.\u001b[39munique()[\u001b[38;5;241m0\u001b[39m:\u001b[38;5;241m20\u001b[39m]\u001b[38;5;132;01m}\u001b[39;00m\u001b[38;5;130;01m\\n\u001b[39;00m\u001b[38;5;124m\"\u001b[39m)\n",
      "\u001b[0;31mNameError\u001b[0m: name 'df_train' is not defined"
     ]
    }
   ],
   "source": [
    "# There are many values for name and ticket\n",
    "\n",
    "for cat in df_train.select_dtypes(include='object').columns:\n",
    "    print(f\"Unique values for category '{cat}': \\b {df_train[cat].unique()[0:20]}\\n\")"
   ]
  },
  {
   "cell_type": "markdown",
   "metadata": {
    "application/vnd.databricks.v1+cell": {
     "inputWidgets": {},
     "nuid": "a8776002-4441-4e08-be75-02f845ecdb27",
     "showTitle": false,
     "title": ""
    }
   },
   "source": [
    "## 2.3 - Checking for missing values  \n",
    "This part demands a closer look to check if there are missing values not immediately identifiable"
   ]
  },
  {
   "cell_type": "code",
   "execution_count": null,
   "metadata": {
    "application/vnd.databricks.v1+cell": {
     "inputWidgets": {},
     "nuid": "eb0cacc5-1ec2-435d-af9e-322020b84f6f",
     "showTitle": false,
     "title": ""
    }
   },
   "outputs": [
    {
     "data": {
      "text/plain": [
       "Out[348]: PassengerId      0\n",
       "Survived         0\n",
       "Pclass           0\n",
       "Name             0\n",
       "Sex              0\n",
       "Age            177\n",
       "SibSp            0\n",
       "Parch            0\n",
       "Ticket           0\n",
       "Fare             0\n",
       "Cabin          687\n",
       "Embarked         2\n",
       "dtype: int64"
      ]
     },
     "metadata": {
      "application/vnd.databricks.v1+output": {
       "addedWidgets": {},
       "arguments": {},
       "data": "Out[348]: PassengerId      0\nSurvived         0\nPclass           0\nName             0\nSex              0\nAge            177\nSibSp            0\nParch            0\nTicket           0\nFare             0\nCabin          687\nEmbarked         2\ndtype: int64",
       "datasetInfos": [],
       "metadata": {},
       "removedWidgets": [],
       "type": "ansi"
      }
     },
     "output_type": "display_data"
    }
   ],
   "source": [
    "df_train.isnull().sum()"
   ]
  },
  {
   "cell_type": "code",
   "execution_count": null,
   "metadata": {
    "application/vnd.databricks.v1+cell": {
     "inputWidgets": {},
     "nuid": "073ee078-58fc-445b-9bb7-16acdb133359",
     "showTitle": false,
     "title": ""
    }
   },
   "outputs": [
    {
     "data": {
      "text/html": [
       "<div>\n",
       "<style scoped>\n",
       "    .dataframe tbody tr th:only-of-type {\n",
       "        vertical-align: middle;\n",
       "    }\n",
       "\n",
       "    .dataframe tbody tr th {\n",
       "        vertical-align: top;\n",
       "    }\n",
       "\n",
       "    .dataframe thead th {\n",
       "        text-align: right;\n",
       "    }\n",
       "</style>\n",
       "<table border=\"1\" class=\"dataframe\">\n",
       "  <thead>\n",
       "    <tr style=\"text-align: right;\">\n",
       "      <th></th>\n",
       "      <th>Total</th>\n",
       "      <th>%</th>\n",
       "    </tr>\n",
       "  </thead>\n",
       "  <tbody>\n",
       "    <tr>\n",
       "      <th>Cabin</th>\n",
       "      <td>687</td>\n",
       "      <td>77.1</td>\n",
       "    </tr>\n",
       "    <tr>\n",
       "      <th>Age</th>\n",
       "      <td>177</td>\n",
       "      <td>19.9</td>\n",
       "    </tr>\n",
       "    <tr>\n",
       "      <th>Embarked</th>\n",
       "      <td>2</td>\n",
       "      <td>0.2</td>\n",
       "    </tr>\n",
       "    <tr>\n",
       "      <th>PassengerId</th>\n",
       "      <td>0</td>\n",
       "      <td>0.0</td>\n",
       "    </tr>\n",
       "    <tr>\n",
       "      <th>Survived</th>\n",
       "      <td>0</td>\n",
       "      <td>0.0</td>\n",
       "    </tr>\n",
       "  </tbody>\n",
       "</table>\n",
       "</div>"
      ]
     },
     "metadata": {
      "application/vnd.databricks.v1+output": {
       "addedWidgets": {},
       "arguments": {},
       "data": "<div>\n<style scoped>\n    .dataframe tbody tr th:only-of-type {\n        vertical-align: middle;\n    }\n\n    .dataframe tbody tr th {\n        vertical-align: top;\n    }\n\n    .dataframe thead th {\n        text-align: right;\n    }\n</style>\n<table border=\"1\" class=\"dataframe\">\n  <thead>\n    <tr style=\"text-align: right;\">\n      <th></th>\n      <th>Total</th>\n      <th>%</th>\n    </tr>\n  </thead>\n  <tbody>\n    <tr>\n      <th>Cabin</th>\n      <td>687</td>\n      <td>77.1</td>\n    </tr>\n    <tr>\n      <th>Age</th>\n      <td>177</td>\n      <td>19.9</td>\n    </tr>\n    <tr>\n      <th>Embarked</th>\n      <td>2</td>\n      <td>0.2</td>\n    </tr>\n    <tr>\n      <th>PassengerId</th>\n      <td>0</td>\n      <td>0.0</td>\n    </tr>\n    <tr>\n      <th>Survived</th>\n      <td>0</td>\n      <td>0.0</td>\n    </tr>\n  </tbody>\n</table>\n</div>",
       "datasetInfos": [],
       "metadata": {},
       "removedWidgets": [],
       "textData": null,
       "type": "htmlSandbox"
      }
     },
     "output_type": "display_data"
    }
   ],
   "source": [
    "total = df_train.isnull().sum().sort_values(ascending=False)\n",
    "percent_1 = df_train.isnull().sum()/df_train.isnull().count()*100\n",
    "percent_2 = (round(percent_1, 1)).sort_values(ascending=False)\n",
    "missing_data = pd.concat([total, percent_2], axis=1, keys=['Total', '%'])\n",
    "missing_data.head(5)"
   ]
  },
  {
   "cell_type": "code",
   "execution_count": null,
   "metadata": {
    "application/vnd.databricks.v1+cell": {
     "inputWidgets": {},
     "nuid": "1087cc69-6b5a-4c0d-811e-79b62d7af742",
     "showTitle": false,
     "title": ""
    }
   },
   "outputs": [
    {
     "data": {
      "text/plain": [
       "Out[350]: <AxesSubplot:>"
      ]
     },
     "metadata": {
      "application/vnd.databricks.v1+output": {
       "addedWidgets": {},
       "arguments": {},
       "data": "Out[350]: <AxesSubplot:>",
       "datasetInfos": [],
       "metadata": {},
       "removedWidgets": [],
       "type": "ansi"
      }
     },
     "output_type": "display_data"
    },
    {
     "data": {
      "image/png": "[encoded data removed]"
     },
     "metadata": {
      "application/vnd.databricks.v1+output": {
       "addedWidgets": {},
       "arguments": {},
       "data": "data:image/png;base64,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\n",
       "datasetInfos": [],
       "metadata": {},
       "removedWidgets": [],
       "type": "image"
      }
     },
     "output_type": "display_data"
    }
   ],
   "source": [
    "plt.figure(figsize=(12,6))\n",
    "sns.heatmap(df_train.isnull(),cbar=False,cmap='viridis')"
   ]
  },
  {
   "cell_type": "code",
   "execution_count": null,
   "metadata": {
    "application/vnd.databricks.v1+cell": {
     "inputWidgets": {},
     "nuid": "4f3d9529-cabb-4a1c-a57b-6ec622e46212",
     "showTitle": false,
     "title": ""
    }
   },
   "outputs": [],
   "source": [
    "#!pip install missingno\n",
    "import missingno as msno"
   ]
  },
  {
   "cell_type": "code",
   "execution_count": null,
   "metadata": {
    "application/vnd.databricks.v1+cell": {
     "inputWidgets": {},
     "nuid": "2b298046-bc1e-4cea-9b4c-492eae98ec82",
     "showTitle": false,
     "title": ""
    }
   },
   "outputs": [
    {
     "data": {
      "text/plain": [
       "Out[352]: <AxesSubplot:>"
      ]
     },
     "metadata": {
      "application/vnd.databricks.v1+output": {
       "addedWidgets": {},
       "arguments": {},
       "data": "Out[352]: <AxesSubplot:>",
       "datasetInfos": [],
       "metadata": {},
       "removedWidgets": [],
       "type": "ansi"
      }
     },
     "output_type": "display_data"
    },
    {
     "data": {
      "image/png": "[encoded data removed]"
     },
     "metadata": {
      "application/vnd.databricks.v1+output": {
       "addedWidgets": {},
       "arguments": {},
       "data": "data:image/png;base64,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\n",
       "datasetInfos": [],
       "metadata": {},
       "removedWidgets": [],
       "type": "image"
      }
     },
     "output_type": "display_data"
    }
   ],
   "source": [
    "msno.bar(df_train, figsize=(12,6))"
   ]
  },
  {
   "cell_type": "code",
   "execution_count": null,
   "metadata": {
    "application/vnd.databricks.v1+cell": {
     "inputWidgets": {},
     "nuid": "fa11d5dd-ec40-43de-b5b6-a63be6fb913a",
     "showTitle": false,
     "title": ""
    }
   },
   "outputs": [
    {
     "data": {
      "text/plain": [
       "Out[353]: <AxesSubplot:>"
      ]
     },
     "metadata": {
      "application/vnd.databricks.v1+output": {
       "addedWidgets": {},
       "arguments": {},
       "data": "Out[353]: <AxesSubplot:>",
       "datasetInfos": [],
       "metadata": {},
       "removedWidgets": [],
       "type": "ansi"
      }
     },
     "output_type": "display_data"
    },
    {
     "data": {
      "image/png": "[encoded data removed]"
     },
     "metadata": {
      "application/vnd.databricks.v1+output": {
       "addedWidgets": {},
       "arguments": {},
       "data": "data:image/png;base64,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\n",
       "datasetInfos": [],
       "metadata": {},
       "removedWidgets": [],
       "type": "image"
      }
     },
     "output_type": "display_data"
    }
   ],
   "source": [
    "msno.matrix(df_train, figsize=(12,6))"
   ]
  },
  {
   "cell_type": "code",
   "execution_count": null,
   "metadata": {
    "application/vnd.databricks.v1+cell": {
     "inputWidgets": {},
     "nuid": "37f59846-0600-48e9-a03f-a509f8d0e9fe",
     "showTitle": false,
     "title": ""
    }
   },
   "outputs": [
    {
     "data": {
      "text/plain": [
       "Out[354]: <AxesSubplot:>"
      ]
     },
     "metadata": {
      "application/vnd.databricks.v1+output": {
       "addedWidgets": {},
       "arguments": {},
       "data": "Out[354]: <AxesSubplot:>",
       "datasetInfos": [],
       "metadata": {},
       "removedWidgets": [],
       "type": "ansi"
      }
     },
     "output_type": "display_data"
    },
    {
     "data": {
      "image/png": "[encoded data removed]"
     },
     "metadata": {
      "application/vnd.databricks.v1+output": {
       "addedWidgets": {},
       "arguments": {},
       "data": "data:image/png;base64,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\n",
       "datasetInfos": [],
       "metadata": {},
       "removedWidgets": [],
       "type": "image"
      }
     },
     "output_type": "display_data"
    }
   ],
   "source": [
    "msno.heatmap(df_train, figsize=(12,6))"
   ]
  },
  {
   "cell_type": "code",
   "execution_count": null,
   "metadata": {
    "application/vnd.databricks.v1+cell": {
     "inputWidgets": {},
     "nuid": "b01a8725-6982-4dc6-9a19-e615779640d8",
     "showTitle": false,
     "title": ""
    }
   },
   "outputs": [
    {
     "data": {
      "text/plain": [
       "Out[355]: <AxesSubplot:>"
      ]
     },
     "metadata": {
      "application/vnd.databricks.v1+output": {
       "addedWidgets": {},
       "arguments": {},
       "data": "Out[355]: <AxesSubplot:>",
       "datasetInfos": [],
       "metadata": {},
       "removedWidgets": [],
       "type": "ansi"
      }
     },
     "output_type": "display_data"
    },
    {
     "data": {
      "image/png": "[encoded data removed]"
     },
     "metadata": {
      "application/vnd.databricks.v1+output": {
       "addedWidgets": {},
       "arguments": {},
       "data": "data:image/png;base64,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\n",
       "datasetInfos": [],
       "metadata": {},
       "removedWidgets": [],
       "type": "image"
      }
     },
     "output_type": "display_data"
    }
   ],
   "source": [
    "msno.dendrogram(df_train, figsize=(12,6))"
   ]
  },
  {
   "cell_type": "markdown",
   "metadata": {
    "application/vnd.databricks.v1+cell": {
     "inputWidgets": {},
     "nuid": "94a48acc-43e6-4436-9262-91a6c219619b",
     "showTitle": false,
     "title": ""
    }
   },
   "source": [
    "# 3 - Data Transformations\n",
    " + Creating Train and Validation sets\n",
    " + Encoding Categorical Fields (Sex, Embarked, Name, Ticket, Cabin) \n",
    " + Decide how to fill the Missing Values (Embarked, Cabin, Age)  \n",
    " + Standardizing Numerical Fields (Age, Pclass, SibSp, Parch, Fare) + Encoded Categorical Fields\n",
    " + Encoding Target variable (Survived))¶"
   ]
  },
  {
   "cell_type": "code",
   "execution_count": null,
   "metadata": {
    "application/vnd.databricks.v1+cell": {
     "inputWidgets": {},
     "nuid": "92cf2ea8-9875-489a-9fff-21783c59a5c8",
     "showTitle": false,
     "title": ""
    }
   },
   "outputs": [],
   "source": [
    "# https://scikit-learn.org/stable/modules/cross_validation.html\n",
    "from sklearn import model_selection\n",
    "\n",
    "# https://scikit-learn.org/stable/modules/generated/sklearn.preprocessing.OneHotEncoder.html\n",
    "from sklearn.preprocessing import OneHotEncoder\n",
    "\n",
    "# https://scikit-learn.org/stable/modules/impute.html\n",
    "from sklearn.impute import SimpleImputer\n",
    "\n",
    "# https://scikit-learn.org/stable/modules/generated/sklearn.impute.IterativeImputer.html\n",
    "from sklearn.experimental import enable_iterative_imputer \n",
    "from sklearn.impute import IterativeImputer\n",
    "\n",
    "# https://scikit-learn.org/stable/modules/generated/sklearn.preprocessing.LabelBinarizer.html\n",
    "from sklearn.preprocessing import LabelBinarizer"
   ]
  },
  {
   "cell_type": "markdown",
   "metadata": {
    "application/vnd.databricks.v1+cell": {
     "inputWidgets": {},
     "nuid": "afab969f-710b-41c9-8393-c20f3b4226c8",
     "showTitle": false,
     "title": ""
    },
    "id": "fu0y6ZNaw-zJ"
   },
   "source": [
    "## 3.1 - Creating cross-validation subsets:"
   ]
  },
  {
   "cell_type": "code",
   "execution_count": null,
   "metadata": {
    "application/vnd.databricks.v1+cell": {
     "inputWidgets": {},
     "nuid": "c4c52866-5bcc-4455-8f52-b46065fbca30",
     "showTitle": false,
     "title": ""
    }
   },
   "outputs": [
    {
     "data": {
      "text/plain": [
       "Out[357]: 0      0\n",
       "1      1\n",
       "2      1\n",
       "3      1\n",
       "4      0\n",
       "      ..\n",
       "886    0\n",
       "887    1\n",
       "888    0\n",
       "889    1\n",
       "890    0\n",
       "Name: Survived, Length: 891, dtype: int64"
      ]
     },
     "metadata": {
      "application/vnd.databricks.v1+output": {
       "addedWidgets": {},
       "arguments": {},
       "data": "Out[357]: 0      0\n1      1\n2      1\n3      1\n4      0\n      ..\n886    0\n887    1\n888    0\n889    1\n890    0\nName: Survived, Length: 891, dtype: int64",
       "datasetInfos": [],
       "metadata": {},
       "removedWidgets": [],
       "type": "ansi"
      }
     },
     "output_type": "display_data"
    }
   ],
   "source": [
    "df_train.drop([\"PassengerId\"], axis=1, inplace=True)\n",
    "y = df_train.pop(\"Survived\")\n",
    "y"
   ]
  },
  {
   "cell_type": "code",
   "execution_count": null,
   "metadata": {
    "application/vnd.databricks.v1+cell": {
     "inputWidgets": {},
     "nuid": "a819c5c8-9b73-4526-92aa-6bf20f5f6408",
     "showTitle": false,
     "title": ""
    },
    "id": "y-UEogkrw-zK"
   },
   "outputs": [
    {
     "data": {
      "text/plain": [
       "(712, 10)\n",
       "(179, 10)\n",
       "(712,)\n",
       "(179,)\n"
      ]
     },
     "metadata": {
      "application/vnd.databricks.v1+output": {
       "addedWidgets": {},
       "arguments": {},
       "data": "(712, 10)\n(179, 10)\n(712,)\n(179,)\n",
       "datasetInfos": [],
       "metadata": {},
       "removedWidgets": [],
       "type": "ansi"
      }
     },
     "output_type": "display_data"
    }
   ],
   "source": [
    "X_train, X_test, y_train, y_test = model_selection.train_test_split(df_train, y, test_size=0.2, random_state=0)\n",
    "\n",
    "X_train.reset_index(drop=True, inplace=True)\n",
    "X_test.reset_index(drop=True, inplace=True)\n",
    "y_train.reset_index(drop=True, inplace=True)\n",
    "y_test.reset_index(drop=True, inplace=True)\n",
    "\n",
    "print(X_train.shape)\n",
    "print(X_test.shape)\n",
    "print(y_train.shape)\n",
    "print(y_test.shape)"
   ]
  },
  {
   "cell_type": "code",
   "execution_count": null,
   "metadata": {
    "application/vnd.databricks.v1+cell": {
     "inputWidgets": {},
     "nuid": "3b4d3211-f296-4995-a0e5-0881cc86cf76",
     "showTitle": false,
     "title": ""
    }
   },
   "outputs": [
    {
     "data": {
      "text/html": [
       "<div>\n",
       "<style scoped>\n",
       "    .dataframe tbody tr th:only-of-type {\n",
       "        vertical-align: middle;\n",
       "    }\n",
       "\n",
       "    .dataframe tbody tr th {\n",
       "        vertical-align: top;\n",
       "    }\n",
       "\n",
       "    .dataframe thead th {\n",
       "        text-align: right;\n",
       "    }\n",
       "</style>\n",
       "<table border=\"1\" class=\"dataframe\">\n",
       "  <thead>\n",
       "    <tr style=\"text-align: right;\">\n",
       "      <th></th>\n",
       "      <th>Pclass</th>\n",
       "      <th>Name</th>\n",
       "      <th>Sex</th>\n",
       "      <th>Age</th>\n",
       "      <th>SibSp</th>\n",
       "      <th>Parch</th>\n",
       "      <th>Ticket</th>\n",
       "      <th>Fare</th>\n",
       "      <th>Cabin</th>\n",
       "      <th>Embarked</th>\n",
       "    </tr>\n",
       "  </thead>\n",
       "  <tbody>\n",
       "    <tr>\n",
       "      <th>0</th>\n",
       "      <td>3</td>\n",
       "      <td>Boulos, Mrs. Joseph (Sultana)</td>\n",
       "      <td>female</td>\n",
       "      <td>NaN</td>\n",
       "      <td>0</td>\n",
       "      <td>2</td>\n",
       "      <td>2678</td>\n",
       "      <td>15.2458</td>\n",
       "      <td>NaN</td>\n",
       "      <td>C</td>\n",
       "    </tr>\n",
       "    <tr>\n",
       "      <th>1</th>\n",
       "      <td>2</td>\n",
       "      <td>Kvillner, Mr. Johan Henrik Johannesson</td>\n",
       "      <td>male</td>\n",
       "      <td>31.0</td>\n",
       "      <td>0</td>\n",
       "      <td>0</td>\n",
       "      <td>C.A. 18723</td>\n",
       "      <td>10.5000</td>\n",
       "      <td>NaN</td>\n",
       "      <td>S</td>\n",
       "    </tr>\n",
       "    <tr>\n",
       "      <th>2</th>\n",
       "      <td>2</td>\n",
       "      <td>Mallet, Mr. Albert</td>\n",
       "      <td>male</td>\n",
       "      <td>31.0</td>\n",
       "      <td>1</td>\n",
       "      <td>1</td>\n",
       "      <td>S.C./PARIS 2079</td>\n",
       "      <td>37.0042</td>\n",
       "      <td>NaN</td>\n",
       "      <td>C</td>\n",
       "    </tr>\n",
       "    <tr>\n",
       "      <th>3</th>\n",
       "      <td>3</td>\n",
       "      <td>Betros, Mr. Tannous</td>\n",
       "      <td>male</td>\n",
       "      <td>20.0</td>\n",
       "      <td>0</td>\n",
       "      <td>0</td>\n",
       "      <td>2648</td>\n",
       "      <td>4.0125</td>\n",
       "      <td>NaN</td>\n",
       "      <td>C</td>\n",
       "    </tr>\n",
       "    <tr>\n",
       "      <th>4</th>\n",
       "      <td>3</td>\n",
       "      <td>Windelov, Mr. Einar</td>\n",
       "      <td>male</td>\n",
       "      <td>21.0</td>\n",
       "      <td>0</td>\n",
       "      <td>0</td>\n",
       "      <td>SOTON/OQ 3101317</td>\n",
       "      <td>7.2500</td>\n",
       "      <td>NaN</td>\n",
       "      <td>S</td>\n",
       "    </tr>\n",
       "  </tbody>\n",
       "</table>\n",
       "</div>"
      ]
     },
     "metadata": {
      "application/vnd.databricks.v1+output": {
       "addedWidgets": {},
       "arguments": {},
       "data": "<div>\n<style scoped>\n    .dataframe tbody tr th:only-of-type {\n        vertical-align: middle;\n    }\n\n    .dataframe tbody tr th {\n        vertical-align: top;\n    }\n\n    .dataframe thead th {\n        text-align: right;\n    }\n</style>\n<table border=\"1\" class=\"dataframe\">\n  <thead>\n    <tr style=\"text-align: right;\">\n      <th></th>\n      <th>Pclass</th>\n      <th>Name</th>\n      <th>Sex</th>\n      <th>Age</th>\n      <th>SibSp</th>\n      <th>Parch</th>\n      <th>Ticket</th>\n      <th>Fare</th>\n      <th>Cabin</th>\n      <th>Embarked</th>\n    </tr>\n  </thead>\n  <tbody>\n    <tr>\n      <th>0</th>\n      <td>3</td>\n      <td>Boulos, Mrs. Joseph (Sultana)</td>\n      <td>female</td>\n      <td>NaN</td>\n      <td>0</td>\n      <td>2</td>\n      <td>2678</td>\n      <td>15.2458</td>\n      <td>NaN</td>\n      <td>C</td>\n    </tr>\n    <tr>\n      <th>1</th>\n      <td>2</td>\n      <td>Kvillner, Mr. Johan Henrik Johannesson</td>\n      <td>male</td>\n      <td>31.0</td>\n      <td>0</td>\n      <td>0</td>\n      <td>C.A. 18723</td>\n      <td>10.5000</td>\n      <td>NaN</td>\n      <td>S</td>\n    </tr>\n    <tr>\n      <th>2</th>\n      <td>2</td>\n      <td>Mallet, Mr. Albert</td>\n      <td>male</td>\n      <td>31.0</td>\n      <td>1</td>\n      <td>1</td>\n      <td>S.C./PARIS 2079</td>\n      <td>37.0042</td>\n      <td>NaN</td>\n      <td>C</td>\n    </tr>\n    <tr>\n      <th>3</th>\n      <td>3</td>\n      <td>Betros, Mr. Tannous</td>\n      <td>male</td>\n      <td>20.0</td>\n      <td>0</td>\n      <td>0</td>\n      <td>2648</td>\n      <td>4.0125</td>\n      <td>NaN</td>\n      <td>C</td>\n    </tr>\n    <tr>\n      <th>4</th>\n      <td>3</td>\n      <td>Windelov, Mr. Einar</td>\n      <td>male</td>\n      <td>21.0</td>\n      <td>0</td>\n      <td>0</td>\n      <td>SOTON/OQ 3101317</td>\n      <td>7.2500</td>\n      <td>NaN</td>\n      <td>S</td>\n    </tr>\n  </tbody>\n</table>\n</div>",
       "datasetInfos": [],
       "metadata": {},
       "removedWidgets": [],
       "textData": null,
       "type": "htmlSandbox"
      }
     },
     "output_type": "display_data"
    }
   ],
   "source": [
    "X_train.head()"
   ]
  },
  {
   "cell_type": "markdown",
   "metadata": {
    "application/vnd.databricks.v1+cell": {
     "inputWidgets": {},
     "nuid": "9498d7bb-5d8a-4ee7-9250-3b445e614fb9",
     "showTitle": false,
     "title": ""
    }
   },
   "source": [
    "## 3.2 - Transforming Sex/Gender (stateful/binary)"
   ]
  },
  {
   "cell_type": "code",
   "execution_count": null,
   "metadata": {
    "application/vnd.databricks.v1+cell": {
     "inputWidgets": {},
     "nuid": "eabf40cc-24f0-4d2d-91a3-f211699527aa",
     "showTitle": false,
     "title": ""
    }
   },
   "outputs": [
    {
     "data": {
      "text/plain": [
       "Out[360]: OneHotEncoder(handle_unknown='ignore')"
      ]
     },
     "metadata": {
      "application/vnd.databricks.v1+output": {
       "addedWidgets": {},
       "arguments": {},
       "data": "Out[360]: OneHotEncoder(handle_unknown='ignore')",
       "datasetInfos": [],
       "metadata": {},
       "removedWidgets": [],
       "type": "ansi"
      }
     },
     "output_type": "display_data"
    }
   ],
   "source": [
    "enc = OneHotEncoder(handle_unknown='ignore')\n",
    "enc.fit(X_train['Sex'].values.reshape(-1, 1))"
   ]
  },
  {
   "cell_type": "code",
   "execution_count": null,
   "metadata": {
    "application/vnd.databricks.v1+cell": {
     "inputWidgets": {},
     "nuid": "e756280a-079f-4430-a21f-7384b2d35ced",
     "showTitle": false,
     "title": ""
    }
   },
   "outputs": [
    {
     "data": {
      "text/plain": [
       "Out[361]: array(['female', 'male'], dtype=object)"
      ]
     },
     "metadata": {
      "application/vnd.databricks.v1+output": {
       "addedWidgets": {},
       "arguments": {},
       "data": "Out[361]: array(['female', 'male'], dtype=object)",
       "datasetInfos": [],
       "metadata": {},
       "removedWidgets": [],
       "type": "ansi"
      }
     },
     "output_type": "display_data"
    }
   ],
   "source": [
    "enc.categories_[0]"
   ]
  },
  {
   "cell_type": "code",
   "execution_count": null,
   "metadata": {
    "application/vnd.databricks.v1+cell": {
     "inputWidgets": {},
     "nuid": "e2ba17ce-dbd9-4835-abc6-69a94ed9705f",
     "showTitle": false,
     "title": ""
    }
   },
   "outputs": [],
   "source": [
    "gender_train = pd.DataFrame(enc.transform(X_train['Sex'].values.reshape(-1, 1)).toarray(), columns=enc.categories_[0], dtype=np.int8)\n",
    "gender_test = pd.DataFrame(enc.transform(X_test['Sex'].values.reshape(-1, 1)).toarray(), columns=enc.categories_[0], dtype=np.int8)"
   ]
  },
  {
   "cell_type": "code",
   "execution_count": null,
   "metadata": {
    "application/vnd.databricks.v1+cell": {
     "inputWidgets": {},
     "nuid": "5d3dd46c-aa88-4afa-8143-ab8d9e53275f",
     "showTitle": false,
     "title": ""
    }
   },
   "outputs": [
    {
     "data": {
      "text/html": [
       "<div>\n",
       "<style scoped>\n",
       "    .dataframe tbody tr th:only-of-type {\n",
       "        vertical-align: middle;\n",
       "    }\n",
       "\n",
       "    .dataframe tbody tr th {\n",
       "        vertical-align: top;\n",
       "    }\n",
       "\n",
       "    .dataframe thead th {\n",
       "        text-align: right;\n",
       "    }\n",
       "</style>\n",
       "<table border=\"1\" class=\"dataframe\">\n",
       "  <thead>\n",
       "    <tr style=\"text-align: right;\">\n",
       "      <th></th>\n",
       "      <th>female</th>\n",
       "      <th>male</th>\n",
       "    </tr>\n",
       "  </thead>\n",
       "  <tbody>\n",
       "    <tr>\n",
       "      <th>0</th>\n",
       "      <td>1</td>\n",
       "      <td>0</td>\n",
       "    </tr>\n",
       "    <tr>\n",
       "      <th>1</th>\n",
       "      <td>0</td>\n",
       "      <td>1</td>\n",
       "    </tr>\n",
       "  </tbody>\n",
       "</table>\n",
       "</div>"
      ]
     },
     "metadata": {
      "application/vnd.databricks.v1+output": {
       "addedWidgets": {},
       "arguments": {},
       "data": "<div>\n<style scoped>\n    .dataframe tbody tr th:only-of-type {\n        vertical-align: middle;\n    }\n\n    .dataframe tbody tr th {\n        vertical-align: top;\n    }\n\n    .dataframe thead th {\n        text-align: right;\n    }\n</style>\n<table border=\"1\" class=\"dataframe\">\n  <thead>\n    <tr style=\"text-align: right;\">\n      <th></th>\n      <th>female</th>\n      <th>male</th>\n    </tr>\n  </thead>\n  <tbody>\n    <tr>\n      <th>0</th>\n      <td>1</td>\n      <td>0</td>\n    </tr>\n    <tr>\n      <th>1</th>\n      <td>0</td>\n      <td>1</td>\n    </tr>\n  </tbody>\n</table>\n</div>",
       "datasetInfos": [],
       "metadata": {},
       "removedWidgets": [],
       "textData": null,
       "type": "htmlSandbox"
      }
     },
     "output_type": "display_data"
    }
   ],
   "source": [
    "gender_train[0:2]"
   ]
  },
  {
   "cell_type": "code",
   "execution_count": null,
   "metadata": {
    "application/vnd.databricks.v1+cell": {
     "inputWidgets": {},
     "nuid": "33c379b8-07ae-4dc1-98f4-f7b09c8061b7",
     "showTitle": false,
     "title": ""
    }
   },
   "outputs": [
    {
     "data": {
      "text/plain": [
       "/databricks/python/lib/python3.9/site-packages/pandas/core/frame.py:4906: SettingWithCopyWarning: \n",
       "A value is trying to be set on a copy of a slice from a DataFrame\n",
       "\n",
       "See the caveats in the documentation: https://pandas.pydata.org/pandas-docs/stable/user_guide/indexing.html#returning-a-view-versus-a-copy\n",
       "  return super().drop(\n"
      ]
     },
     "metadata": {
      "application/vnd.databricks.v1+output": {
       "addedWidgets": {},
       "arguments": {},
       "data": "/databricks/python/lib/python3.9/site-packages/pandas/core/frame.py:4906: SettingWithCopyWarning: \nA value is trying to be set on a copy of a slice from a DataFrame\n\nSee the caveats in the documentation: https://pandas.pydata.org/pandas-docs/stable/user_guide/indexing.html#returning-a-view-versus-a-copy\n  return super().drop(\n",
       "datasetInfos": [],
       "metadata": {},
       "removedWidgets": [],
       "type": "ansi"
      }
     },
     "output_type": "display_data"
    },
    {
     "data": {
      "text/html": [
       "<div>\n",
       "<style scoped>\n",
       "    .dataframe tbody tr th:only-of-type {\n",
       "        vertical-align: middle;\n",
       "    }\n",
       "\n",
       "    .dataframe tbody tr th {\n",
       "        vertical-align: top;\n",
       "    }\n",
       "\n",
       "    .dataframe thead th {\n",
       "        text-align: right;\n",
       "    }\n",
       "</style>\n",
       "<table border=\"1\" class=\"dataframe\">\n",
       "  <thead>\n",
       "    <tr style=\"text-align: right;\">\n",
       "      <th></th>\n",
       "      <th>Pclass</th>\n",
       "      <th>Name</th>\n",
       "      <th>Age</th>\n",
       "      <th>SibSp</th>\n",
       "      <th>Parch</th>\n",
       "      <th>Ticket</th>\n",
       "      <th>Fare</th>\n",
       "      <th>Cabin</th>\n",
       "      <th>Embarked</th>\n",
       "      <th>female</th>\n",
       "      <th>male</th>\n",
       "    </tr>\n",
       "  </thead>\n",
       "  <tbody>\n",
       "    <tr>\n",
       "      <th>0</th>\n",
       "      <td>3</td>\n",
       "      <td>Boulos, Mrs. Joseph (Sultana)</td>\n",
       "      <td>NaN</td>\n",
       "      <td>0</td>\n",
       "      <td>2</td>\n",
       "      <td>2678</td>\n",
       "      <td>15.2458</td>\n",
       "      <td>NaN</td>\n",
       "      <td>C</td>\n",
       "      <td>1</td>\n",
       "      <td>0</td>\n",
       "    </tr>\n",
       "    <tr>\n",
       "      <th>1</th>\n",
       "      <td>2</td>\n",
       "      <td>Kvillner, Mr. Johan Henrik Johannesson</td>\n",
       "      <td>31.0</td>\n",
       "      <td>0</td>\n",
       "      <td>0</td>\n",
       "      <td>C.A. 18723</td>\n",
       "      <td>10.5000</td>\n",
       "      <td>NaN</td>\n",
       "      <td>S</td>\n",
       "      <td>0</td>\n",
       "      <td>1</td>\n",
       "    </tr>\n",
       "    <tr>\n",
       "      <th>2</th>\n",
       "      <td>2</td>\n",
       "      <td>Mallet, Mr. Albert</td>\n",
       "      <td>31.0</td>\n",
       "      <td>1</td>\n",
       "      <td>1</td>\n",
       "      <td>S.C./PARIS 2079</td>\n",
       "      <td>37.0042</td>\n",
       "      <td>NaN</td>\n",
       "      <td>C</td>\n",
       "      <td>0</td>\n",
       "      <td>1</td>\n",
       "    </tr>\n",
       "    <tr>\n",
       "      <th>3</th>\n",
       "      <td>3</td>\n",
       "      <td>Betros, Mr. Tannous</td>\n",
       "      <td>20.0</td>\n",
       "      <td>0</td>\n",
       "      <td>0</td>\n",
       "      <td>2648</td>\n",
       "      <td>4.0125</td>\n",
       "      <td>NaN</td>\n",
       "      <td>C</td>\n",
       "      <td>0</td>\n",
       "      <td>1</td>\n",
       "    </tr>\n",
       "    <tr>\n",
       "      <th>4</th>\n",
       "      <td>3</td>\n",
       "      <td>Windelov, Mr. Einar</td>\n",
       "      <td>21.0</td>\n",
       "      <td>0</td>\n",
       "      <td>0</td>\n",
       "      <td>SOTON/OQ 3101317</td>\n",
       "      <td>7.2500</td>\n",
       "      <td>NaN</td>\n",
       "      <td>S</td>\n",
       "      <td>0</td>\n",
       "      <td>1</td>\n",
       "    </tr>\n",
       "  </tbody>\n",
       "</table>\n",
       "</div>"
      ]
     },
     "metadata": {
      "application/vnd.databricks.v1+output": {
       "addedWidgets": {},
       "arguments": {},
       "data": "<div>\n<style scoped>\n    .dataframe tbody tr th:only-of-type {\n        vertical-align: middle;\n    }\n\n    .dataframe tbody tr th {\n        vertical-align: top;\n    }\n\n    .dataframe thead th {\n        text-align: right;\n    }\n</style>\n<table border=\"1\" class=\"dataframe\">\n  <thead>\n    <tr style=\"text-align: right;\">\n      <th></th>\n      <th>Pclass</th>\n      <th>Name</th>\n      <th>Age</th>\n      <th>SibSp</th>\n      <th>Parch</th>\n      <th>Ticket</th>\n      <th>Fare</th>\n      <th>Cabin</th>\n      <th>Embarked</th>\n      <th>female</th>\n      <th>male</th>\n    </tr>\n  </thead>\n  <tbody>\n    <tr>\n      <th>0</th>\n      <td>3</td>\n      <td>Boulos, Mrs. Joseph (Sultana)</td>\n      <td>NaN</td>\n      <td>0</td>\n      <td>2</td>\n      <td>2678</td>\n      <td>15.2458</td>\n      <td>NaN</td>\n      <td>C</td>\n      <td>1</td>\n      <td>0</td>\n    </tr>\n    <tr>\n      <th>1</th>\n      <td>2</td>\n      <td>Kvillner, Mr. Johan Henrik Johannesson</td>\n      <td>31.0</td>\n      <td>0</td>\n      <td>0</td>\n      <td>C.A. 18723</td>\n      <td>10.5000</td>\n      <td>NaN</td>\n      <td>S</td>\n      <td>0</td>\n      <td>1</td>\n    </tr>\n    <tr>\n      <th>2</th>\n      <td>2</td>\n      <td>Mallet, Mr. Albert</td>\n      <td>31.0</td>\n      <td>1</td>\n      <td>1</td>\n      <td>S.C./PARIS 2079</td>\n      <td>37.0042</td>\n      <td>NaN</td>\n      <td>C</td>\n      <td>0</td>\n      <td>1</td>\n    </tr>\n    <tr>\n      <th>3</th>\n      <td>3</td>\n      <td>Betros, Mr. Tannous</td>\n      <td>20.0</td>\n      <td>0</td>\n      <td>0</td>\n      <td>2648</td>\n      <td>4.0125</td>\n      <td>NaN</td>\n      <td>C</td>\n      <td>0</td>\n      <td>1</td>\n    </tr>\n    <tr>\n      <th>4</th>\n      <td>3</td>\n      <td>Windelov, Mr. Einar</td>\n      <td>21.0</td>\n      <td>0</td>\n      <td>0</td>\n      <td>SOTON/OQ 3101317</td>\n      <td>7.2500</td>\n      <td>NaN</td>\n      <td>S</td>\n      <td>0</td>\n      <td>1</td>\n    </tr>\n  </tbody>\n</table>\n</div>",
       "datasetInfos": [],
       "metadata": {},
       "removedWidgets": [],
       "textData": null,
       "type": "htmlSandbox"
      }
     },
     "output_type": "display_data"
    }
   ],
   "source": [
    "X_train.drop(['Sex'], axis=1, inplace=True)\n",
    "X_train = pd.concat([X_train, gender_train], axis=1)\n",
    "X_test.drop(['Sex'], axis=1, inplace=True)\n",
    "X_test = pd.concat([X_test, gender_test], axis=1)\n",
    "X_train.head(5)"
   ]
  },
  {
   "cell_type": "markdown",
   "metadata": {
    "application/vnd.databricks.v1+cell": {
     "inputWidgets": {},
     "nuid": "82094193-2c90-41d2-8714-35b278f8628e",
     "showTitle": false,
     "title": ""
    }
   },
   "source": [
    "## 3.3 - Transforming Embarked (stateful)  \n",
    " We can decide to substitute the missing values using a missing value imputation technique, or simply encoding the missing values as an additional category using OHE"
   ]
  },
  {
   "cell_type": "code",
   "execution_count": null,
   "metadata": {
    "application/vnd.databricks.v1+cell": {
     "inputWidgets": {},
     "nuid": "0fa50b48-88a9-4171-aa1d-223dc5bdbe98",
     "showTitle": false,
     "title": ""
    }
   },
   "outputs": [
    {
     "data": {
      "text/plain": [
       "Out[365]: OneHotEncoder(handle_unknown='ignore')"
      ]
     },
     "metadata": {
      "application/vnd.databricks.v1+output": {
       "addedWidgets": {},
       "arguments": {},
       "data": "Out[365]: OneHotEncoder(handle_unknown='ignore')",
       "datasetInfos": [],
       "metadata": {},
       "removedWidgets": [],
       "type": "ansi"
      }
     },
     "output_type": "display_data"
    }
   ],
   "source": [
    "enc = OneHotEncoder(handle_unknown='ignore')\n",
    "enc.fit(X_train['Embarked'].values.reshape(-1, 1))"
   ]
  },
  {
   "cell_type": "code",
   "execution_count": null,
   "metadata": {
    "application/vnd.databricks.v1+cell": {
     "inputWidgets": {},
     "nuid": "9affc225-80c8-4f67-8640-a42c51cdec0c",
     "showTitle": false,
     "title": ""
    }
   },
   "outputs": [],
   "source": [
    "embarked_train = pd.DataFrame(enc.transform(X_train['Embarked'].values.reshape(-1, 1)).toarray(), columns=enc.categories_[0],dtype=np.int8)\n",
    "embarked_test = pd.DataFrame(enc.transform(X_test['Embarked'].values.reshape(-1, 1)).toarray(), columns=enc.categories_[0],dtype=np.int8)"
   ]
  },
  {
   "cell_type": "code",
   "execution_count": null,
   "metadata": {
    "application/vnd.databricks.v1+cell": {
     "inputWidgets": {},
     "nuid": "b9d64e0f-22f6-4722-8611-de5b7595d87c",
     "showTitle": false,
     "title": ""
    }
   },
   "outputs": [
    {
     "data": {
      "text/html": [
       "<div>\n",
       "<style scoped>\n",
       "    .dataframe tbody tr th:only-of-type {\n",
       "        vertical-align: middle;\n",
       "    }\n",
       "\n",
       "    .dataframe tbody tr th {\n",
       "        vertical-align: top;\n",
       "    }\n",
       "\n",
       "    .dataframe thead th {\n",
       "        text-align: right;\n",
       "    }\n",
       "</style>\n",
       "<table border=\"1\" class=\"dataframe\">\n",
       "  <thead>\n",
       "    <tr style=\"text-align: right;\">\n",
       "      <th></th>\n",
       "      <th>C</th>\n",
       "      <th>Q</th>\n",
       "      <th>S</th>\n",
       "      <th>NaN</th>\n",
       "    </tr>\n",
       "  </thead>\n",
       "  <tbody>\n",
       "    <tr>\n",
       "      <th>0</th>\n",
       "      <td>1</td>\n",
       "      <td>0</td>\n",
       "      <td>0</td>\n",
       "      <td>0</td>\n",
       "    </tr>\n",
       "    <tr>\n",
       "      <th>1</th>\n",
       "      <td>0</td>\n",
       "      <td>0</td>\n",
       "      <td>1</td>\n",
       "      <td>0</td>\n",
       "    </tr>\n",
       "  </tbody>\n",
       "</table>\n",
       "</div>"
      ]
     },
     "metadata": {
      "application/vnd.databricks.v1+output": {
       "addedWidgets": {},
       "arguments": {},
       "data": "<div>\n<style scoped>\n    .dataframe tbody tr th:only-of-type {\n        vertical-align: middle;\n    }\n\n    .dataframe tbody tr th {\n        vertical-align: top;\n    }\n\n    .dataframe thead th {\n        text-align: right;\n    }\n</style>\n<table border=\"1\" class=\"dataframe\">\n  <thead>\n    <tr style=\"text-align: right;\">\n      <th></th>\n      <th>C</th>\n      <th>Q</th>\n      <th>S</th>\n      <th>NaN</th>\n    </tr>\n  </thead>\n  <tbody>\n    <tr>\n      <th>0</th>\n      <td>1</td>\n      <td>0</td>\n      <td>0</td>\n      <td>0</td>\n    </tr>\n    <tr>\n      <th>1</th>\n      <td>0</td>\n      <td>0</td>\n      <td>1</td>\n      <td>0</td>\n    </tr>\n  </tbody>\n</table>\n</div>",
       "datasetInfos": [],
       "metadata": {},
       "removedWidgets": [],
       "textData": null,
       "type": "htmlSandbox"
      }
     },
     "output_type": "display_data"
    }
   ],
   "source": [
    "embarked_train[0:2]"
   ]
  },
  {
   "cell_type": "code",
   "execution_count": null,
   "metadata": {
    "application/vnd.databricks.v1+cell": {
     "inputWidgets": {},
     "nuid": "eb25270e-b464-443b-ba61-20f64cec4dbf",
     "showTitle": false,
     "title": ""
    }
   },
   "outputs": [
    {
     "data": {
      "text/html": [
       "<div>\n",
       "<style scoped>\n",
       "    .dataframe tbody tr th:only-of-type {\n",
       "        vertical-align: middle;\n",
       "    }\n",
       "\n",
       "    .dataframe tbody tr th {\n",
       "        vertical-align: top;\n",
       "    }\n",
       "\n",
       "    .dataframe thead th {\n",
       "        text-align: right;\n",
       "    }\n",
       "</style>\n",
       "<table border=\"1\" class=\"dataframe\">\n",
       "  <thead>\n",
       "    <tr style=\"text-align: right;\">\n",
       "      <th></th>\n",
       "      <th>Pclass</th>\n",
       "      <th>Name</th>\n",
       "      <th>Age</th>\n",
       "      <th>SibSp</th>\n",
       "      <th>Parch</th>\n",
       "      <th>Ticket</th>\n",
       "      <th>Fare</th>\n",
       "      <th>Cabin</th>\n",
       "      <th>female</th>\n",
       "      <th>male</th>\n",
       "      <th>C</th>\n",
       "      <th>Q</th>\n",
       "      <th>S</th>\n",
       "      <th>NaN</th>\n",
       "    </tr>\n",
       "  </thead>\n",
       "  <tbody>\n",
       "    <tr>\n",
       "      <th>0</th>\n",
       "      <td>3</td>\n",
       "      <td>Boulos, Mrs. Joseph (Sultana)</td>\n",
       "      <td>NaN</td>\n",
       "      <td>0</td>\n",
       "      <td>2</td>\n",
       "      <td>2678</td>\n",
       "      <td>15.2458</td>\n",
       "      <td>NaN</td>\n",
       "      <td>1</td>\n",
       "      <td>0</td>\n",
       "      <td>1</td>\n",
       "      <td>0</td>\n",
       "      <td>0</td>\n",
       "      <td>0</td>\n",
       "    </tr>\n",
       "    <tr>\n",
       "      <th>1</th>\n",
       "      <td>2</td>\n",
       "      <td>Kvillner, Mr. Johan Henrik Johannesson</td>\n",
       "      <td>31.0</td>\n",
       "      <td>0</td>\n",
       "      <td>0</td>\n",
       "      <td>C.A. 18723</td>\n",
       "      <td>10.5000</td>\n",
       "      <td>NaN</td>\n",
       "      <td>0</td>\n",
       "      <td>1</td>\n",
       "      <td>0</td>\n",
       "      <td>0</td>\n",
       "      <td>1</td>\n",
       "      <td>0</td>\n",
       "    </tr>\n",
       "    <tr>\n",
       "      <th>2</th>\n",
       "      <td>2</td>\n",
       "      <td>Mallet, Mr. Albert</td>\n",
       "      <td>31.0</td>\n",
       "      <td>1</td>\n",
       "      <td>1</td>\n",
       "      <td>S.C./PARIS 2079</td>\n",
       "      <td>37.0042</td>\n",
       "      <td>NaN</td>\n",
       "      <td>0</td>\n",
       "      <td>1</td>\n",
       "      <td>1</td>\n",
       "      <td>0</td>\n",
       "      <td>0</td>\n",
       "      <td>0</td>\n",
       "    </tr>\n",
       "    <tr>\n",
       "      <th>3</th>\n",
       "      <td>3</td>\n",
       "      <td>Betros, Mr. Tannous</td>\n",
       "      <td>20.0</td>\n",
       "      <td>0</td>\n",
       "      <td>0</td>\n",
       "      <td>2648</td>\n",
       "      <td>4.0125</td>\n",
       "      <td>NaN</td>\n",
       "      <td>0</td>\n",
       "      <td>1</td>\n",
       "      <td>1</td>\n",
       "      <td>0</td>\n",
       "      <td>0</td>\n",
       "      <td>0</td>\n",
       "    </tr>\n",
       "    <tr>\n",
       "      <th>4</th>\n",
       "      <td>3</td>\n",
       "      <td>Windelov, Mr. Einar</td>\n",
       "      <td>21.0</td>\n",
       "      <td>0</td>\n",
       "      <td>0</td>\n",
       "      <td>SOTON/OQ 3101317</td>\n",
       "      <td>7.2500</td>\n",
       "      <td>NaN</td>\n",
       "      <td>0</td>\n",
       "      <td>1</td>\n",
       "      <td>0</td>\n",
       "      <td>0</td>\n",
       "      <td>1</td>\n",
       "      <td>0</td>\n",
       "    </tr>\n",
       "  </tbody>\n",
       "</table>\n",
       "</div>"
      ]
     },
     "metadata": {
      "application/vnd.databricks.v1+output": {
       "addedWidgets": {},
       "arguments": {},
       "data": "<div>\n<style scoped>\n    .dataframe tbody tr th:only-of-type {\n        vertical-align: middle;\n    }\n\n    .dataframe tbody tr th {\n        vertical-align: top;\n    }\n\n    .dataframe thead th {\n        text-align: right;\n    }\n</style>\n<table border=\"1\" class=\"dataframe\">\n  <thead>\n    <tr style=\"text-align: right;\">\n      <th></th>\n      <th>Pclass</th>\n      <th>Name</th>\n      <th>Age</th>\n      <th>SibSp</th>\n      <th>Parch</th>\n      <th>Ticket</th>\n      <th>Fare</th>\n      <th>Cabin</th>\n      <th>female</th>\n      <th>male</th>\n      <th>C</th>\n      <th>Q</th>\n      <th>S</th>\n      <th>NaN</th>\n    </tr>\n  </thead>\n  <tbody>\n    <tr>\n      <th>0</th>\n      <td>3</td>\n      <td>Boulos, Mrs. Joseph (Sultana)</td>\n      <td>NaN</td>\n      <td>0</td>\n      <td>2</td>\n      <td>2678</td>\n      <td>15.2458</td>\n      <td>NaN</td>\n      <td>1</td>\n      <td>0</td>\n      <td>1</td>\n      <td>0</td>\n      <td>0</td>\n      <td>0</td>\n    </tr>\n    <tr>\n      <th>1</th>\n      <td>2</td>\n      <td>Kvillner, Mr. Johan Henrik Johannesson</td>\n      <td>31.0</td>\n      <td>0</td>\n      <td>0</td>\n      <td>C.A. 18723</td>\n      <td>10.5000</td>\n      <td>NaN</td>\n      <td>0</td>\n      <td>1</td>\n      <td>0</td>\n      <td>0</td>\n      <td>1</td>\n      <td>0</td>\n    </tr>\n    <tr>\n      <th>2</th>\n      <td>2</td>\n      <td>Mallet, Mr. Albert</td>\n      <td>31.0</td>\n      <td>1</td>\n      <td>1</td>\n      <td>S.C./PARIS 2079</td>\n      <td>37.0042</td>\n      <td>NaN</td>\n      <td>0</td>\n      <td>1</td>\n      <td>1</td>\n      <td>0</td>\n      <td>0</td>\n      <td>0</td>\n    </tr>\n    <tr>\n      <th>3</th>\n      <td>3</td>\n      <td>Betros, Mr. Tannous</td>\n      <td>20.0</td>\n      <td>0</td>\n      <td>0</td>\n      <td>2648</td>\n      <td>4.0125</td>\n      <td>NaN</td>\n      <td>0</td>\n      <td>1</td>\n      <td>1</td>\n      <td>0</td>\n      <td>0</td>\n      <td>0</td>\n    </tr>\n    <tr>\n      <th>4</th>\n      <td>3</td>\n      <td>Windelov, Mr. Einar</td>\n      <td>21.0</td>\n      <td>0</td>\n      <td>0</td>\n      <td>SOTON/OQ 3101317</td>\n      <td>7.2500</td>\n      <td>NaN</td>\n      <td>0</td>\n      <td>1</td>\n      <td>0</td>\n      <td>0</td>\n      <td>1</td>\n      <td>0</td>\n    </tr>\n  </tbody>\n</table>\n</div>",
       "datasetInfos": [],
       "metadata": {},
       "removedWidgets": [],
       "textData": null,
       "type": "htmlSandbox"
      }
     },
     "output_type": "display_data"
    }
   ],
   "source": [
    "X_train.drop(['Embarked'], axis=1, inplace=True)\n",
    "X_train = pd.concat([X_train, embarked_train], axis=1)\n",
    "X_test.drop(['Embarked'], axis=1, inplace=True)\n",
    "X_test = pd.concat([X_test, embarked_test], axis=1)\n",
    "X_train.head(5)"
   ]
  },
  {
   "cell_type": "markdown",
   "metadata": {
    "application/vnd.databricks.v1+cell": {
     "inputWidgets": {},
     "nuid": "1359b226-1034-4cb4-b190-f652d0e27ce3",
     "showTitle": false,
     "title": ""
    }
   },
   "source": [
    "## 3.4 - Transforming Name (stateful)  \n",
    "Name is a textual field. We can be very creative when deciding to create features, vectorizing every word, etc.  \n",
    "In this notebook, we will just extract the titles and surnames and create features out of it."
   ]
  },
  {
   "cell_type": "code",
   "execution_count": null,
   "metadata": {
    "application/vnd.databricks.v1+cell": {
     "inputWidgets": {},
     "nuid": "0b46366d-a7bd-4e6a-813f-92b57368eff4",
     "showTitle": false,
     "title": ""
    }
   },
   "outputs": [],
   "source": [
    "# Create function that take name and separates it into title, family name and deletes all puntuation from name column:\n",
    "def name_sep(data):\n",
    "    families=[]\n",
    "    titles = []\n",
    "    new_name = []\n",
    "    #for each row in dataset:\n",
    "    for i in range(len(data)):\n",
    "        name = data.iloc[i]\n",
    "        # extract name inside brackets into name_bracket:\n",
    "        if '(' in name:\n",
    "            name_no_bracket = name.split('(')[0] \n",
    "        else:\n",
    "            name_no_bracket = name\n",
    "            \n",
    "        family = name_no_bracket.split(\",\")[0]\n",
    "        title = name_no_bracket.split(\",\")[1].strip().split(\" \")[0]\n",
    "        \n",
    "        #remove punctuations accept brackets:\n",
    "        for c in string.punctuation:\n",
    "            name = name.replace(c,\"\").strip()\n",
    "            family = family.replace(c,\"\").strip()\n",
    "            title = title.replace(c,\"\").strip()\n",
    "            \n",
    "        families.append(family)\n",
    "        titles.append(title)\n",
    "        new_name.append(name)\n",
    "            \n",
    "    return families, titles, new_name "
   ]
  },
  {
   "cell_type": "code",
   "execution_count": null,
   "metadata": {
    "application/vnd.databricks.v1+cell": {
     "inputWidgets": {},
     "nuid": "0d144654-5f16-4758-a280-e6da942351f4",
     "showTitle": false,
     "title": ""
    }
   },
   "outputs": [
    {
     "data": {
      "text/html": [
       "<div>\n",
       "<style scoped>\n",
       "    .dataframe tbody tr th:only-of-type {\n",
       "        vertical-align: middle;\n",
       "    }\n",
       "\n",
       "    .dataframe tbody tr th {\n",
       "        vertical-align: top;\n",
       "    }\n",
       "\n",
       "    .dataframe thead th {\n",
       "        text-align: right;\n",
       "    }\n",
       "</style>\n",
       "<table border=\"1\" class=\"dataframe\">\n",
       "  <thead>\n",
       "    <tr style=\"text-align: right;\">\n",
       "      <th></th>\n",
       "      <th>surname</th>\n",
       "      <th>title</th>\n",
       "      <th>newname</th>\n",
       "    </tr>\n",
       "  </thead>\n",
       "  <tbody>\n",
       "    <tr>\n",
       "      <th>0</th>\n",
       "      <td>Boulos</td>\n",
       "      <td>Mrs</td>\n",
       "      <td>Boulos Mrs Joseph Sultana</td>\n",
       "    </tr>\n",
       "    <tr>\n",
       "      <th>1</th>\n",
       "      <td>Kvillner</td>\n",
       "      <td>Mr</td>\n",
       "      <td>Kvillner Mr Johan Henrik Johannesson</td>\n",
       "    </tr>\n",
       "    <tr>\n",
       "      <th>2</th>\n",
       "      <td>Mallet</td>\n",
       "      <td>Mr</td>\n",
       "      <td>Mallet Mr Albert</td>\n",
       "    </tr>\n",
       "    <tr>\n",
       "      <th>3</th>\n",
       "      <td>Betros</td>\n",
       "      <td>Mr</td>\n",
       "      <td>Betros Mr Tannous</td>\n",
       "    </tr>\n",
       "    <tr>\n",
       "      <th>4</th>\n",
       "      <td>Windelov</td>\n",
       "      <td>Mr</td>\n",
       "      <td>Windelov Mr Einar</td>\n",
       "    </tr>\n",
       "  </tbody>\n",
       "</table>\n",
       "</div>"
      ]
     },
     "metadata": {
      "application/vnd.databricks.v1+output": {
       "addedWidgets": {},
       "arguments": {},
       "data": "<div>\n<style scoped>\n    .dataframe tbody tr th:only-of-type {\n        vertical-align: middle;\n    }\n\n    .dataframe tbody tr th {\n        vertical-align: top;\n    }\n\n    .dataframe thead th {\n        text-align: right;\n    }\n</style>\n<table border=\"1\" class=\"dataframe\">\n  <thead>\n    <tr style=\"text-align: right;\">\n      <th></th>\n      <th>surname</th>\n      <th>title</th>\n      <th>newname</th>\n    </tr>\n  </thead>\n  <tbody>\n    <tr>\n      <th>0</th>\n      <td>Boulos</td>\n      <td>Mrs</td>\n      <td>Boulos Mrs Joseph Sultana</td>\n    </tr>\n    <tr>\n      <th>1</th>\n      <td>Kvillner</td>\n      <td>Mr</td>\n      <td>Kvillner Mr Johan Henrik Johannesson</td>\n    </tr>\n    <tr>\n      <th>2</th>\n      <td>Mallet</td>\n      <td>Mr</td>\n      <td>Mallet Mr Albert</td>\n    </tr>\n    <tr>\n      <th>3</th>\n      <td>Betros</td>\n      <td>Mr</td>\n      <td>Betros Mr Tannous</td>\n    </tr>\n    <tr>\n      <th>4</th>\n      <td>Windelov</td>\n      <td>Mr</td>\n      <td>Windelov Mr Einar</td>\n    </tr>\n  </tbody>\n</table>\n</div>",
       "datasetInfos": [],
       "metadata": {},
       "removedWidgets": [],
       "textData": null,
       "type": "htmlSandbox"
      }
     },
     "output_type": "display_data"
    }
   ],
   "source": [
    "dict_train_name = dict(zip(['surname', 'title', 'newname'], name_sep(X_train[\"Name\"])))\n",
    "X_train_name = pd.DataFrame(dict_train_name)\n",
    "dict_test_name = dict(zip(['surname', 'title', 'newname'], name_sep(X_test[\"Name\"])))\n",
    "X_test_name = pd.DataFrame(dict_test_name)\n",
    "\n",
    "X_train_name.head()"
   ]
  },
  {
   "cell_type": "code",
   "execution_count": null,
   "metadata": {
    "application/vnd.databricks.v1+cell": {
     "inputWidgets": {},
     "nuid": "bcbf2835-7eeb-4f78-be93-5168c33905ce",
     "showTitle": false,
     "title": ""
    }
   },
   "outputs": [
    {
     "data": {
      "text/plain": [
       "Out[371]: Mr        419\n",
       "Miss      145\n",
       "Mrs        96\n",
       "Master     35\n",
       "Rev         3\n",
       "Dr          3\n",
       "Mlle        2\n",
       "Major       2\n",
       "Col         1\n",
       "Ms          1\n",
       "Mme         1\n",
       "the         1\n",
       "Lady        1\n",
       "Capt        1\n",
       "Sir         1\n",
       "Name: title, dtype: int64"
      ]
     },
     "metadata": {
      "application/vnd.databricks.v1+output": {
       "addedWidgets": {},
       "arguments": {},
       "data": "Out[371]: Mr        419\nMiss      145\nMrs        96\nMaster     35\nRev         3\nDr          3\nMlle        2\nMajor       2\nCol         1\nMs          1\nMme         1\nthe         1\nLady        1\nCapt        1\nSir         1\nName: title, dtype: int64",
       "datasetInfos": [],
       "metadata": {},
       "removedWidgets": [],
       "type": "ansi"
      }
     },
     "output_type": "display_data"
    }
   ],
   "source": [
    "X_train_name.title.value_counts()"
   ]
  },
  {
   "cell_type": "markdown",
   "metadata": {
    "application/vnd.databricks.v1+cell": {
     "inputWidgets": {},
     "nuid": "473e06ef-8661-4bca-a99f-46533b692bfc",
     "showTitle": false,
     "title": ""
    }
   },
   "source": [
    "Let's reduce the feature space converting some equivalent titles:"
   ]
  },
  {
   "cell_type": "code",
   "execution_count": null,
   "metadata": {
    "application/vnd.databricks.v1+cell": {
     "inputWidgets": {},
     "nuid": "eecc017d-fc47-4b9f-8351-70c8082bc248",
     "showTitle": false,
     "title": ""
    }
   },
   "outputs": [],
   "source": [
    "X_train_name['title'] = X_train_name['title'].replace(['Ms', 'Mlle'],'Miss')\n",
    "X_train_name['title'] = X_train_name['title'].replace(['Mme'],'Mrs')\n",
    "X_train_name['title'] = X_train_name['title'].replace(['Dr','Rev','the','Jonkheer','Lady','Sir', 'Don'],'Nobles')\n",
    "X_train_name['title'] = X_train_name['title'].replace(['Major','Col', 'Capt'],'Navy')\n",
    "\n",
    "X_test_name['title'] = X_test_name['title'].replace(['Ms', 'Mlle'],'Miss')\n",
    "X_test_name['title'] = X_test_name['title'].replace(['Mme'],'Mrs')\n",
    "X_test_name['title'] = X_test_name['title'].replace(['Dr','Rev','the','Jonkheer','Lady','Sir', 'Don'],'Nobles')\n",
    "X_test_name['title'] = X_test_name['title'].replace(['Major','Col', 'Capt'],'Navy')"
   ]
  },
  {
   "cell_type": "code",
   "execution_count": null,
   "metadata": {
    "application/vnd.databricks.v1+cell": {
     "inputWidgets": {},
     "nuid": "ddec2382-b601-4121-8c8c-c3348bfca607",
     "showTitle": false,
     "title": ""
    }
   },
   "outputs": [
    {
     "data": {
      "text/plain": [
       "Out[373]: Mr        419\n",
       "Miss      148\n",
       "Mrs        97\n",
       "Master     35\n",
       "Nobles      9\n",
       "Navy        4\n",
       "Name: title, dtype: int64"
      ]
     },
     "metadata": {
      "application/vnd.databricks.v1+output": {
       "addedWidgets": {},
       "arguments": {},
       "data": "Out[373]: Mr        419\nMiss      148\nMrs        97\nMaster     35\nNobles      9\nNavy        4\nName: title, dtype: int64",
       "datasetInfos": [],
       "metadata": {},
       "removedWidgets": [],
       "type": "ansi"
      }
     },
     "output_type": "display_data"
    }
   ],
   "source": [
    "X_train_name.title.value_counts()"
   ]
  },
  {
   "cell_type": "markdown",
   "metadata": {
    "application/vnd.databricks.v1+cell": {
     "inputWidgets": {},
     "nuid": "7e40e24b-a6de-4fda-935f-703b2ed82148",
     "showTitle": false,
     "title": ""
    }
   },
   "source": [
    "### 3.4.1 - Encoding Title"
   ]
  },
  {
   "cell_type": "code",
   "execution_count": null,
   "metadata": {
    "application/vnd.databricks.v1+cell": {
     "inputWidgets": {},
     "nuid": "1ef0798f-9eee-4628-b75f-e84f3f43cf6c",
     "showTitle": false,
     "title": ""
    }
   },
   "outputs": [
    {
     "data": {
      "text/plain": [
       "Out[374]: OneHotEncoder(handle_unknown='ignore')"
      ]
     },
     "metadata": {
      "application/vnd.databricks.v1+output": {
       "addedWidgets": {},
       "arguments": {},
       "data": "Out[374]: OneHotEncoder(handle_unknown='ignore')",
       "datasetInfos": [],
       "metadata": {},
       "removedWidgets": [],
       "type": "ansi"
      }
     },
     "output_type": "display_data"
    }
   ],
   "source": [
    "enc = OneHotEncoder(handle_unknown='ignore')\n",
    "enc.fit(X_train_name['title'].values.reshape(-1, 1))"
   ]
  },
  {
   "cell_type": "code",
   "execution_count": null,
   "metadata": {
    "application/vnd.databricks.v1+cell": {
     "inputWidgets": {},
     "nuid": "0737f284-6c44-4aa4-b9aa-84048a8bd7d6",
     "showTitle": false,
     "title": ""
    }
   },
   "outputs": [],
   "source": [
    "title_train = pd.DataFrame(enc.transform(X_train_name['title'].values.reshape(-1, 1)).toarray(), columns=enc.categories_[0],dtype=np.int8)\n",
    "title_test = pd.DataFrame(enc.transform(X_test_name['title'].values.reshape(-1, 1)).toarray(), columns=enc.categories_[0],dtype=np.int8)"
   ]
  },
  {
   "cell_type": "code",
   "execution_count": null,
   "metadata": {
    "application/vnd.databricks.v1+cell": {
     "inputWidgets": {},
     "nuid": "3ee2c6fc-35ce-4a7d-a26b-e489a747af11",
     "showTitle": false,
     "title": ""
    }
   },
   "outputs": [
    {
     "data": {
      "text/html": [
       "<div>\n",
       "<style scoped>\n",
       "    .dataframe tbody tr th:only-of-type {\n",
       "        vertical-align: middle;\n",
       "    }\n",
       "\n",
       "    .dataframe tbody tr th {\n",
       "        vertical-align: top;\n",
       "    }\n",
       "\n",
       "    .dataframe thead th {\n",
       "        text-align: right;\n",
       "    }\n",
       "</style>\n",
       "<table border=\"1\" class=\"dataframe\">\n",
       "  <thead>\n",
       "    <tr style=\"text-align: right;\">\n",
       "      <th></th>\n",
       "      <th>Master</th>\n",
       "      <th>Miss</th>\n",
       "      <th>Mr</th>\n",
       "      <th>Mrs</th>\n",
       "      <th>Navy</th>\n",
       "      <th>Nobles</th>\n",
       "    </tr>\n",
       "  </thead>\n",
       "  <tbody>\n",
       "    <tr>\n",
       "      <th>0</th>\n",
       "      <td>0</td>\n",
       "      <td>0</td>\n",
       "      <td>0</td>\n",
       "      <td>1</td>\n",
       "      <td>0</td>\n",
       "      <td>0</td>\n",
       "    </tr>\n",
       "    <tr>\n",
       "      <th>1</th>\n",
       "      <td>0</td>\n",
       "      <td>0</td>\n",
       "      <td>1</td>\n",
       "      <td>0</td>\n",
       "      <td>0</td>\n",
       "      <td>0</td>\n",
       "    </tr>\n",
       "    <tr>\n",
       "      <th>2</th>\n",
       "      <td>0</td>\n",
       "      <td>0</td>\n",
       "      <td>1</td>\n",
       "      <td>0</td>\n",
       "      <td>0</td>\n",
       "      <td>0</td>\n",
       "    </tr>\n",
       "    <tr>\n",
       "      <th>3</th>\n",
       "      <td>0</td>\n",
       "      <td>0</td>\n",
       "      <td>1</td>\n",
       "      <td>0</td>\n",
       "      <td>0</td>\n",
       "      <td>0</td>\n",
       "    </tr>\n",
       "    <tr>\n",
       "      <th>4</th>\n",
       "      <td>0</td>\n",
       "      <td>0</td>\n",
       "      <td>1</td>\n",
       "      <td>0</td>\n",
       "      <td>0</td>\n",
       "      <td>0</td>\n",
       "    </tr>\n",
       "  </tbody>\n",
       "</table>\n",
       "</div>"
      ]
     },
     "metadata": {
      "application/vnd.databricks.v1+output": {
       "addedWidgets": {},
       "arguments": {},
       "data": "<div>\n<style scoped>\n    .dataframe tbody tr th:only-of-type {\n        vertical-align: middle;\n    }\n\n    .dataframe tbody tr th {\n        vertical-align: top;\n    }\n\n    .dataframe thead th {\n        text-align: right;\n    }\n</style>\n<table border=\"1\" class=\"dataframe\">\n  <thead>\n    <tr style=\"text-align: right;\">\n      <th></th>\n      <th>Master</th>\n      <th>Miss</th>\n      <th>Mr</th>\n      <th>Mrs</th>\n      <th>Navy</th>\n      <th>Nobles</th>\n    </tr>\n  </thead>\n  <tbody>\n    <tr>\n      <th>0</th>\n      <td>0</td>\n      <td>0</td>\n      <td>0</td>\n      <td>1</td>\n      <td>0</td>\n      <td>0</td>\n    </tr>\n    <tr>\n      <th>1</th>\n      <td>0</td>\n      <td>0</td>\n      <td>1</td>\n      <td>0</td>\n      <td>0</td>\n      <td>0</td>\n    </tr>\n    <tr>\n      <th>2</th>\n      <td>0</td>\n      <td>0</td>\n      <td>1</td>\n      <td>0</td>\n      <td>0</td>\n      <td>0</td>\n    </tr>\n    <tr>\n      <th>3</th>\n      <td>0</td>\n      <td>0</td>\n      <td>1</td>\n      <td>0</td>\n      <td>0</td>\n      <td>0</td>\n    </tr>\n    <tr>\n      <th>4</th>\n      <td>0</td>\n      <td>0</td>\n      <td>1</td>\n      <td>0</td>\n      <td>0</td>\n      <td>0</td>\n    </tr>\n  </tbody>\n</table>\n</div>",
       "datasetInfos": [],
       "metadata": {},
       "removedWidgets": [],
       "textData": null,
       "type": "htmlSandbox"
      }
     },
     "output_type": "display_data"
    }
   ],
   "source": [
    "title_train.head(5)"
   ]
  },
  {
   "cell_type": "code",
   "execution_count": null,
   "metadata": {
    "application/vnd.databricks.v1+cell": {
     "inputWidgets": {},
     "nuid": "1927f5b9-1f73-4eac-bdfa-43b5eb6aedc8",
     "showTitle": false,
     "title": ""
    }
   },
   "outputs": [
    {
     "data": {
      "text/html": [
       "<div>\n",
       "<style scoped>\n",
       "    .dataframe tbody tr th:only-of-type {\n",
       "        vertical-align: middle;\n",
       "    }\n",
       "\n",
       "    .dataframe tbody tr th {\n",
       "        vertical-align: top;\n",
       "    }\n",
       "\n",
       "    .dataframe thead th {\n",
       "        text-align: right;\n",
       "    }\n",
       "</style>\n",
       "<table border=\"1\" class=\"dataframe\">\n",
       "  <thead>\n",
       "    <tr style=\"text-align: right;\">\n",
       "      <th></th>\n",
       "      <th>Pclass</th>\n",
       "      <th>Age</th>\n",
       "      <th>SibSp</th>\n",
       "      <th>Parch</th>\n",
       "      <th>Ticket</th>\n",
       "      <th>Fare</th>\n",
       "      <th>Cabin</th>\n",
       "      <th>female</th>\n",
       "      <th>male</th>\n",
       "      <th>C</th>\n",
       "      <th>Q</th>\n",
       "      <th>S</th>\n",
       "      <th>NaN</th>\n",
       "      <th>Master</th>\n",
       "      <th>Miss</th>\n",
       "      <th>Mr</th>\n",
       "      <th>Mrs</th>\n",
       "      <th>Navy</th>\n",
       "      <th>Nobles</th>\n",
       "    </tr>\n",
       "  </thead>\n",
       "  <tbody>\n",
       "    <tr>\n",
       "      <th>0</th>\n",
       "      <td>3</td>\n",
       "      <td>NaN</td>\n",
       "      <td>0</td>\n",
       "      <td>2</td>\n",
       "      <td>2678</td>\n",
       "      <td>15.2458</td>\n",
       "      <td>NaN</td>\n",
       "      <td>1</td>\n",
       "      <td>0</td>\n",
       "      <td>1</td>\n",
       "      <td>0</td>\n",
       "      <td>0</td>\n",
       "      <td>0</td>\n",
       "      <td>0</td>\n",
       "      <td>0</td>\n",
       "      <td>0</td>\n",
       "      <td>1</td>\n",
       "      <td>0</td>\n",
       "      <td>0</td>\n",
       "    </tr>\n",
       "    <tr>\n",
       "      <th>1</th>\n",
       "      <td>2</td>\n",
       "      <td>31.0</td>\n",
       "      <td>0</td>\n",
       "      <td>0</td>\n",
       "      <td>C.A. 18723</td>\n",
       "      <td>10.5000</td>\n",
       "      <td>NaN</td>\n",
       "      <td>0</td>\n",
       "      <td>1</td>\n",
       "      <td>0</td>\n",
       "      <td>0</td>\n",
       "      <td>1</td>\n",
       "      <td>0</td>\n",
       "      <td>0</td>\n",
       "      <td>0</td>\n",
       "      <td>1</td>\n",
       "      <td>0</td>\n",
       "      <td>0</td>\n",
       "      <td>0</td>\n",
       "    </tr>\n",
       "    <tr>\n",
       "      <th>2</th>\n",
       "      <td>2</td>\n",
       "      <td>31.0</td>\n",
       "      <td>1</td>\n",
       "      <td>1</td>\n",
       "      <td>S.C./PARIS 2079</td>\n",
       "      <td>37.0042</td>\n",
       "      <td>NaN</td>\n",
       "      <td>0</td>\n",
       "      <td>1</td>\n",
       "      <td>1</td>\n",
       "      <td>0</td>\n",
       "      <td>0</td>\n",
       "      <td>0</td>\n",
       "      <td>0</td>\n",
       "      <td>0</td>\n",
       "      <td>1</td>\n",
       "      <td>0</td>\n",
       "      <td>0</td>\n",
       "      <td>0</td>\n",
       "    </tr>\n",
       "    <tr>\n",
       "      <th>3</th>\n",
       "      <td>3</td>\n",
       "      <td>20.0</td>\n",
       "      <td>0</td>\n",
       "      <td>0</td>\n",
       "      <td>2648</td>\n",
       "      <td>4.0125</td>\n",
       "      <td>NaN</td>\n",
       "      <td>0</td>\n",
       "      <td>1</td>\n",
       "      <td>1</td>\n",
       "      <td>0</td>\n",
       "      <td>0</td>\n",
       "      <td>0</td>\n",
       "      <td>0</td>\n",
       "      <td>0</td>\n",
       "      <td>1</td>\n",
       "      <td>0</td>\n",
       "      <td>0</td>\n",
       "      <td>0</td>\n",
       "    </tr>\n",
       "    <tr>\n",
       "      <th>4</th>\n",
       "      <td>3</td>\n",
       "      <td>21.0</td>\n",
       "      <td>0</td>\n",
       "      <td>0</td>\n",
       "      <td>SOTON/OQ 3101317</td>\n",
       "      <td>7.2500</td>\n",
       "      <td>NaN</td>\n",
       "      <td>0</td>\n",
       "      <td>1</td>\n",
       "      <td>0</td>\n",
       "      <td>0</td>\n",
       "      <td>1</td>\n",
       "      <td>0</td>\n",
       "      <td>0</td>\n",
       "      <td>0</td>\n",
       "      <td>1</td>\n",
       "      <td>0</td>\n",
       "      <td>0</td>\n",
       "      <td>0</td>\n",
       "    </tr>\n",
       "  </tbody>\n",
       "</table>\n",
       "</div>"
      ]
     },
     "metadata": {
      "application/vnd.databricks.v1+output": {
       "addedWidgets": {},
       "arguments": {},
       "data": "<div>\n<style scoped>\n    .dataframe tbody tr th:only-of-type {\n        vertical-align: middle;\n    }\n\n    .dataframe tbody tr th {\n        vertical-align: top;\n    }\n\n    .dataframe thead th {\n        text-align: right;\n    }\n</style>\n<table border=\"1\" class=\"dataframe\">\n  <thead>\n    <tr style=\"text-align: right;\">\n      <th></th>\n      <th>Pclass</th>\n      <th>Age</th>\n      <th>SibSp</th>\n      <th>Parch</th>\n      <th>Ticket</th>\n      <th>Fare</th>\n      <th>Cabin</th>\n      <th>female</th>\n      <th>male</th>\n      <th>C</th>\n      <th>Q</th>\n      <th>S</th>\n      <th>NaN</th>\n      <th>Master</th>\n      <th>Miss</th>\n      <th>Mr</th>\n      <th>Mrs</th>\n      <th>Navy</th>\n      <th>Nobles</th>\n    </tr>\n  </thead>\n  <tbody>\n    <tr>\n      <th>0</th>\n      <td>3</td>\n      <td>NaN</td>\n      <td>0</td>\n      <td>2</td>\n      <td>2678</td>\n      <td>15.2458</td>\n      <td>NaN</td>\n      <td>1</td>\n      <td>0</td>\n      <td>1</td>\n      <td>0</td>\n      <td>0</td>\n      <td>0</td>\n      <td>0</td>\n      <td>0</td>\n      <td>0</td>\n      <td>1</td>\n      <td>0</td>\n      <td>0</td>\n    </tr>\n    <tr>\n      <th>1</th>\n      <td>2</td>\n      <td>31.0</td>\n      <td>0</td>\n      <td>0</td>\n      <td>C.A. 18723</td>\n      <td>10.5000</td>\n      <td>NaN</td>\n      <td>0</td>\n      <td>1</td>\n      <td>0</td>\n      <td>0</td>\n      <td>1</td>\n      <td>0</td>\n      <td>0</td>\n      <td>0</td>\n      <td>1</td>\n      <td>0</td>\n      <td>0</td>\n      <td>0</td>\n    </tr>\n    <tr>\n      <th>2</th>\n      <td>2</td>\n      <td>31.0</td>\n      <td>1</td>\n      <td>1</td>\n      <td>S.C./PARIS 2079</td>\n      <td>37.0042</td>\n      <td>NaN</td>\n      <td>0</td>\n      <td>1</td>\n      <td>1</td>\n      <td>0</td>\n      <td>0</td>\n      <td>0</td>\n      <td>0</td>\n      <td>0</td>\n      <td>1</td>\n      <td>0</td>\n      <td>0</td>\n      <td>0</td>\n    </tr>\n    <tr>\n      <th>3</th>\n      <td>3</td>\n      <td>20.0</td>\n      <td>0</td>\n      <td>0</td>\n      <td>2648</td>\n      <td>4.0125</td>\n      <td>NaN</td>\n      <td>0</td>\n      <td>1</td>\n      <td>1</td>\n      <td>0</td>\n      <td>0</td>\n      <td>0</td>\n      <td>0</td>\n      <td>0</td>\n      <td>1</td>\n      <td>0</td>\n      <td>0</td>\n      <td>0</td>\n    </tr>\n    <tr>\n      <th>4</th>\n      <td>3</td>\n      <td>21.0</td>\n      <td>0</td>\n      <td>0</td>\n      <td>SOTON/OQ 3101317</td>\n      <td>7.2500</td>\n      <td>NaN</td>\n      <td>0</td>\n      <td>1</td>\n      <td>0</td>\n      <td>0</td>\n      <td>1</td>\n      <td>0</td>\n      <td>0</td>\n      <td>0</td>\n      <td>1</td>\n      <td>0</td>\n      <td>0</td>\n      <td>0</td>\n    </tr>\n  </tbody>\n</table>\n</div>",
       "datasetInfos": [],
       "metadata": {},
       "removedWidgets": [],
       "textData": null,
       "type": "htmlSandbox"
      }
     },
     "output_type": "display_data"
    }
   ],
   "source": [
    "X_train.drop(['Name'], axis=1, inplace=True)\n",
    "X_train = pd.concat([X_train, title_train], axis=1)\n",
    "X_test.drop(['Name'], axis=1, inplace=True)\n",
    "X_test = pd.concat([X_test, title_test], axis=1)\n",
    "X_train.head(5)"
   ]
  },
  {
   "cell_type": "markdown",
   "metadata": {
    "application/vnd.databricks.v1+cell": {
     "inputWidgets": {},
     "nuid": "a60aa3d6-cb73-41f6-9eb2-1d515a35c161",
     "showTitle": false,
     "title": ""
    }
   },
   "source": [
    "### 3.4.2 - Encoding Surname\n",
    "First let's examine the frequency of surnames:"
   ]
  },
  {
   "cell_type": "code",
   "execution_count": null,
   "metadata": {
    "application/vnd.databricks.v1+cell": {
     "inputWidgets": {},
     "nuid": "dceabfaa-8dae-46f1-8e5a-13ea24048558",
     "showTitle": false,
     "title": ""
    }
   },
   "outputs": [
    {
     "data": {
      "text/plain": [
       "Out[378]: <AxesSubplot:ylabel='Frequency'>"
      ]
     },
     "metadata": {
      "application/vnd.databricks.v1+output": {
       "addedWidgets": {},
       "arguments": {},
       "data": "Out[378]: <AxesSubplot:ylabel='Frequency'>",
       "datasetInfos": [],
       "metadata": {},
       "removedWidgets": [],
       "type": "ansi"
      }
     },
     "output_type": "display_data"
    },
    {
     "data": {
      "image/png": "[encoded data removed]"
     },
     "metadata": {
      "application/vnd.databricks.v1+output": {
       "addedWidgets": {},
       "arguments": {},
       "data": "data:image/png;base64,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\n",
       "datasetInfos": [],
       "metadata": {},
       "removedWidgets": [],
       "type": "image"
      }
     },
     "output_type": "display_data"
    }
   ],
   "source": [
    "X_train_name.surname.value_counts().plot(kind=\"hist\", figsize=(12,4))"
   ]
  },
  {
   "cell_type": "markdown",
   "metadata": {
    "application/vnd.databricks.v1+cell": {
     "inputWidgets": {},
     "nuid": "9bfc9251-1b16-46a5-953f-8030ad10c7ca",
     "showTitle": false,
     "title": ""
    }
   },
   "source": [
    "Given that most of the surnames are unique, let's just use a frequency encoder"
   ]
  },
  {
   "cell_type": "code",
   "execution_count": null,
   "metadata": {
    "application/vnd.databricks.v1+cell": {
     "inputWidgets": {},
     "nuid": "9c635ffd-592c-4a77-ac3a-5c2d949617b1",
     "showTitle": false,
     "title": ""
    }
   },
   "outputs": [
    {
     "data": {
      "text/html": [
       "<div>\n",
       "<style scoped>\n",
       "    .dataframe tbody tr th:only-of-type {\n",
       "        vertical-align: middle;\n",
       "    }\n",
       "\n",
       "    .dataframe tbody tr th {\n",
       "        vertical-align: top;\n",
       "    }\n",
       "\n",
       "    .dataframe thead th {\n",
       "        text-align: right;\n",
       "    }\n",
       "</style>\n",
       "<table border=\"1\" class=\"dataframe\">\n",
       "  <thead>\n",
       "    <tr style=\"text-align: right;\">\n",
       "      <th></th>\n",
       "      <th>Pclass</th>\n",
       "      <th>Age</th>\n",
       "      <th>SibSp</th>\n",
       "      <th>Parch</th>\n",
       "      <th>Ticket</th>\n",
       "      <th>Fare</th>\n",
       "      <th>Cabin</th>\n",
       "      <th>female</th>\n",
       "      <th>male</th>\n",
       "      <th>C</th>\n",
       "      <th>Q</th>\n",
       "      <th>S</th>\n",
       "      <th>NaN</th>\n",
       "      <th>Master</th>\n",
       "      <th>Miss</th>\n",
       "      <th>Mr</th>\n",
       "      <th>Mrs</th>\n",
       "      <th>Navy</th>\n",
       "      <th>Nobles</th>\n",
       "      <th>Surname</th>\n",
       "    </tr>\n",
       "  </thead>\n",
       "  <tbody>\n",
       "    <tr>\n",
       "      <th>0</th>\n",
       "      <td>3</td>\n",
       "      <td>NaN</td>\n",
       "      <td>0</td>\n",
       "      <td>2</td>\n",
       "      <td>2678</td>\n",
       "      <td>15.2458</td>\n",
       "      <td>NaN</td>\n",
       "      <td>1</td>\n",
       "      <td>0</td>\n",
       "      <td>1</td>\n",
       "      <td>0</td>\n",
       "      <td>0</td>\n",
       "      <td>0</td>\n",
       "      <td>0</td>\n",
       "      <td>0</td>\n",
       "      <td>0</td>\n",
       "      <td>1</td>\n",
       "      <td>0</td>\n",
       "      <td>0</td>\n",
       "      <td>8.0</td>\n",
       "    </tr>\n",
       "    <tr>\n",
       "      <th>1</th>\n",
       "      <td>2</td>\n",
       "      <td>31.0</td>\n",
       "      <td>0</td>\n",
       "      <td>0</td>\n",
       "      <td>C.A. 18723</td>\n",
       "      <td>10.5000</td>\n",
       "      <td>NaN</td>\n",
       "      <td>0</td>\n",
       "      <td>1</td>\n",
       "      <td>0</td>\n",
       "      <td>0</td>\n",
       "      <td>1</td>\n",
       "      <td>0</td>\n",
       "      <td>0</td>\n",
       "      <td>0</td>\n",
       "      <td>1</td>\n",
       "      <td>0</td>\n",
       "      <td>0</td>\n",
       "      <td>0</td>\n",
       "      <td>7.0</td>\n",
       "    </tr>\n",
       "    <tr>\n",
       "      <th>2</th>\n",
       "      <td>2</td>\n",
       "      <td>31.0</td>\n",
       "      <td>1</td>\n",
       "      <td>1</td>\n",
       "      <td>S.C./PARIS 2079</td>\n",
       "      <td>37.0042</td>\n",
       "      <td>NaN</td>\n",
       "      <td>0</td>\n",
       "      <td>1</td>\n",
       "      <td>1</td>\n",
       "      <td>0</td>\n",
       "      <td>0</td>\n",
       "      <td>0</td>\n",
       "      <td>0</td>\n",
       "      <td>0</td>\n",
       "      <td>1</td>\n",
       "      <td>0</td>\n",
       "      <td>0</td>\n",
       "      <td>0</td>\n",
       "      <td>5.0</td>\n",
       "    </tr>\n",
       "    <tr>\n",
       "      <th>3</th>\n",
       "      <td>3</td>\n",
       "      <td>20.0</td>\n",
       "      <td>0</td>\n",
       "      <td>0</td>\n",
       "      <td>2648</td>\n",
       "      <td>4.0125</td>\n",
       "      <td>NaN</td>\n",
       "      <td>0</td>\n",
       "      <td>1</td>\n",
       "      <td>1</td>\n",
       "      <td>0</td>\n",
       "      <td>0</td>\n",
       "      <td>0</td>\n",
       "      <td>0</td>\n",
       "      <td>0</td>\n",
       "      <td>1</td>\n",
       "      <td>0</td>\n",
       "      <td>0</td>\n",
       "      <td>0</td>\n",
       "      <td>5.0</td>\n",
       "    </tr>\n",
       "    <tr>\n",
       "      <th>4</th>\n",
       "      <td>3</td>\n",
       "      <td>21.0</td>\n",
       "      <td>0</td>\n",
       "      <td>0</td>\n",
       "      <td>SOTON/OQ 3101317</td>\n",
       "      <td>7.2500</td>\n",
       "      <td>NaN</td>\n",
       "      <td>0</td>\n",
       "      <td>1</td>\n",
       "      <td>0</td>\n",
       "      <td>0</td>\n",
       "      <td>1</td>\n",
       "      <td>0</td>\n",
       "      <td>0</td>\n",
       "      <td>0</td>\n",
       "      <td>1</td>\n",
       "      <td>0</td>\n",
       "      <td>0</td>\n",
       "      <td>0</td>\n",
       "      <td>4.0</td>\n",
       "    </tr>\n",
       "  </tbody>\n",
       "</table>\n",
       "</div>"
      ]
     },
     "metadata": {
      "application/vnd.databricks.v1+output": {
       "addedWidgets": {},
       "arguments": {},
       "data": "<div>\n<style scoped>\n    .dataframe tbody tr th:only-of-type {\n        vertical-align: middle;\n    }\n\n    .dataframe tbody tr th {\n        vertical-align: top;\n    }\n\n    .dataframe thead th {\n        text-align: right;\n    }\n</style>\n<table border=\"1\" class=\"dataframe\">\n  <thead>\n    <tr style=\"text-align: right;\">\n      <th></th>\n      <th>Pclass</th>\n      <th>Age</th>\n      <th>SibSp</th>\n      <th>Parch</th>\n      <th>Ticket</th>\n      <th>Fare</th>\n      <th>Cabin</th>\n      <th>female</th>\n      <th>male</th>\n      <th>C</th>\n      <th>Q</th>\n      <th>S</th>\n      <th>NaN</th>\n      <th>Master</th>\n      <th>Miss</th>\n      <th>Mr</th>\n      <th>Mrs</th>\n      <th>Navy</th>\n      <th>Nobles</th>\n      <th>Surname</th>\n    </tr>\n  </thead>\n  <tbody>\n    <tr>\n      <th>0</th>\n      <td>3</td>\n      <td>NaN</td>\n      <td>0</td>\n      <td>2</td>\n      <td>2678</td>\n      <td>15.2458</td>\n      <td>NaN</td>\n      <td>1</td>\n      <td>0</td>\n      <td>1</td>\n      <td>0</td>\n      <td>0</td>\n      <td>0</td>\n      <td>0</td>\n      <td>0</td>\n      <td>0</td>\n      <td>1</td>\n      <td>0</td>\n      <td>0</td>\n      <td>8.0</td>\n    </tr>\n    <tr>\n      <th>1</th>\n      <td>2</td>\n      <td>31.0</td>\n      <td>0</td>\n      <td>0</td>\n      <td>C.A. 18723</td>\n      <td>10.5000</td>\n      <td>NaN</td>\n      <td>0</td>\n      <td>1</td>\n      <td>0</td>\n      <td>0</td>\n      <td>1</td>\n      <td>0</td>\n      <td>0</td>\n      <td>0</td>\n      <td>1</td>\n      <td>0</td>\n      <td>0</td>\n      <td>0</td>\n      <td>7.0</td>\n    </tr>\n    <tr>\n      <th>2</th>\n      <td>2</td>\n      <td>31.0</td>\n      <td>1</td>\n      <td>1</td>\n      <td>S.C./PARIS 2079</td>\n      <td>37.0042</td>\n      <td>NaN</td>\n      <td>0</td>\n      <td>1</td>\n      <td>1</td>\n      <td>0</td>\n      <td>0</td>\n      <td>0</td>\n      <td>0</td>\n      <td>0</td>\n      <td>1</td>\n      <td>0</td>\n      <td>0</td>\n      <td>0</td>\n      <td>5.0</td>\n    </tr>\n    <tr>\n      <th>3</th>\n      <td>3</td>\n      <td>20.0</td>\n      <td>0</td>\n      <td>0</td>\n      <td>2648</td>\n      <td>4.0125</td>\n      <td>NaN</td>\n      <td>0</td>\n      <td>1</td>\n      <td>1</td>\n      <td>0</td>\n      <td>0</td>\n      <td>0</td>\n      <td>0</td>\n      <td>0</td>\n      <td>1</td>\n      <td>0</td>\n      <td>0</td>\n      <td>0</td>\n      <td>5.0</td>\n    </tr>\n    <tr>\n      <th>4</th>\n      <td>3</td>\n      <td>21.0</td>\n      <td>0</td>\n      <td>0</td>\n      <td>SOTON/OQ 3101317</td>\n      <td>7.2500</td>\n      <td>NaN</td>\n      <td>0</td>\n      <td>1</td>\n      <td>0</td>\n      <td>0</td>\n      <td>1</td>\n      <td>0</td>\n      <td>0</td>\n      <td>0</td>\n      <td>1</td>\n      <td>0</td>\n      <td>0</td>\n      <td>0</td>\n      <td>4.0</td>\n    </tr>\n  </tbody>\n</table>\n</div>",
       "datasetInfos": [],
       "metadata": {},
       "removedWidgets": [],
       "textData": null,
       "type": "htmlSandbox"
      }
     },
     "output_type": "display_data"
    }
   ],
   "source": [
    "surnames_train = pd.Series(X_train_name.surname.value_counts().values, name=\"Surname\")\n",
    "X_train = pd.concat([X_train, surnames_train], axis=1)\n",
    "\n",
    "surnames_test = pd.Series(X_test_name.surname.value_counts().values, name=\"Surname\")\n",
    "X_test = pd.concat([X_test, surnames_test], axis=1)\n",
    "\n",
    "X_train.head(5)"
   ]
  },
  {
   "cell_type": "markdown",
   "metadata": {
    "application/vnd.databricks.v1+cell": {
     "inputWidgets": {},
     "nuid": "8f4d5203-d4b4-4b84-9a42-92da1eec5cc4",
     "showTitle": false,
     "title": ""
    }
   },
   "source": [
    "## 3.5 - Transforming Ticket (stateless)"
   ]
  },
  {
   "cell_type": "markdown",
   "metadata": {
    "application/vnd.databricks.v1+cell": {
     "inputWidgets": {},
     "nuid": "928ed1a0-b680-4e60-82c3-b23224dabfc4",
     "showTitle": false,
     "title": ""
    }
   },
   "source": [
    "We can indeed data mine out some interesting relationship from Ticket number. But I think it is best to drop it.  \n",
    "We could find some relationship between Pclass and Ticket number, and although one could see that there might be some relationship between them, it is not very strong  \n",
    "We decided to drop this variable as well."
   ]
  },
  {
   "cell_type": "code",
   "execution_count": null,
   "metadata": {
    "application/vnd.databricks.v1+cell": {
     "inputWidgets": {},
     "nuid": "5c801335-148d-45cf-85d6-443504293d8f",
     "showTitle": false,
     "title": ""
    }
   },
   "outputs": [
    {
     "data": {
      "text/html": [
       "<div>\n",
       "<style scoped>\n",
       "    .dataframe tbody tr th:only-of-type {\n",
       "        vertical-align: middle;\n",
       "    }\n",
       "\n",
       "    .dataframe tbody tr th {\n",
       "        vertical-align: top;\n",
       "    }\n",
       "\n",
       "    .dataframe thead th {\n",
       "        text-align: right;\n",
       "    }\n",
       "</style>\n",
       "<table border=\"1\" class=\"dataframe\">\n",
       "  <thead>\n",
       "    <tr style=\"text-align: right;\">\n",
       "      <th></th>\n",
       "      <th>Pclass</th>\n",
       "      <th>Age</th>\n",
       "      <th>SibSp</th>\n",
       "      <th>Parch</th>\n",
       "      <th>Fare</th>\n",
       "      <th>Cabin</th>\n",
       "      <th>female</th>\n",
       "      <th>male</th>\n",
       "      <th>C</th>\n",
       "      <th>Q</th>\n",
       "      <th>S</th>\n",
       "      <th>NaN</th>\n",
       "      <th>Master</th>\n",
       "      <th>Miss</th>\n",
       "      <th>Mr</th>\n",
       "      <th>Mrs</th>\n",
       "      <th>Navy</th>\n",
       "      <th>Nobles</th>\n",
       "      <th>Surname</th>\n",
       "    </tr>\n",
       "  </thead>\n",
       "  <tbody>\n",
       "    <tr>\n",
       "      <th>0</th>\n",
       "      <td>3</td>\n",
       "      <td>NaN</td>\n",
       "      <td>0</td>\n",
       "      <td>2</td>\n",
       "      <td>15.2458</td>\n",
       "      <td>NaN</td>\n",
       "      <td>1</td>\n",
       "      <td>0</td>\n",
       "      <td>1</td>\n",
       "      <td>0</td>\n",
       "      <td>0</td>\n",
       "      <td>0</td>\n",
       "      <td>0</td>\n",
       "      <td>0</td>\n",
       "      <td>0</td>\n",
       "      <td>1</td>\n",
       "      <td>0</td>\n",
       "      <td>0</td>\n",
       "      <td>8.0</td>\n",
       "    </tr>\n",
       "    <tr>\n",
       "      <th>1</th>\n",
       "      <td>2</td>\n",
       "      <td>31.0</td>\n",
       "      <td>0</td>\n",
       "      <td>0</td>\n",
       "      <td>10.5000</td>\n",
       "      <td>NaN</td>\n",
       "      <td>0</td>\n",
       "      <td>1</td>\n",
       "      <td>0</td>\n",
       "      <td>0</td>\n",
       "      <td>1</td>\n",
       "      <td>0</td>\n",
       "      <td>0</td>\n",
       "      <td>0</td>\n",
       "      <td>1</td>\n",
       "      <td>0</td>\n",
       "      <td>0</td>\n",
       "      <td>0</td>\n",
       "      <td>7.0</td>\n",
       "    </tr>\n",
       "    <tr>\n",
       "      <th>2</th>\n",
       "      <td>2</td>\n",
       "      <td>31.0</td>\n",
       "      <td>1</td>\n",
       "      <td>1</td>\n",
       "      <td>37.0042</td>\n",
       "      <td>NaN</td>\n",
       "      <td>0</td>\n",
       "      <td>1</td>\n",
       "      <td>1</td>\n",
       "      <td>0</td>\n",
       "      <td>0</td>\n",
       "      <td>0</td>\n",
       "      <td>0</td>\n",
       "      <td>0</td>\n",
       "      <td>1</td>\n",
       "      <td>0</td>\n",
       "      <td>0</td>\n",
       "      <td>0</td>\n",
       "      <td>5.0</td>\n",
       "    </tr>\n",
       "    <tr>\n",
       "      <th>3</th>\n",
       "      <td>3</td>\n",
       "      <td>20.0</td>\n",
       "      <td>0</td>\n",
       "      <td>0</td>\n",
       "      <td>4.0125</td>\n",
       "      <td>NaN</td>\n",
       "      <td>0</td>\n",
       "      <td>1</td>\n",
       "      <td>1</td>\n",
       "      <td>0</td>\n",
       "      <td>0</td>\n",
       "      <td>0</td>\n",
       "      <td>0</td>\n",
       "      <td>0</td>\n",
       "      <td>1</td>\n",
       "      <td>0</td>\n",
       "      <td>0</td>\n",
       "      <td>0</td>\n",
       "      <td>5.0</td>\n",
       "    </tr>\n",
       "    <tr>\n",
       "      <th>4</th>\n",
       "      <td>3</td>\n",
       "      <td>21.0</td>\n",
       "      <td>0</td>\n",
       "      <td>0</td>\n",
       "      <td>7.2500</td>\n",
       "      <td>NaN</td>\n",
       "      <td>0</td>\n",
       "      <td>1</td>\n",
       "      <td>0</td>\n",
       "      <td>0</td>\n",
       "      <td>1</td>\n",
       "      <td>0</td>\n",
       "      <td>0</td>\n",
       "      <td>0</td>\n",
       "      <td>1</td>\n",
       "      <td>0</td>\n",
       "      <td>0</td>\n",
       "      <td>0</td>\n",
       "      <td>4.0</td>\n",
       "    </tr>\n",
       "  </tbody>\n",
       "</table>\n",
       "</div>"
      ]
     },
     "metadata": {
      "application/vnd.databricks.v1+output": {
       "addedWidgets": {},
       "arguments": {},
       "data": "<div>\n<style scoped>\n    .dataframe tbody tr th:only-of-type {\n        vertical-align: middle;\n    }\n\n    .dataframe tbody tr th {\n        vertical-align: top;\n    }\n\n    .dataframe thead th {\n        text-align: right;\n    }\n</style>\n<table border=\"1\" class=\"dataframe\">\n  <thead>\n    <tr style=\"text-align: right;\">\n      <th></th>\n      <th>Pclass</th>\n      <th>Age</th>\n      <th>SibSp</th>\n      <th>Parch</th>\n      <th>Fare</th>\n      <th>Cabin</th>\n      <th>female</th>\n      <th>male</th>\n      <th>C</th>\n      <th>Q</th>\n      <th>S</th>\n      <th>NaN</th>\n      <th>Master</th>\n      <th>Miss</th>\n      <th>Mr</th>\n      <th>Mrs</th>\n      <th>Navy</th>\n      <th>Nobles</th>\n      <th>Surname</th>\n    </tr>\n  </thead>\n  <tbody>\n    <tr>\n      <th>0</th>\n      <td>3</td>\n      <td>NaN</td>\n      <td>0</td>\n      <td>2</td>\n      <td>15.2458</td>\n      <td>NaN</td>\n      <td>1</td>\n      <td>0</td>\n      <td>1</td>\n      <td>0</td>\n      <td>0</td>\n      <td>0</td>\n      <td>0</td>\n      <td>0</td>\n      <td>0</td>\n      <td>1</td>\n      <td>0</td>\n      <td>0</td>\n      <td>8.0</td>\n    </tr>\n    <tr>\n      <th>1</th>\n      <td>2</td>\n      <td>31.0</td>\n      <td>0</td>\n      <td>0</td>\n      <td>10.5000</td>\n      <td>NaN</td>\n      <td>0</td>\n      <td>1</td>\n      <td>0</td>\n      <td>0</td>\n      <td>1</td>\n      <td>0</td>\n      <td>0</td>\n      <td>0</td>\n      <td>1</td>\n      <td>0</td>\n      <td>0</td>\n      <td>0</td>\n      <td>7.0</td>\n    </tr>\n    <tr>\n      <th>2</th>\n      <td>2</td>\n      <td>31.0</td>\n      <td>1</td>\n      <td>1</td>\n      <td>37.0042</td>\n      <td>NaN</td>\n      <td>0</td>\n      <td>1</td>\n      <td>1</td>\n      <td>0</td>\n      <td>0</td>\n      <td>0</td>\n      <td>0</td>\n      <td>0</td>\n      <td>1</td>\n      <td>0</td>\n      <td>0</td>\n      <td>0</td>\n      <td>5.0</td>\n    </tr>\n    <tr>\n      <th>3</th>\n      <td>3</td>\n      <td>20.0</td>\n      <td>0</td>\n      <td>0</td>\n      <td>4.0125</td>\n      <td>NaN</td>\n      <td>0</td>\n      <td>1</td>\n      <td>1</td>\n      <td>0</td>\n      <td>0</td>\n      <td>0</td>\n      <td>0</td>\n      <td>0</td>\n      <td>1</td>\n      <td>0</td>\n      <td>0</td>\n      <td>0</td>\n      <td>5.0</td>\n    </tr>\n    <tr>\n      <th>4</th>\n      <td>3</td>\n      <td>21.0</td>\n      <td>0</td>\n      <td>0</td>\n      <td>7.2500</td>\n      <td>NaN</td>\n      <td>0</td>\n      <td>1</td>\n      <td>0</td>\n      <td>0</td>\n      <td>1</td>\n      <td>0</td>\n      <td>0</td>\n      <td>0</td>\n      <td>1</td>\n      <td>0</td>\n      <td>0</td>\n      <td>0</td>\n      <td>4.0</td>\n    </tr>\n  </tbody>\n</table>\n</div>",
       "datasetInfos": [],
       "metadata": {},
       "removedWidgets": [],
       "textData": null,
       "type": "htmlSandbox"
      }
     },
     "output_type": "display_data"
    }
   ],
   "source": [
    "X_train.drop(['Ticket'], axis=1, inplace=True)\n",
    "X_test.drop(['Ticket'], axis=1, inplace=True)\n",
    "X_train.head(5)"
   ]
  },
  {
   "cell_type": "markdown",
   "metadata": {
    "application/vnd.databricks.v1+cell": {
     "inputWidgets": {},
     "nuid": "4dbf3804-9396-40c9-8a7a-2d376eb8603a",
     "showTitle": false,
     "title": ""
    }
   },
   "source": [
    "## 3.6 - Transforming Cabin (stateful)"
   ]
  },
  {
   "cell_type": "markdown",
   "metadata": {
    "application/vnd.databricks.v1+cell": {
     "inputWidgets": {},
     "nuid": "2e69ae2e-2cb3-4c3b-9900-dde8c4ed2d9d",
     "showTitle": false,
     "title": ""
    },
    "id": "R0P5og-Zw-yb"
   },
   "source": [
    "Instead of using the Cabin feature as it is - using traditional hot-encoding, we can try using only the letters.  \n",
    "After doing some research, we could know that a cabin number looks like ‘C123’ and the letter refers to the deck.  \n",
    "+ We’re going to extract these and create a new feature, that contains a persons deck.  \n",
    "+ And then we will convert the feature into a numeric variable."
   ]
  },
  {
   "cell_type": "code",
   "execution_count": null,
   "metadata": {
    "application/vnd.databricks.v1+cell": {
     "inputWidgets": {},
     "nuid": "c1f269d4-4ed1-4053-a339-6fb90207274d",
     "showTitle": false,
     "title": ""
    },
    "colab": {
     "base_uri": "https://localhost:8080/"
    },
    "id": "2K041pM2w-yV",
    "outputId": "028a1e6a-8133-42d5-c870-61d32c618c84",
    "scrolled": true
   },
   "outputs": [
    {
     "data": {
      "text/plain": [
       "Out[381]: C23 C25 C27    3\n",
       "G6             3\n",
       "C22 C26        3\n",
       "E101           3\n",
       "D              3\n",
       "              ..\n",
       "D17            1\n",
       "D50            1\n",
       "A14            1\n",
       "A36            1\n",
       "E49            1\n",
       "Name: Cabin, Length: 127, dtype: int64"
      ]
     },
     "metadata": {
      "application/vnd.databricks.v1+output": {
       "addedWidgets": {},
       "arguments": {},
       "data": "Out[381]: C23 C25 C27    3\nG6             3\nC22 C26        3\nE101           3\nD              3\n              ..\nD17            1\nD50            1\nA14            1\nA36            1\nE49            1\nName: Cabin, Length: 127, dtype: int64",
       "datasetInfos": [],
       "metadata": {},
       "removedWidgets": [],
       "type": "ansi"
      }
     },
     "output_type": "display_data"
    }
   ],
   "source": [
    "X_train['Cabin'].value_counts()"
   ]
  },
  {
   "cell_type": "code",
   "execution_count": null,
   "metadata": {
    "application/vnd.databricks.v1+cell": {
     "inputWidgets": {},
     "nuid": "c38510f4-2e3d-4de9-b7de-f4c5b7644a53",
     "showTitle": false,
     "title": ""
    },
    "id": "odD36gdJw-yg"
   },
   "outputs": [],
   "source": [
    "deck = {\"A\": 1, \"B\": 2, \"C\": 3, \"D\": 4, \"E\": 5, \"F\": 6, \"G\": 7, \"U\": 8}\n",
    "data = [X_train, X_test]\n",
    "\n",
    "for dataset in data:\n",
    "    dataset['Cabin'] = dataset['Cabin'].fillna(\"U0\")\n",
    "    dataset['Deck'] = dataset['Cabin'].map(lambda x: re.compile(\"([a-zA-Z]+)\").search(x).group())\n",
    "    dataset['Deck'] = dataset['Deck'].map(deck)\n",
    "    dataset['Deck'] = dataset['Deck'].fillna(0)\n",
    "    dataset['Deck'] = dataset['Deck'].astype(int)"
   ]
  },
  {
   "cell_type": "code",
   "execution_count": null,
   "metadata": {
    "application/vnd.databricks.v1+cell": {
     "inputWidgets": {},
     "nuid": "f47b313b-ccf5-4d36-8b8c-84368a4de6e0",
     "showTitle": false,
     "title": ""
    }
   },
   "outputs": [
    {
     "data": {
      "text/html": [
       "<div>\n",
       "<style scoped>\n",
       "    .dataframe tbody tr th:only-of-type {\n",
       "        vertical-align: middle;\n",
       "    }\n",
       "\n",
       "    .dataframe tbody tr th {\n",
       "        vertical-align: top;\n",
       "    }\n",
       "\n",
       "    .dataframe thead th {\n",
       "        text-align: right;\n",
       "    }\n",
       "</style>\n",
       "<table border=\"1\" class=\"dataframe\">\n",
       "  <thead>\n",
       "    <tr style=\"text-align: right;\">\n",
       "      <th></th>\n",
       "      <th>Pclass</th>\n",
       "      <th>Age</th>\n",
       "      <th>SibSp</th>\n",
       "      <th>Parch</th>\n",
       "      <th>Fare</th>\n",
       "      <th>female</th>\n",
       "      <th>male</th>\n",
       "      <th>C</th>\n",
       "      <th>Q</th>\n",
       "      <th>S</th>\n",
       "      <th>NaN</th>\n",
       "      <th>Master</th>\n",
       "      <th>Miss</th>\n",
       "      <th>Mr</th>\n",
       "      <th>Mrs</th>\n",
       "      <th>Navy</th>\n",
       "      <th>Nobles</th>\n",
       "      <th>Surname</th>\n",
       "      <th>Deck</th>\n",
       "    </tr>\n",
       "  </thead>\n",
       "  <tbody>\n",
       "    <tr>\n",
       "      <th>0</th>\n",
       "      <td>3</td>\n",
       "      <td>NaN</td>\n",
       "      <td>0</td>\n",
       "      <td>2</td>\n",
       "      <td>15.2458</td>\n",
       "      <td>1</td>\n",
       "      <td>0</td>\n",
       "      <td>1</td>\n",
       "      <td>0</td>\n",
       "      <td>0</td>\n",
       "      <td>0</td>\n",
       "      <td>0</td>\n",
       "      <td>0</td>\n",
       "      <td>0</td>\n",
       "      <td>1</td>\n",
       "      <td>0</td>\n",
       "      <td>0</td>\n",
       "      <td>8.0</td>\n",
       "      <td>8</td>\n",
       "    </tr>\n",
       "    <tr>\n",
       "      <th>1</th>\n",
       "      <td>2</td>\n",
       "      <td>31.0</td>\n",
       "      <td>0</td>\n",
       "      <td>0</td>\n",
       "      <td>10.5000</td>\n",
       "      <td>0</td>\n",
       "      <td>1</td>\n",
       "      <td>0</td>\n",
       "      <td>0</td>\n",
       "      <td>1</td>\n",
       "      <td>0</td>\n",
       "      <td>0</td>\n",
       "      <td>0</td>\n",
       "      <td>1</td>\n",
       "      <td>0</td>\n",
       "      <td>0</td>\n",
       "      <td>0</td>\n",
       "      <td>7.0</td>\n",
       "      <td>8</td>\n",
       "    </tr>\n",
       "    <tr>\n",
       "      <th>2</th>\n",
       "      <td>2</td>\n",
       "      <td>31.0</td>\n",
       "      <td>1</td>\n",
       "      <td>1</td>\n",
       "      <td>37.0042</td>\n",
       "      <td>0</td>\n",
       "      <td>1</td>\n",
       "      <td>1</td>\n",
       "      <td>0</td>\n",
       "      <td>0</td>\n",
       "      <td>0</td>\n",
       "      <td>0</td>\n",
       "      <td>0</td>\n",
       "      <td>1</td>\n",
       "      <td>0</td>\n",
       "      <td>0</td>\n",
       "      <td>0</td>\n",
       "      <td>5.0</td>\n",
       "      <td>8</td>\n",
       "    </tr>\n",
       "    <tr>\n",
       "      <th>3</th>\n",
       "      <td>3</td>\n",
       "      <td>20.0</td>\n",
       "      <td>0</td>\n",
       "      <td>0</td>\n",
       "      <td>4.0125</td>\n",
       "      <td>0</td>\n",
       "      <td>1</td>\n",
       "      <td>1</td>\n",
       "      <td>0</td>\n",
       "      <td>0</td>\n",
       "      <td>0</td>\n",
       "      <td>0</td>\n",
       "      <td>0</td>\n",
       "      <td>1</td>\n",
       "      <td>0</td>\n",
       "      <td>0</td>\n",
       "      <td>0</td>\n",
       "      <td>5.0</td>\n",
       "      <td>8</td>\n",
       "    </tr>\n",
       "    <tr>\n",
       "      <th>4</th>\n",
       "      <td>3</td>\n",
       "      <td>21.0</td>\n",
       "      <td>0</td>\n",
       "      <td>0</td>\n",
       "      <td>7.2500</td>\n",
       "      <td>0</td>\n",
       "      <td>1</td>\n",
       "      <td>0</td>\n",
       "      <td>0</td>\n",
       "      <td>1</td>\n",
       "      <td>0</td>\n",
       "      <td>0</td>\n",
       "      <td>0</td>\n",
       "      <td>1</td>\n",
       "      <td>0</td>\n",
       "      <td>0</td>\n",
       "      <td>0</td>\n",
       "      <td>4.0</td>\n",
       "      <td>8</td>\n",
       "    </tr>\n",
       "  </tbody>\n",
       "</table>\n",
       "</div>"
      ]
     },
     "metadata": {
      "application/vnd.databricks.v1+output": {
       "addedWidgets": {},
       "arguments": {},
       "data": "<div>\n<style scoped>\n    .dataframe tbody tr th:only-of-type {\n        vertical-align: middle;\n    }\n\n    .dataframe tbody tr th {\n        vertical-align: top;\n    }\n\n    .dataframe thead th {\n        text-align: right;\n    }\n</style>\n<table border=\"1\" class=\"dataframe\">\n  <thead>\n    <tr style=\"text-align: right;\">\n      <th></th>\n      <th>Pclass</th>\n      <th>Age</th>\n      <th>SibSp</th>\n      <th>Parch</th>\n      <th>Fare</th>\n      <th>female</th>\n      <th>male</th>\n      <th>C</th>\n      <th>Q</th>\n      <th>S</th>\n      <th>NaN</th>\n      <th>Master</th>\n      <th>Miss</th>\n      <th>Mr</th>\n      <th>Mrs</th>\n      <th>Navy</th>\n      <th>Nobles</th>\n      <th>Surname</th>\n      <th>Deck</th>\n    </tr>\n  </thead>\n  <tbody>\n    <tr>\n      <th>0</th>\n      <td>3</td>\n      <td>NaN</td>\n      <td>0</td>\n      <td>2</td>\n      <td>15.2458</td>\n      <td>1</td>\n      <td>0</td>\n      <td>1</td>\n      <td>0</td>\n      <td>0</td>\n      <td>0</td>\n      <td>0</td>\n      <td>0</td>\n      <td>0</td>\n      <td>1</td>\n      <td>0</td>\n      <td>0</td>\n      <td>8.0</td>\n      <td>8</td>\n    </tr>\n    <tr>\n      <th>1</th>\n      <td>2</td>\n      <td>31.0</td>\n      <td>0</td>\n      <td>0</td>\n      <td>10.5000</td>\n      <td>0</td>\n      <td>1</td>\n      <td>0</td>\n      <td>0</td>\n      <td>1</td>\n      <td>0</td>\n      <td>0</td>\n      <td>0</td>\n      <td>1</td>\n      <td>0</td>\n      <td>0</td>\n      <td>0</td>\n      <td>7.0</td>\n      <td>8</td>\n    </tr>\n    <tr>\n      <th>2</th>\n      <td>2</td>\n      <td>31.0</td>\n      <td>1</td>\n      <td>1</td>\n      <td>37.0042</td>\n      <td>0</td>\n      <td>1</td>\n      <td>1</td>\n      <td>0</td>\n      <td>0</td>\n      <td>0</td>\n      <td>0</td>\n      <td>0</td>\n      <td>1</td>\n      <td>0</td>\n      <td>0</td>\n      <td>0</td>\n      <td>5.0</td>\n      <td>8</td>\n    </tr>\n    <tr>\n      <th>3</th>\n      <td>3</td>\n      <td>20.0</td>\n      <td>0</td>\n      <td>0</td>\n      <td>4.0125</td>\n      <td>0</td>\n      <td>1</td>\n      <td>1</td>\n      <td>0</td>\n      <td>0</td>\n      <td>0</td>\n      <td>0</td>\n      <td>0</td>\n      <td>1</td>\n      <td>0</td>\n      <td>0</td>\n      <td>0</td>\n      <td>5.0</td>\n      <td>8</td>\n    </tr>\n    <tr>\n      <th>4</th>\n      <td>3</td>\n      <td>21.0</td>\n      <td>0</td>\n      <td>0</td>\n      <td>7.2500</td>\n      <td>0</td>\n      <td>1</td>\n      <td>0</td>\n      <td>0</td>\n      <td>1</td>\n      <td>0</td>\n      <td>0</td>\n      <td>0</td>\n      <td>1</td>\n      <td>0</td>\n      <td>0</td>\n      <td>0</td>\n      <td>4.0</td>\n      <td>8</td>\n    </tr>\n  </tbody>\n</table>\n</div>",
       "datasetInfos": [],
       "metadata": {},
       "removedWidgets": [],
       "textData": null,
       "type": "htmlSandbox"
      }
     },
     "output_type": "display_data"
    }
   ],
   "source": [
    "X_train.drop(['Cabin'], axis=1, inplace=True)\n",
    "X_test.drop(['Cabin'], axis=1, inplace=True)\n",
    "\n",
    "X_train.head(5)"
   ]
  },
  {
   "cell_type": "markdown",
   "metadata": {
    "application/vnd.databricks.v1+cell": {
     "inputWidgets": {},
     "nuid": "532250d4-33e1-4f4d-9935-64314644157f",
     "showTitle": false,
     "title": ""
    }
   },
   "source": [
    "## 3.7 - Transforming Age (stateful)  \n",
    "We will use the iterative inputer that chooses to fill the missing values using a model with the other features"
   ]
  },
  {
   "cell_type": "code",
   "execution_count": null,
   "metadata": {
    "application/vnd.databricks.v1+cell": {
     "inputWidgets": {},
     "nuid": "ac248635-f236-493a-abbe-f538cce1bbda",
     "showTitle": false,
     "title": ""
    }
   },
   "outputs": [],
   "source": [
    "imp_mean = IterativeImputer(random_state=0)"
   ]
  },
  {
   "cell_type": "code",
   "execution_count": null,
   "metadata": {
    "application/vnd.databricks.v1+cell": {
     "inputWidgets": {},
     "nuid": "20ba44e1-5cf9-4bb4-8955-a9d5cd0361c7",
     "showTitle": false,
     "title": ""
    }
   },
   "outputs": [
    {
     "data": {
      "text/plain": [
       "Out[386]: IterativeImputer(random_state=0)"
      ]
     },
     "metadata": {
      "application/vnd.databricks.v1+output": {
       "addedWidgets": {},
       "arguments": {},
       "data": "Out[386]: IterativeImputer(random_state=0)",
       "datasetInfos": [],
       "metadata": {},
       "removedWidgets": [],
       "type": "ansi"
      }
     },
     "output_type": "display_data"
    }
   ],
   "source": [
    "imp_mean.fit(X_train)"
   ]
  },
  {
   "cell_type": "code",
   "execution_count": null,
   "metadata": {
    "application/vnd.databricks.v1+cell": {
     "inputWidgets": {},
     "nuid": "55d50ffa-049c-4ae3-9488-0879949fccab",
     "showTitle": false,
     "title": ""
    }
   },
   "outputs": [],
   "source": [
    "X_train = pd.DataFrame(imp_mean.transform(X_train.values), columns=X_train.columns)\n",
    "X_test = pd.DataFrame(imp_mean.transform(X_test.values), columns=X_test.columns)"
   ]
  },
  {
   "cell_type": "markdown",
   "metadata": {
    "application/vnd.databricks.v1+cell": {
     "inputWidgets": {},
     "nuid": "366b48f7-e3b1-4ae9-b18f-cb3849b37227",
     "showTitle": false,
     "title": ""
    }
   },
   "source": [
    "## 3.8 - Standardizing values\n",
    "+ Check there are no more missing values   \n",
    "+ Check all features are numeric"
   ]
  },
  {
   "cell_type": "code",
   "execution_count": null,
   "metadata": {
    "application/vnd.databricks.v1+cell": {
     "inputWidgets": {},
     "nuid": "1d76f5d2-4197-4fd8-a7c5-9e54df3e6b2c",
     "showTitle": false,
     "title": ""
    },
    "colab": {
     "base_uri": "https://localhost:8080/"
    },
    "id": "Vb9WAAtYw-xu",
    "outputId": "17a7ea90-cd80-47bc-ca04-6d3e155a598e"
   },
   "outputs": [
    {
     "data": {
      "text/plain": [
       "0\n",
       "0\n"
      ]
     },
     "metadata": {
      "application/vnd.databricks.v1+output": {
       "addedWidgets": {},
       "arguments": {},
       "data": "0\n0\n",
       "datasetInfos": [],
       "metadata": {},
       "removedWidgets": [],
       "type": "ansi"
      }
     },
     "output_type": "display_data"
    }
   ],
   "source": [
    "print(X_train.isnull().sum().sum())\n",
    "print(X_test.isnull().sum().sum())"
   ]
  },
  {
   "cell_type": "code",
   "execution_count": null,
   "metadata": {
    "application/vnd.databricks.v1+cell": {
     "inputWidgets": {},
     "nuid": "86ab9964-6b10-4f9d-8d6b-88e65ae9a99d",
     "showTitle": false,
     "title": ""
    }
   },
   "outputs": [
    {
     "data": {
      "text/html": [
       "<div>\n",
       "<style scoped>\n",
       "    .dataframe tbody tr th:only-of-type {\n",
       "        vertical-align: middle;\n",
       "    }\n",
       "\n",
       "    .dataframe tbody tr th {\n",
       "        vertical-align: top;\n",
       "    }\n",
       "\n",
       "    .dataframe thead th {\n",
       "        text-align: right;\n",
       "    }\n",
       "</style>\n",
       "<table border=\"1\" class=\"dataframe\">\n",
       "  <thead>\n",
       "    <tr style=\"text-align: right;\">\n",
       "      <th></th>\n",
       "      <th>Pclass</th>\n",
       "      <th>Age</th>\n",
       "      <th>SibSp</th>\n",
       "      <th>Parch</th>\n",
       "      <th>Fare</th>\n",
       "      <th>female</th>\n",
       "      <th>male</th>\n",
       "      <th>C</th>\n",
       "      <th>Q</th>\n",
       "      <th>S</th>\n",
       "      <th>NaN</th>\n",
       "      <th>Master</th>\n",
       "      <th>Miss</th>\n",
       "      <th>Mr</th>\n",
       "      <th>Mrs</th>\n",
       "      <th>Navy</th>\n",
       "      <th>Nobles</th>\n",
       "      <th>Surname</th>\n",
       "      <th>Deck</th>\n",
       "    </tr>\n",
       "  </thead>\n",
       "  <tbody>\n",
       "    <tr>\n",
       "      <th>0</th>\n",
       "      <td>3.0</td>\n",
       "      <td>28.792526</td>\n",
       "      <td>0.0</td>\n",
       "      <td>2.0</td>\n",
       "      <td>15.2458</td>\n",
       "      <td>1.0</td>\n",
       "      <td>0.0</td>\n",
       "      <td>1.0</td>\n",
       "      <td>0.0</td>\n",
       "      <td>0.0</td>\n",
       "      <td>0.0</td>\n",
       "      <td>0.0</td>\n",
       "      <td>0.0</td>\n",
       "      <td>0.0</td>\n",
       "      <td>1.0</td>\n",
       "      <td>0.0</td>\n",
       "      <td>0.0</td>\n",
       "      <td>8.0</td>\n",
       "      <td>8.0</td>\n",
       "    </tr>\n",
       "    <tr>\n",
       "      <th>1</th>\n",
       "      <td>2.0</td>\n",
       "      <td>31.000000</td>\n",
       "      <td>0.0</td>\n",
       "      <td>0.0</td>\n",
       "      <td>10.5000</td>\n",
       "      <td>0.0</td>\n",
       "      <td>1.0</td>\n",
       "      <td>0.0</td>\n",
       "      <td>0.0</td>\n",
       "      <td>1.0</td>\n",
       "      <td>0.0</td>\n",
       "      <td>0.0</td>\n",
       "      <td>0.0</td>\n",
       "      <td>1.0</td>\n",
       "      <td>0.0</td>\n",
       "      <td>0.0</td>\n",
       "      <td>0.0</td>\n",
       "      <td>7.0</td>\n",
       "      <td>8.0</td>\n",
       "    </tr>\n",
       "    <tr>\n",
       "      <th>2</th>\n",
       "      <td>2.0</td>\n",
       "      <td>31.000000</td>\n",
       "      <td>1.0</td>\n",
       "      <td>1.0</td>\n",
       "      <td>37.0042</td>\n",
       "      <td>0.0</td>\n",
       "      <td>1.0</td>\n",
       "      <td>1.0</td>\n",
       "      <td>0.0</td>\n",
       "      <td>0.0</td>\n",
       "      <td>0.0</td>\n",
       "      <td>0.0</td>\n",
       "      <td>0.0</td>\n",
       "      <td>1.0</td>\n",
       "      <td>0.0</td>\n",
       "      <td>0.0</td>\n",
       "      <td>0.0</td>\n",
       "      <td>5.0</td>\n",
       "      <td>8.0</td>\n",
       "    </tr>\n",
       "    <tr>\n",
       "      <th>3</th>\n",
       "      <td>3.0</td>\n",
       "      <td>20.000000</td>\n",
       "      <td>0.0</td>\n",
       "      <td>0.0</td>\n",
       "      <td>4.0125</td>\n",
       "      <td>0.0</td>\n",
       "      <td>1.0</td>\n",
       "      <td>1.0</td>\n",
       "      <td>0.0</td>\n",
       "      <td>0.0</td>\n",
       "      <td>0.0</td>\n",
       "      <td>0.0</td>\n",
       "      <td>0.0</td>\n",
       "      <td>1.0</td>\n",
       "      <td>0.0</td>\n",
       "      <td>0.0</td>\n",
       "      <td>0.0</td>\n",
       "      <td>5.0</td>\n",
       "      <td>8.0</td>\n",
       "    </tr>\n",
       "    <tr>\n",
       "      <th>4</th>\n",
       "      <td>3.0</td>\n",
       "      <td>21.000000</td>\n",
       "      <td>0.0</td>\n",
       "      <td>0.0</td>\n",
       "      <td>7.2500</td>\n",
       "      <td>0.0</td>\n",
       "      <td>1.0</td>\n",
       "      <td>0.0</td>\n",
       "      <td>0.0</td>\n",
       "      <td>1.0</td>\n",
       "      <td>0.0</td>\n",
       "      <td>0.0</td>\n",
       "      <td>0.0</td>\n",
       "      <td>1.0</td>\n",
       "      <td>0.0</td>\n",
       "      <td>0.0</td>\n",
       "      <td>0.0</td>\n",
       "      <td>4.0</td>\n",
       "      <td>8.0</td>\n",
       "    </tr>\n",
       "  </tbody>\n",
       "</table>\n",
       "</div>"
      ]
     },
     "metadata": {
      "application/vnd.databricks.v1+output": {
       "addedWidgets": {},
       "arguments": {},
       "data": "<div>\n<style scoped>\n    .dataframe tbody tr th:only-of-type {\n        vertical-align: middle;\n    }\n\n    .dataframe tbody tr th {\n        vertical-align: top;\n    }\n\n    .dataframe thead th {\n        text-align: right;\n    }\n</style>\n<table border=\"1\" class=\"dataframe\">\n  <thead>\n    <tr style=\"text-align: right;\">\n      <th></th>\n      <th>Pclass</th>\n      <th>Age</th>\n      <th>SibSp</th>\n      <th>Parch</th>\n      <th>Fare</th>\n      <th>female</th>\n      <th>male</th>\n      <th>C</th>\n      <th>Q</th>\n      <th>S</th>\n      <th>NaN</th>\n      <th>Master</th>\n      <th>Miss</th>\n      <th>Mr</th>\n      <th>Mrs</th>\n      <th>Navy</th>\n      <th>Nobles</th>\n      <th>Surname</th>\n      <th>Deck</th>\n    </tr>\n  </thead>\n  <tbody>\n    <tr>\n      <th>0</th>\n      <td>3.0</td>\n      <td>28.792526</td>\n      <td>0.0</td>\n      <td>2.0</td>\n      <td>15.2458</td>\n      <td>1.0</td>\n      <td>0.0</td>\n      <td>1.0</td>\n      <td>0.0</td>\n      <td>0.0</td>\n      <td>0.0</td>\n      <td>0.0</td>\n      <td>0.0</td>\n      <td>0.0</td>\n      <td>1.0</td>\n      <td>0.0</td>\n      <td>0.0</td>\n      <td>8.0</td>\n      <td>8.0</td>\n    </tr>\n    <tr>\n      <th>1</th>\n      <td>2.0</td>\n      <td>31.000000</td>\n      <td>0.0</td>\n      <td>0.0</td>\n      <td>10.5000</td>\n      <td>0.0</td>\n      <td>1.0</td>\n      <td>0.0</td>\n      <td>0.0</td>\n      <td>1.0</td>\n      <td>0.0</td>\n      <td>0.0</td>\n      <td>0.0</td>\n      <td>1.0</td>\n      <td>0.0</td>\n      <td>0.0</td>\n      <td>0.0</td>\n      <td>7.0</td>\n      <td>8.0</td>\n    </tr>\n    <tr>\n      <th>2</th>\n      <td>2.0</td>\n      <td>31.000000</td>\n      <td>1.0</td>\n      <td>1.0</td>\n      <td>37.0042</td>\n      <td>0.0</td>\n      <td>1.0</td>\n      <td>1.0</td>\n      <td>0.0</td>\n      <td>0.0</td>\n      <td>0.0</td>\n      <td>0.0</td>\n      <td>0.0</td>\n      <td>1.0</td>\n      <td>0.0</td>\n      <td>0.0</td>\n      <td>0.0</td>\n      <td>5.0</td>\n      <td>8.0</td>\n    </tr>\n    <tr>\n      <th>3</th>\n      <td>3.0</td>\n      <td>20.000000</td>\n      <td>0.0</td>\n      <td>0.0</td>\n      <td>4.0125</td>\n      <td>0.0</td>\n      <td>1.0</td>\n      <td>1.0</td>\n      <td>0.0</td>\n      <td>0.0</td>\n      <td>0.0</td>\n      <td>0.0</td>\n      <td>0.0</td>\n      <td>1.0</td>\n      <td>0.0</td>\n      <td>0.0</td>\n      <td>0.0</td>\n      <td>5.0</td>\n      <td>8.0</td>\n    </tr>\n    <tr>\n      <th>4</th>\n      <td>3.0</td>\n      <td>21.000000</td>\n      <td>0.0</td>\n      <td>0.0</td>\n      <td>7.2500</td>\n      <td>0.0</td>\n      <td>1.0</td>\n      <td>0.0</td>\n      <td>0.0</td>\n      <td>1.0</td>\n      <td>0.0</td>\n      <td>0.0</td>\n      <td>0.0</td>\n      <td>1.0</td>\n      <td>0.0</td>\n      <td>0.0</td>\n      <td>0.0</td>\n      <td>4.0</td>\n      <td>8.0</td>\n    </tr>\n  </tbody>\n</table>\n</div>",
       "datasetInfos": [],
       "metadata": {},
       "removedWidgets": [],
       "textData": null,
       "type": "htmlSandbox"
      }
     },
     "output_type": "display_data"
    }
   ],
   "source": [
    "X_train.head()"
   ]
  },
  {
   "cell_type": "code",
   "execution_count": null,
   "metadata": {
    "application/vnd.databricks.v1+cell": {
     "inputWidgets": {},
     "nuid": "5baf20ac-90b6-41fa-9632-e3327a550bf7",
     "showTitle": false,
     "title": ""
    }
   },
   "outputs": [
    {
     "data": {
      "text/html": [
       "<div>\n",
       "<style scoped>\n",
       "    .dataframe tbody tr th:only-of-type {\n",
       "        vertical-align: middle;\n",
       "    }\n",
       "\n",
       "    .dataframe tbody tr th {\n",
       "        vertical-align: top;\n",
       "    }\n",
       "\n",
       "    .dataframe thead th {\n",
       "        text-align: right;\n",
       "    }\n",
       "</style>\n",
       "<table border=\"1\" class=\"dataframe\">\n",
       "  <thead>\n",
       "    <tr style=\"text-align: right;\">\n",
       "      <th></th>\n",
       "      <th>Pclass</th>\n",
       "      <th>Age</th>\n",
       "      <th>SibSp</th>\n",
       "      <th>Parch</th>\n",
       "      <th>Fare</th>\n",
       "      <th>female</th>\n",
       "      <th>male</th>\n",
       "      <th>C</th>\n",
       "      <th>Q</th>\n",
       "      <th>S</th>\n",
       "      <th>NaN</th>\n",
       "      <th>Master</th>\n",
       "      <th>Miss</th>\n",
       "      <th>Mr</th>\n",
       "      <th>Mrs</th>\n",
       "      <th>Navy</th>\n",
       "      <th>Nobles</th>\n",
       "      <th>Surname</th>\n",
       "      <th>Deck</th>\n",
       "    </tr>\n",
       "  </thead>\n",
       "  <tbody>\n",
       "    <tr>\n",
       "      <th>0</th>\n",
       "      <td>3.0</td>\n",
       "      <td>27.771277</td>\n",
       "      <td>0.0</td>\n",
       "      <td>0.0</td>\n",
       "      <td>14.4583</td>\n",
       "      <td>0.0</td>\n",
       "      <td>1.0</td>\n",
       "      <td>1.0</td>\n",
       "      <td>0.0</td>\n",
       "      <td>0.0</td>\n",
       "      <td>0.0</td>\n",
       "      <td>0.0</td>\n",
       "      <td>0.0</td>\n",
       "      <td>1.0</td>\n",
       "      <td>0.0</td>\n",
       "      <td>0.0</td>\n",
       "      <td>0.0</td>\n",
       "      <td>3.0</td>\n",
       "      <td>8.0</td>\n",
       "    </tr>\n",
       "    <tr>\n",
       "      <th>1</th>\n",
       "      <td>3.0</td>\n",
       "      <td>29.328240</td>\n",
       "      <td>0.0</td>\n",
       "      <td>0.0</td>\n",
       "      <td>7.5500</td>\n",
       "      <td>0.0</td>\n",
       "      <td>1.0</td>\n",
       "      <td>0.0</td>\n",
       "      <td>0.0</td>\n",
       "      <td>1.0</td>\n",
       "      <td>0.0</td>\n",
       "      <td>0.0</td>\n",
       "      <td>0.0</td>\n",
       "      <td>1.0</td>\n",
       "      <td>0.0</td>\n",
       "      <td>0.0</td>\n",
       "      <td>0.0</td>\n",
       "      <td>3.0</td>\n",
       "      <td>8.0</td>\n",
       "    </tr>\n",
       "    <tr>\n",
       "      <th>2</th>\n",
       "      <td>3.0</td>\n",
       "      <td>7.000000</td>\n",
       "      <td>4.0</td>\n",
       "      <td>1.0</td>\n",
       "      <td>29.1250</td>\n",
       "      <td>0.0</td>\n",
       "      <td>1.0</td>\n",
       "      <td>0.0</td>\n",
       "      <td>1.0</td>\n",
       "      <td>0.0</td>\n",
       "      <td>0.0</td>\n",
       "      <td>1.0</td>\n",
       "      <td>0.0</td>\n",
       "      <td>0.0</td>\n",
       "      <td>0.0</td>\n",
       "      <td>0.0</td>\n",
       "      <td>0.0</td>\n",
       "      <td>3.0</td>\n",
       "      <td>8.0</td>\n",
       "    </tr>\n",
       "    <tr>\n",
       "      <th>3</th>\n",
       "      <td>1.0</td>\n",
       "      <td>39.715831</td>\n",
       "      <td>1.0</td>\n",
       "      <td>0.0</td>\n",
       "      <td>146.5208</td>\n",
       "      <td>1.0</td>\n",
       "      <td>0.0</td>\n",
       "      <td>1.0</td>\n",
       "      <td>0.0</td>\n",
       "      <td>0.0</td>\n",
       "      <td>0.0</td>\n",
       "      <td>0.0</td>\n",
       "      <td>0.0</td>\n",
       "      <td>0.0</td>\n",
       "      <td>1.0</td>\n",
       "      <td>0.0</td>\n",
       "      <td>0.0</td>\n",
       "      <td>2.0</td>\n",
       "      <td>2.0</td>\n",
       "    </tr>\n",
       "    <tr>\n",
       "      <th>4</th>\n",
       "      <td>3.0</td>\n",
       "      <td>29.000000</td>\n",
       "      <td>0.0</td>\n",
       "      <td>2.0</td>\n",
       "      <td>15.2458</td>\n",
       "      <td>1.0</td>\n",
       "      <td>0.0</td>\n",
       "      <td>1.0</td>\n",
       "      <td>0.0</td>\n",
       "      <td>0.0</td>\n",
       "      <td>0.0</td>\n",
       "      <td>0.0</td>\n",
       "      <td>0.0</td>\n",
       "      <td>0.0</td>\n",
       "      <td>1.0</td>\n",
       "      <td>0.0</td>\n",
       "      <td>0.0</td>\n",
       "      <td>2.0</td>\n",
       "      <td>8.0</td>\n",
       "    </tr>\n",
       "  </tbody>\n",
       "</table>\n",
       "</div>"
      ]
     },
     "metadata": {
      "application/vnd.databricks.v1+output": {
       "addedWidgets": {},
       "arguments": {},
       "data": "<div>\n<style scoped>\n    .dataframe tbody tr th:only-of-type {\n        vertical-align: middle;\n    }\n\n    .dataframe tbody tr th {\n        vertical-align: top;\n    }\n\n    .dataframe thead th {\n        text-align: right;\n    }\n</style>\n<table border=\"1\" class=\"dataframe\">\n  <thead>\n    <tr style=\"text-align: right;\">\n      <th></th>\n      <th>Pclass</th>\n      <th>Age</th>\n      <th>SibSp</th>\n      <th>Parch</th>\n      <th>Fare</th>\n      <th>female</th>\n      <th>male</th>\n      <th>C</th>\n      <th>Q</th>\n      <th>S</th>\n      <th>NaN</th>\n      <th>Master</th>\n      <th>Miss</th>\n      <th>Mr</th>\n      <th>Mrs</th>\n      <th>Navy</th>\n      <th>Nobles</th>\n      <th>Surname</th>\n      <th>Deck</th>\n    </tr>\n  </thead>\n  <tbody>\n    <tr>\n      <th>0</th>\n      <td>3.0</td>\n      <td>27.771277</td>\n      <td>0.0</td>\n      <td>0.0</td>\n      <td>14.4583</td>\n      <td>0.0</td>\n      <td>1.0</td>\n      <td>1.0</td>\n      <td>0.0</td>\n      <td>0.0</td>\n      <td>0.0</td>\n      <td>0.0</td>\n      <td>0.0</td>\n      <td>1.0</td>\n      <td>0.0</td>\n      <td>0.0</td>\n      <td>0.0</td>\n      <td>3.0</td>\n      <td>8.0</td>\n    </tr>\n    <tr>\n      <th>1</th>\n      <td>3.0</td>\n      <td>29.328240</td>\n      <td>0.0</td>\n      <td>0.0</td>\n      <td>7.5500</td>\n      <td>0.0</td>\n      <td>1.0</td>\n      <td>0.0</td>\n      <td>0.0</td>\n      <td>1.0</td>\n      <td>0.0</td>\n      <td>0.0</td>\n      <td>0.0</td>\n      <td>1.0</td>\n      <td>0.0</td>\n      <td>0.0</td>\n      <td>0.0</td>\n      <td>3.0</td>\n      <td>8.0</td>\n    </tr>\n    <tr>\n      <th>2</th>\n      <td>3.0</td>\n      <td>7.000000</td>\n      <td>4.0</td>\n      <td>1.0</td>\n      <td>29.1250</td>\n      <td>0.0</td>\n      <td>1.0</td>\n      <td>0.0</td>\n      <td>1.0</td>\n      <td>0.0</td>\n      <td>0.0</td>\n      <td>1.0</td>\n      <td>0.0</td>\n      <td>0.0</td>\n      <td>0.0</td>\n      <td>0.0</td>\n      <td>0.0</td>\n      <td>3.0</td>\n      <td>8.0</td>\n    </tr>\n    <tr>\n      <th>3</th>\n      <td>1.0</td>\n      <td>39.715831</td>\n      <td>1.0</td>\n      <td>0.0</td>\n      <td>146.5208</td>\n      <td>1.0</td>\n      <td>0.0</td>\n      <td>1.0</td>\n      <td>0.0</td>\n      <td>0.0</td>\n      <td>0.0</td>\n      <td>0.0</td>\n      <td>0.0</td>\n      <td>0.0</td>\n      <td>1.0</td>\n      <td>0.0</td>\n      <td>0.0</td>\n      <td>2.0</td>\n      <td>2.0</td>\n    </tr>\n    <tr>\n      <th>4</th>\n      <td>3.0</td>\n      <td>29.000000</td>\n      <td>0.0</td>\n      <td>2.0</td>\n      <td>15.2458</td>\n      <td>1.0</td>\n      <td>0.0</td>\n      <td>1.0</td>\n      <td>0.0</td>\n      <td>0.0</td>\n      <td>0.0</td>\n      <td>0.0</td>\n      <td>0.0</td>\n      <td>0.0</td>\n      <td>1.0</td>\n      <td>0.0</td>\n      <td>0.0</td>\n      <td>2.0</td>\n      <td>8.0</td>\n    </tr>\n  </tbody>\n</table>\n</div>",
       "datasetInfos": [],
       "metadata": {},
       "removedWidgets": [],
       "textData": null,
       "type": "htmlSandbox"
      }
     },
     "output_type": "display_data"
    }
   ],
   "source": [
    "X_test.head()"
   ]
  },
  {
   "cell_type": "code",
   "execution_count": null,
   "metadata": {
    "application/vnd.databricks.v1+cell": {
     "inputWidgets": {},
     "nuid": "9442d792-4040-473f-8fad-745812d46489",
     "showTitle": false,
     "title": ""
    },
    "id": "u0wxGnuHw-y-"
   },
   "outputs": [],
   "source": [
    "# http://scikit-learn.org/stable/modules/generated/sklearn.preprocessing.StandardScaler.html  \n",
    "from sklearn.preprocessing import StandardScaler"
   ]
  },
  {
   "cell_type": "code",
   "execution_count": null,
   "metadata": {
    "application/vnd.databricks.v1+cell": {
     "inputWidgets": {},
     "nuid": "9fb84be4-04a9-44d1-b870-f3d805c60c42",
     "showTitle": false,
     "title": ""
    }
   },
   "outputs": [
    {
     "data": {
      "text/html": [
       "<div>\n",
       "<style scoped>\n",
       "    .dataframe tbody tr th:only-of-type {\n",
       "        vertical-align: middle;\n",
       "    }\n",
       "\n",
       "    .dataframe tbody tr th {\n",
       "        vertical-align: top;\n",
       "    }\n",
       "\n",
       "    .dataframe thead th {\n",
       "        text-align: right;\n",
       "    }\n",
       "</style>\n",
       "<table border=\"1\" class=\"dataframe\">\n",
       "  <thead>\n",
       "    <tr style=\"text-align: right;\">\n",
       "      <th></th>\n",
       "      <th>Pclass</th>\n",
       "      <th>Age</th>\n",
       "      <th>SibSp</th>\n",
       "      <th>Parch</th>\n",
       "      <th>Fare</th>\n",
       "      <th>female</th>\n",
       "      <th>male</th>\n",
       "      <th>C</th>\n",
       "      <th>Q</th>\n",
       "      <th>S</th>\n",
       "      <th>NaN</th>\n",
       "      <th>Master</th>\n",
       "      <th>Miss</th>\n",
       "      <th>Mr</th>\n",
       "      <th>Mrs</th>\n",
       "      <th>Navy</th>\n",
       "      <th>Nobles</th>\n",
       "      <th>Surname</th>\n",
       "      <th>Deck</th>\n",
       "    </tr>\n",
       "  </thead>\n",
       "  <tbody>\n",
       "    <tr>\n",
       "      <th>0</th>\n",
       "      <td>0.819251</td>\n",
       "      <td>-0.054506</td>\n",
       "      <td>-0.464452</td>\n",
       "      <td>1.959264</td>\n",
       "      <td>-0.331679</td>\n",
       "      <td>1.372075</td>\n",
       "      <td>-1.372075</td>\n",
       "      <td>2.125883</td>\n",
       "      <td>-0.31427</td>\n",
       "      <td>-1.628276</td>\n",
       "      <td>-0.053074</td>\n",
       "      <td>-0.227373</td>\n",
       "      <td>-0.512261</td>\n",
       "      <td>-1.195840</td>\n",
       "      <td>2.517977</td>\n",
       "      <td>-0.075165</td>\n",
       "      <td>-0.113147</td>\n",
       "      <td>10.202064</td>\n",
       "      <td>0.512425</td>\n",
       "    </tr>\n",
       "    <tr>\n",
       "      <th>1</th>\n",
       "      <td>-0.380968</td>\n",
       "      <td>0.106433</td>\n",
       "      <td>-0.464452</td>\n",
       "      <td>-0.477410</td>\n",
       "      <td>-0.426405</td>\n",
       "      <td>-0.728823</td>\n",
       "      <td>0.728823</td>\n",
       "      <td>-0.470393</td>\n",
       "      <td>-0.31427</td>\n",
       "      <td>0.614147</td>\n",
       "      <td>-0.053074</td>\n",
       "      <td>-0.227373</td>\n",
       "      <td>-0.512261</td>\n",
       "      <td>0.836232</td>\n",
       "      <td>-0.397144</td>\n",
       "      <td>-0.075165</td>\n",
       "      <td>-0.113147</td>\n",
       "      <td>8.683281</td>\n",
       "      <td>0.512425</td>\n",
       "    </tr>\n",
       "    <tr>\n",
       "      <th>2</th>\n",
       "      <td>-0.380968</td>\n",
       "      <td>0.106433</td>\n",
       "      <td>0.412710</td>\n",
       "      <td>0.740927</td>\n",
       "      <td>0.102620</td>\n",
       "      <td>-0.728823</td>\n",
       "      <td>0.728823</td>\n",
       "      <td>2.125883</td>\n",
       "      <td>-0.31427</td>\n",
       "      <td>-1.628276</td>\n",
       "      <td>-0.053074</td>\n",
       "      <td>-0.227373</td>\n",
       "      <td>-0.512261</td>\n",
       "      <td>0.836232</td>\n",
       "      <td>-0.397144</td>\n",
       "      <td>-0.075165</td>\n",
       "      <td>-0.113147</td>\n",
       "      <td>5.645715</td>\n",
       "      <td>0.512425</td>\n",
       "    </tr>\n",
       "    <tr>\n",
       "      <th>3</th>\n",
       "      <td>0.819251</td>\n",
       "      <td>-0.695536</td>\n",
       "      <td>-0.464452</td>\n",
       "      <td>-0.477410</td>\n",
       "      <td>-0.555896</td>\n",
       "      <td>-0.728823</td>\n",
       "      <td>0.728823</td>\n",
       "      <td>2.125883</td>\n",
       "      <td>-0.31427</td>\n",
       "      <td>-1.628276</td>\n",
       "      <td>-0.053074</td>\n",
       "      <td>-0.227373</td>\n",
       "      <td>-0.512261</td>\n",
       "      <td>0.836232</td>\n",
       "      <td>-0.397144</td>\n",
       "      <td>-0.075165</td>\n",
       "      <td>-0.113147</td>\n",
       "      <td>5.645715</td>\n",
       "      <td>0.512425</td>\n",
       "    </tr>\n",
       "    <tr>\n",
       "      <th>4</th>\n",
       "      <td>0.819251</td>\n",
       "      <td>-0.622630</td>\n",
       "      <td>-0.464452</td>\n",
       "      <td>-0.477410</td>\n",
       "      <td>-0.491276</td>\n",
       "      <td>-0.728823</td>\n",
       "      <td>0.728823</td>\n",
       "      <td>-0.470393</td>\n",
       "      <td>-0.31427</td>\n",
       "      <td>0.614147</td>\n",
       "      <td>-0.053074</td>\n",
       "      <td>-0.227373</td>\n",
       "      <td>-0.512261</td>\n",
       "      <td>0.836232</td>\n",
       "      <td>-0.397144</td>\n",
       "      <td>-0.075165</td>\n",
       "      <td>-0.113147</td>\n",
       "      <td>4.126932</td>\n",
       "      <td>0.512425</td>\n",
       "    </tr>\n",
       "  </tbody>\n",
       "</table>\n",
       "</div>"
      ]
     },
     "metadata": {
      "application/vnd.databricks.v1+output": {
       "addedWidgets": {},
       "arguments": {},
       "data": "<div>\n<style scoped>\n    .dataframe tbody tr th:only-of-type {\n        vertical-align: middle;\n    }\n\n    .dataframe tbody tr th {\n        vertical-align: top;\n    }\n\n    .dataframe thead th {\n        text-align: right;\n    }\n</style>\n<table border=\"1\" class=\"dataframe\">\n  <thead>\n    <tr style=\"text-align: right;\">\n      <th></th>\n      <th>Pclass</th>\n      <th>Age</th>\n      <th>SibSp</th>\n      <th>Parch</th>\n      <th>Fare</th>\n      <th>female</th>\n      <th>male</th>\n      <th>C</th>\n      <th>Q</th>\n      <th>S</th>\n      <th>NaN</th>\n      <th>Master</th>\n      <th>Miss</th>\n      <th>Mr</th>\n      <th>Mrs</th>\n      <th>Navy</th>\n      <th>Nobles</th>\n      <th>Surname</th>\n      <th>Deck</th>\n    </tr>\n  </thead>\n  <tbody>\n    <tr>\n      <th>0</th>\n      <td>0.819251</td>\n      <td>-0.054506</td>\n      <td>-0.464452</td>\n      <td>1.959264</td>\n      <td>-0.331679</td>\n      <td>1.372075</td>\n      <td>-1.372075</td>\n      <td>2.125883</td>\n      <td>-0.31427</td>\n      <td>-1.628276</td>\n      <td>-0.053074</td>\n      <td>-0.227373</td>\n      <td>-0.512261</td>\n      <td>-1.195840</td>\n      <td>2.517977</td>\n      <td>-0.075165</td>\n      <td>-0.113147</td>\n      <td>10.202064</td>\n      <td>0.512425</td>\n    </tr>\n    <tr>\n      <th>1</th>\n      <td>-0.380968</td>\n      <td>0.106433</td>\n      <td>-0.464452</td>\n      <td>-0.477410</td>\n      <td>-0.426405</td>\n      <td>-0.728823</td>\n      <td>0.728823</td>\n      <td>-0.470393</td>\n      <td>-0.31427</td>\n      <td>0.614147</td>\n      <td>-0.053074</td>\n      <td>-0.227373</td>\n      <td>-0.512261</td>\n      <td>0.836232</td>\n      <td>-0.397144</td>\n      <td>-0.075165</td>\n      <td>-0.113147</td>\n      <td>8.683281</td>\n      <td>0.512425</td>\n    </tr>\n    <tr>\n      <th>2</th>\n      <td>-0.380968</td>\n      <td>0.106433</td>\n      <td>0.412710</td>\n      <td>0.740927</td>\n      <td>0.102620</td>\n      <td>-0.728823</td>\n      <td>0.728823</td>\n      <td>2.125883</td>\n      <td>-0.31427</td>\n      <td>-1.628276</td>\n      <td>-0.053074</td>\n      <td>-0.227373</td>\n      <td>-0.512261</td>\n      <td>0.836232</td>\n      <td>-0.397144</td>\n      <td>-0.075165</td>\n      <td>-0.113147</td>\n      <td>5.645715</td>\n      <td>0.512425</td>\n    </tr>\n    <tr>\n      <th>3</th>\n      <td>0.819251</td>\n      <td>-0.695536</td>\n      <td>-0.464452</td>\n      <td>-0.477410</td>\n      <td>-0.555896</td>\n      <td>-0.728823</td>\n      <td>0.728823</td>\n      <td>2.125883</td>\n      <td>-0.31427</td>\n      <td>-1.628276</td>\n      <td>-0.053074</td>\n      <td>-0.227373</td>\n      <td>-0.512261</td>\n      <td>0.836232</td>\n      <td>-0.397144</td>\n      <td>-0.075165</td>\n      <td>-0.113147</td>\n      <td>5.645715</td>\n      <td>0.512425</td>\n    </tr>\n    <tr>\n      <th>4</th>\n      <td>0.819251</td>\n      <td>-0.622630</td>\n      <td>-0.464452</td>\n      <td>-0.477410</td>\n      <td>-0.491276</td>\n      <td>-0.728823</td>\n      <td>0.728823</td>\n      <td>-0.470393</td>\n      <td>-0.31427</td>\n      <td>0.614147</td>\n      <td>-0.053074</td>\n      <td>-0.227373</td>\n      <td>-0.512261</td>\n      <td>0.836232</td>\n      <td>-0.397144</td>\n      <td>-0.075165</td>\n      <td>-0.113147</td>\n      <td>4.126932</td>\n      <td>0.512425</td>\n    </tr>\n  </tbody>\n</table>\n</div>",
       "datasetInfos": [],
       "metadata": {},
       "removedWidgets": [],
       "textData": null,
       "type": "htmlSandbox"
      }
     },
     "output_type": "display_data"
    }
   ],
   "source": [
    "scaler = StandardScaler()\n",
    "\n",
    "for column in X_train.columns:\n",
    "    scaler.fit(X_train[column].values.reshape(-1, 1))\n",
    "    X_train[column] = scaler.transform(X_train[column].values.reshape(-1, 1))\n",
    "    X_test[column] = scaler.transform(X_test[column].values.reshape(-1, 1))\n",
    "\n",
    "X_train.head()"
   ]
  },
  {
   "cell_type": "markdown",
   "metadata": {
    "application/vnd.databricks.v1+cell": {
     "inputWidgets": {},
     "nuid": "93023c04-16cd-4a89-a851-336b57eaedd9",
     "showTitle": false,
     "title": ""
    },
    "id": "EqWcx5Emw-zO"
   },
   "source": [
    "## 3.9 - Balancing the classes"
   ]
  },
  {
   "cell_type": "code",
   "execution_count": null,
   "metadata": {
    "application/vnd.databricks.v1+cell": {
     "inputWidgets": {},
     "nuid": "9728c987-0a5b-4bf0-9f1f-01bdeeeac320",
     "showTitle": false,
     "title": ""
    },
    "colab": {
     "base_uri": "https://localhost:8080/"
    },
    "id": "_UY6uBeNw-zO",
    "outputId": "b08454b6-e7aa-4fc8-c997-5a42c39a7b4b"
   },
   "outputs": [
    {
     "data": {
      "text/plain": [
       "439\n",
       "273\n"
      ]
     },
     "metadata": {
      "application/vnd.databricks.v1+output": {
       "addedWidgets": {},
       "arguments": {},
       "data": "439\n273\n",
       "datasetInfos": [],
       "metadata": {},
       "removedWidgets": [],
       "type": "ansi"
      }
     },
     "output_type": "display_data"
    }
   ],
   "source": [
    "print(len(y_train[y_train == 0]))\n",
    "print(len(y_train[y_train == 1]))"
   ]
  },
  {
   "cell_type": "markdown",
   "metadata": {
    "application/vnd.databricks.v1+cell": {
     "inputWidgets": {},
     "nuid": "89068e85-b587-4d9d-a688-e194ad2419e9",
     "showTitle": false,
     "title": ""
    },
    "id": "7nWGish2w-zR",
    "tags": []
   },
   "source": [
    "### 3.9.1 - Oversampling the minority class"
   ]
  },
  {
   "cell_type": "code",
   "execution_count": null,
   "metadata": {
    "application/vnd.databricks.v1+cell": {
     "inputWidgets": {},
     "nuid": "b727f002-79a1-45b0-8a9c-2fc54fe5699d",
     "showTitle": false,
     "title": ""
    }
   },
   "outputs": [],
   "source": [
    "# http://contrib.scikit-learn.org/imbalanced-learn/  \n",
    "from imblearn.over_sampling import SMOTE"
   ]
  },
  {
   "cell_type": "code",
   "execution_count": null,
   "metadata": {
    "application/vnd.databricks.v1+cell": {
     "inputWidgets": {},
     "nuid": "49f7b76b-b260-409c-bc94-44caf29c24ed",
     "showTitle": false,
     "title": ""
    },
    "id": "Bh0T7K_Nw-zR"
   },
   "outputs": [],
   "source": [
    "smote = SMOTE(random_state=0)\n",
    "\n",
    "X_train, y_train = smote.fit_resample(X_train, y_train)"
   ]
  },
  {
   "cell_type": "code",
   "execution_count": null,
   "metadata": {
    "application/vnd.databricks.v1+cell": {
     "inputWidgets": {},
     "nuid": "6597bb67-c7c3-4dc1-a364-e4ae747ba5f1",
     "showTitle": false,
     "title": ""
    }
   },
   "outputs": [
    {
     "data": {
      "text/plain": [
       "(878, 19)\n",
       "(878,)\n",
       "439\n",
       "439\n"
      ]
     },
     "metadata": {
      "application/vnd.databricks.v1+output": {
       "addedWidgets": {},
       "arguments": {},
       "data": "(878, 19)\n(878,)\n439\n439\n",
       "datasetInfos": [],
       "metadata": {},
       "removedWidgets": [],
       "type": "ansi"
      }
     },
     "output_type": "display_data"
    }
   ],
   "source": [
    "print(X_train.shape)\n",
    "print(y_train.shape)\n",
    "print(len(y_train[y_train == 0]))\n",
    "print(len(y_train[y_train == 1]))"
   ]
  },
  {
   "cell_type": "markdown",
   "metadata": {
    "application/vnd.databricks.v1+cell": {
     "inputWidgets": {},
     "nuid": "11a716ba-ba15-4759-8a68-0307a625495c",
     "showTitle": false,
     "title": ""
    },
    "id": "ofIqQj3qw-zF"
   },
   "source": [
    "### Importing modules for evaluation of the models\n",
    "\n",
    "http://stats.stackexchange.com/questions/95797/how-to-split-the-dataset-for-cross-validation-learning-curve-and-final-evaluat   \n",
    "http://scikit-learn.org/stable/modules/cross_validation.html"
   ]
  },
  {
   "cell_type": "code",
   "execution_count": null,
   "metadata": {
    "application/vnd.databricks.v1+cell": {
     "inputWidgets": {},
     "nuid": "b96928af-3b1c-422b-a9bc-b3730bb4e2e7",
     "showTitle": false,
     "title": ""
    },
    "id": "msTI-urxw-zF"
   },
   "outputs": [],
   "source": [
    "from sklearn.metrics import confusion_matrix\n",
    "from sklearn.metrics import classification_report\n",
    "from sklearn.metrics import confusion_matrix\n",
    "from sklearn.metrics import roc_auc_score\n",
    "from sklearn.metrics import roc_curve\n",
    "from sklearn.metrics import auc\n",
    "from sklearn.metrics import accuracy_score\n",
    "from sklearn.metrics import average_precision_score\n",
    "from sklearn.metrics import f1_score\n",
    "from sklearn.metrics import precision_recall_curve"
   ]
  },
  {
   "cell_type": "markdown",
   "metadata": {
    "application/vnd.databricks.v1+cell": {
     "inputWidgets": {},
     "nuid": "d98a66b4-6d41-486b-a80f-79c2873814a8",
     "showTitle": false,
     "title": ""
    },
    "id": "AaiewYuNw-zH"
   },
   "source": [
    "### Creating functions to help evaluate the models"
   ]
  },
  {
   "cell_type": "code",
   "execution_count": null,
   "metadata": {
    "application/vnd.databricks.v1+cell": {
     "inputWidgets": {},
     "nuid": "4d42731e-2d14-4c5d-bfee-aa66950dda41",
     "showTitle": false,
     "title": ""
    },
    "id": "PdB7R1baw-zI"
   },
   "outputs": [],
   "source": [
    "def plot_confusion_matrix(cm, classes,\n",
    "                          normalize=False,\n",
    "                          title='Confusion matrix',\n",
    "                          cmap=plt.cm.Blues):\n",
    "    \"\"\"\n",
    "    This function prints and plots the confusion matrix.\n",
    "    Normalization can be applied by setting `normalize=True`.\n",
    "    \"\"\"\n",
    "    plt.figure(figsize=(8,8))\n",
    "    plt.imshow(cm, interpolation='nearest', cmap=cmap, aspect='auto')\n",
    "    plt.title(title)\n",
    "    plt.colorbar()\n",
    "    tick_marks = np.arange(len(classes))\n",
    "    plt.xticks(tick_marks, classes, rotation=45)\n",
    "    plt.yticks(tick_marks, classes)\n",
    "    \n",
    "    if normalize:\n",
    "        cm = cm.astype('float') / cm.sum(axis=1)[:, np.newaxis]\n",
    "        print(\"Normalized confusion matrix\")\n",
    "    else:\n",
    "        print('Confusion matrix, without normalization')\n",
    "\n",
    "    print(cm)\n",
    "\n",
    "    thresh = cm.max() / 2.\n",
    "    for i, j in itertools.product(range(cm.shape[0]), range(cm.shape[1])):\n",
    "        plt.text(j, i, cm[i, j],\n",
    "                 horizontalalignment=\"center\",\n",
    "                 color=\"white\" if cm[i, j] > thresh else \"black\")\n",
    "\n",
    "    plt.tight_layout()\n",
    "    plt.ylabel('True label')\n",
    "    plt.xlabel('Predicted label')\n",
    "    \n",
    "def clf_eval(clf, X, y_true, classes=['Perished', 'Survived']):\n",
    "    y_pred = clf.predict(X)\n",
    "    clf_matrix = confusion_matrix(y_true, y_pred)\n",
    "    print('Classification Report')\n",
    "    print(classification_report(y_true, y_pred, target_names=classes))\n",
    "    print('ROC Score: {}'.format(roc_auc_score(y_true, y_pred)))\n",
    "    print('Accuracy Score: {}'.format(accuracy_score(y_true, y_pred)))\n",
    "    print('Average Precision Score: {}'.format(average_precision_score(y_true, y_pred)))\n",
    "    print('f1 Score: {}'.format(f1_score(y_true, y_pred)))\n",
    "    plot_confusion_matrix(clf_matrix, classes=classes)\n",
    "    return roc_auc_score(y_true, y_pred)"
   ]
  },
  {
   "cell_type": "markdown",
   "metadata": {
    "application/vnd.databricks.v1+cell": {
     "inputWidgets": {},
     "nuid": "9f942700-db82-4803-b5cf-bac156e1a13e",
     "showTitle": false,
     "title": ""
    },
    "id": "Xy0C3Pi2w-zW"
   },
   "source": [
    "## Testing classifiers of different families:  \n",
    "\n",
    "### Linear Classifiers\n",
    "\n",
    "A linear classifier achieves this by making a classification decision based on the value of a linear combination of the characteristics. An object's characteristics are also known as feature values and are typically presented to the machine in a vector called a feature vector. Such classifiers work well for practical problems such as document classification, and more generally for problems with many variables (features), reaching accuracy levels comparable to non-linear classifiers while taking less time to train and use."
   ]
  },
  {
   "cell_type": "markdown",
   "metadata": {
    "application/vnd.databricks.v1+cell": {
     "inputWidgets": {},
     "nuid": "f860150d-cd9e-49e0-9c53-47e9adafe4ab",
     "showTitle": false,
     "title": ""
    },
    "id": "68ienV8-w-zW"
   },
   "source": [
    "#### [Support Vector Machines](https://www.analyticsvidhya.com/blog/2021/10/support-vector-machinessvm-a-complete-guide-for-beginners/)  \n",
    "\n",
    "Support vector machines (SVMs, also support vector networks) are supervised learning models with associated learning algorithms that analyze data used for classification and regression analysis. Given a set of training examples, each marked as belonging to one or the other of two categories, an SVM training algorithm builds a model that assigns new examples to one category or the other, making it a non-probabilistic binary linear classifier. An SVM model is a representation of the examples as points in space, mapped so that the examples of the separate categories are divided by a clear gap that is as wide as possible. New examples are then mapped into that same space and predicted to belong to a category based on which side of the gap they fall.\n",
    "\n",
    "In addition to performing linear classification, SVMs can efficiently perform a non-linear classification using what is called the kernel trick, implicitly mapping their inputs into high-dimensional feature spaces.\n",
    "\n",
    "An SVM will find a hyperplane or a boundary between the two classes of data that maximizes. There are other planes as well which can separate the two classes, but only the SVM hyperplane can maximize the margin between the classes.\n",
    "\n",
    "B0 + (B1 * X1) + (B2 * X2) = 0 where, B1 and B2 determines the slope of the line and B0 (intercept) found by the learning algorithm. X1 and X2 are the two input variables.\n",
    "\n",
    "![SVM](../Images/SVM.jpeg)"
   ]
  },
  {
   "cell_type": "markdown",
   "metadata": {
    "application/vnd.databricks.v1+cell": {
     "inputWidgets": {},
     "nuid": "6750b603-f5db-423a-87ae-b9ae77696f12",
     "showTitle": false,
     "title": ""
    },
    "id": "Csph3fHUw-zX"
   },
   "source": [
    "#### Choosing the best parameters using [GridSearchCV](http://scikit-learn.org/stable/modules/grid_search.html) or [RandomizedSearchCV](https://scikit-learn.org/stable/modules/generated/sklearn.model_selection.RandomizedSearchCV.html)"
   ]
  },
  {
   "cell_type": "code",
   "execution_count": null,
   "metadata": {
    "application/vnd.databricks.v1+cell": {
     "inputWidgets": {},
     "nuid": "e0506b4e-feb7-43ed-9a40-9bfa9a664865",
     "showTitle": false,
     "title": ""
    },
    "colab": {
     "base_uri": "https://localhost:8080/"
    },
    "id": "AJPrc1dMw-zX",
    "outputId": "fe011f8f-eac5-4c72-f590-56cb7b2e7afb"
   },
   "outputs": [],
   "source": [
    "%%time\n",
    "\n",
    "#http://scikit-learn.org/stable/modules/generated/sklearn.svm.SVC.html\n",
    "from sklearn import svm\n",
    "\n",
    "estimator = svm.SVC()\n",
    "\n",
    "kernels = ['linear', 'poly', 'rbf', 'sigmoid']\n",
    "Cs = np.linspace(0.1,3,7)\n",
    "degrees = [2,3,4,5]\n",
    "gammas = np.logspace(-5, 0, 7)\n",
    "\n",
    "param_grid=dict(kernel=kernels, C=Cs, gamma=gammas, degree=degrees)\n",
    "\n",
    "## Grid Search (more exhaustive)\n",
    "#clf_svc = model_selection.GridSearchCV(estimator=estimator,\n",
    "#                                       cv=cv,\n",
    "#                                       param_grid=param_grid, \n",
    "#                                       n_jobs=-1).fit(X_train, y_train)\n",
    "\n",
    "## Randomized (faster)\n",
    "clf_svc = model_selection.RandomizedSearchCV(estimator=estimator,\n",
    "                                             cv=cv,\n",
    "                                             param_distributions=param_grid, \n",
    "                                             n_jobs=-1).fit(X_train, y_train)\n",
    "\n",
    "\n",
    "with open(os.path.join(outputs,'best_parameters_svm.pickle'), 'wb') as f:\n",
    "    pickle.dump(clf_svc,f)\n",
    "\n",
    "with open(os.path.join(outputs,'best_parameters_svm.pickle'), 'rb') as f:\n",
    "    clf_svc = pickle.load(f)\n",
    "\n",
    "print(clf_svc.best_score_)\n",
    "print(clf_svc.best_estimator_.kernel)\n",
    "print(clf_svc.best_estimator_.C)\n",
    "print(clf_svc.best_estimator_.degree)\n",
    "print(clf_svc.best_estimator_.gamma)"
   ]
  },
  {
   "cell_type": "markdown",
   "metadata": {
    "application/vnd.databricks.v1+cell": {
     "inputWidgets": {},
     "nuid": "b6b03729-6683-4543-b5ef-2a532e5d5234",
     "showTitle": false,
     "title": ""
    }
   },
   "source": [
    "#### Now, let's run with the best hiperparameters"
   ]
  },
  {
   "cell_type": "code",
   "execution_count": null,
   "metadata": {
    "application/vnd.databricks.v1+cell": {
     "inputWidgets": {},
     "nuid": "689d402e-9989-4eea-8fea-f27fcd80ca09",
     "showTitle": false,
     "title": ""
    },
    "colab": {
     "base_uri": "https://localhost:8080/",
     "height": 888
    },
    "id": "S95yrzEuw-zY",
    "outputId": "cd2f8616-81c0-4de1-f465-f78e0daa35df"
   },
   "outputs": [],
   "source": [
    "%%time\n",
    "\n",
    "clf_svc2 = svm.SVC(kernel=clf_svc.best_estimator_.kernel,\n",
    "                   C=clf_svc.best_estimator_.C,\n",
    "                   degree=clf_svc.best_estimator_.degree, \n",
    "                   gamma=clf_svc.best_estimator_.gamma, \n",
    "                   coef0=0.0, \n",
    "                   shrinking=True, \n",
    "                   probability=False, \n",
    "                   tol=0.001, \n",
    "                   cache_size=200, \n",
    "                   class_weight=None, \n",
    "                   verbose=False, \n",
    "                   max_iter=-1, \n",
    "                   random_state=0).fit(X_train, y_train)\n",
    "\n",
    "roc_svc2 = clf_eval(clf_svc2, X_test, y_test)"
   ]
  },
  {
   "cell_type": "markdown",
   "metadata": {
    "application/vnd.databricks.v1+cell": {
     "inputWidgets": {},
     "nuid": "62a930fd-f0d7-4461-b26c-3348b7cdd903",
     "showTitle": false,
     "title": ""
    },
    "id": "d5s_4zJdw-zZ"
   },
   "source": [
    "#### For this first classifier, we'll also display the [learning curve](http://scikit-learn.org/stable/modules/generated/sklearn.learning_curve.learning_curve.html)"
   ]
  },
  {
   "cell_type": "code",
   "execution_count": null,
   "metadata": {
    "application/vnd.databricks.v1+cell": {
     "inputWidgets": {},
     "nuid": "fc1b411c-cc23-45bf-88ba-1edc7c9e9bee",
     "showTitle": false,
     "title": ""
    },
    "id": "o05r2oD1w-zZ"
   },
   "outputs": [],
   "source": [
    "%%time\n",
    "\n",
    "def plot_learning_curve(estimator, \n",
    "                        title, \n",
    "                        X, \n",
    "                        y, \n",
    "                        ylim=None, \n",
    "                        cv=None,\n",
    "                        n_jobs=-1, \n",
    "                        train_sizes=np.linspace(.1, 1.0, 5)):\n",
    "    \n",
    "    plt.figure(figsize=(16,8))\n",
    "    plt.title(title)\n",
    "    if ylim is not None:\n",
    "        plt.ylim(*ylim)\n",
    "    plt.xlabel(\"Training examples\")\n",
    "    plt.ylabel(\"Score\")\n",
    "    train_sizes, train_scores, test_scores = model_selection.learning_curve(estimator, \n",
    "                                                            X, y, cv=cv, \n",
    "                                                            n_jobs=n_jobs, \n",
    "                                                            train_sizes=train_sizes)\n",
    "    train_scores_mean = np.mean(train_scores, axis=1)\n",
    "    train_scores_std = np.std(train_scores, axis=1)\n",
    "    test_scores_mean = np.mean(test_scores, axis=1)\n",
    "    test_scores_std = np.std(test_scores, axis=1)\n",
    "    \n",
    "    plt.grid()\n",
    "    plt.fill_between(train_sizes, train_scores_mean - train_scores_std,\n",
    "                     train_scores_mean + train_scores_std, alpha=0.1, color=\"r\")\n",
    "    plt.fill_between(train_sizes, test_scores_mean - test_scores_std,\n",
    "                     test_scores_mean + test_scores_std, alpha=0.1, color=\"g\")\n",
    "    plt.plot(train_sizes, train_scores_mean, 'o-', color=\"r\", label=\"Training score\")\n",
    "    plt.plot(train_sizes, test_scores_mean, 'o-', color=\"g\", label=\"Cross-validation score\")\n",
    "\n",
    "    plt.legend(loc=\"best\")\n",
    "    return plt"
   ]
  },
  {
   "cell_type": "code",
   "execution_count": null,
   "metadata": {
    "application/vnd.databricks.v1+cell": {
     "inputWidgets": {},
     "nuid": "60f589c4-64f6-4c1b-9d1a-d90362405c56",
     "showTitle": false,
     "title": ""
    },
    "colab": {
     "base_uri": "https://localhost:8080/",
     "height": 511
    },
    "id": "GRDDQxIUw-zb",
    "outputId": "d542f1a3-a23d-4d83-9ee6-9582a2d6a209"
   },
   "outputs": [],
   "source": [
    "title = 'Learning Curves (SVM, kernel:{1}{0} , $\\gamma={2:.6f}$)'.format(clf_svc.best_estimator_.degree,\n",
    "                                                                         clf_svc.best_estimator_.kernel,\n",
    "                                                                         clf_svc.best_estimator_.gamma)\n",
    "graph = plot_learning_curve(clf_svc2, title, X_train, y_train, cv=cv)\n",
    "#matplotlib.rcdefaults()\n",
    "#matplotlib.verbose.set_level('silent')\n",
    "graph.show()"
   ]
  },
  {
   "cell_type": "markdown",
   "metadata": {
    "application/vnd.databricks.v1+cell": {
     "inputWidgets": {},
     "nuid": "465e0128-c0ae-42cf-b6f9-f399a88e1341",
     "showTitle": false,
     "title": ""
    },
    "id": "tuKSzUDQw-zc"
   },
   "source": [
    "#### [Logistic Regression](http://scikit-learn.org/stable/modules/generated/sklearn.linear_model.LogisticRegression.html)  \n",
    "\n",
    "Logistic regression is a classification algorithm based on the function which is used at the core of the method, logistic function or sigmoid function. It’s an S-shaped curve that is used to predict a binary outcome (1/0, Yes/No, True/False) given a set of independent variables.\n",
    "\n",
    "+ It can also be thought of as a special case of linear regression when the outcome variable is categorical, where we are using the log of odds as a dependent variable.\n",
    "+ It predicts the probability of occurrence of an event by fitting data to a logit function.\n",
    "\n",
    "p(X) = e^(b0 + b1*X) / (1 + e^(b0 + b1*X))\n",
    "\n",
    "Logistic regression, or logit regression, or logit model is a regression model where the dependent variable (DV) is categorical. In the binary case, a dependent variable (the output) can take only two values, \"0\" and \"1\", which represent outcomes such as pass/fail, win/lose, alive/dead or healthy/sick. Cases where the dependent variable has more than two outcome categories may be analysed in multinomial logistic regression, or, if the multiple categories are ordered, in ordinal logistic regression.\n",
    "\n",
    "\n",
    "![Logistic](../Images/logistic.jpeg)"
   ]
  },
  {
   "cell_type": "code",
   "execution_count": null,
   "metadata": {
    "application/vnd.databricks.v1+cell": {
     "inputWidgets": {},
     "nuid": "fd928d16-b2b8-4327-9585-c1edafc86f8c",
     "showTitle": false,
     "title": ""
    },
    "colab": {
     "base_uri": "https://localhost:8080/",
     "height": 888
    },
    "id": "_AGr9D8Yw-zd",
    "outputId": "18e33bb5-7277-4d61-9c81-e8449594643a"
   },
   "outputs": [],
   "source": [
    "%%time\n",
    "\n",
    "from sklearn.linear_model import LogisticRegression\n",
    "\n",
    "clf_lr = LogisticRegression(penalty='l2',\n",
    "                            dual=False, \n",
    "                            tol=0.001, \n",
    "                            C=0.10, \n",
    "                            fit_intercept=True, \n",
    "                            intercept_scaling=1, \n",
    "                            class_weight=None, \n",
    "                            random_state=0, \n",
    "                            solver='saga', \n",
    "                            max_iter=100, \n",
    "                            multi_class='ovr', \n",
    "                            verbose=0, \n",
    "                            warm_start=False, \n",
    "                            n_jobs=-1).fit(X_train, y_train)\n",
    "\n",
    "roc_lr = clf_eval(clf_lr, X_test, y_test)"
   ]
  },
  {
   "cell_type": "markdown",
   "metadata": {
    "application/vnd.databricks.v1+cell": {
     "inputWidgets": {},
     "nuid": "485eb1c6-9932-4340-acd4-585a7610a544",
     "showTitle": false,
     "title": ""
    },
    "id": "1v82kb1Cw-ze"
   },
   "source": [
    "#### Assessing the importance of the features"
   ]
  },
  {
   "cell_type": "code",
   "execution_count": null,
   "metadata": {
    "application/vnd.databricks.v1+cell": {
     "inputWidgets": {},
     "nuid": "2ff326a9-cca8-4e0a-8160-f4cdaf872d37",
     "showTitle": false,
     "title": ""
    },
    "colab": {
     "base_uri": "https://localhost:8080/",
     "height": 859
    },
    "id": "0dxT6Dr4w-ze",
    "outputId": "485dcde8-35de-410c-9330-c49967d8f0c4"
   },
   "outputs": [],
   "source": [
    "coefs = pd.Series(clf_lr.coef_[0], index=df_train2.iloc[:,2:].columns)\n",
    "coefs = coefs.sort_values()\n",
    "coefs.plot(kind=\"bar\", figsize=(10,6))\n",
    "print(coefs.sort_values(ascending = True))"
   ]
  },
  {
   "cell_type": "markdown",
   "metadata": {
    "application/vnd.databricks.v1+cell": {
     "inputWidgets": {},
     "nuid": "e047f1e5-6410-4991-9d32-8486858ae33c",
     "showTitle": false,
     "title": ""
    },
    "id": "I5EHNUBLw-zg"
   },
   "source": [
    "#### Precision Recall Curve\n",
    "\n",
    "For each person the classifier algorithm has to classify, it computes a probability based on a function and it classifies the person as survived (when the score is bigger the than threshold) or as not survived (when the score is smaller than the threshold). That’s why the threshold plays an important part.\n",
    "\n",
    "We will plot the precision and recall with the threshold using matplotlib:"
   ]
  },
  {
   "cell_type": "code",
   "execution_count": null,
   "metadata": {
    "application/vnd.databricks.v1+cell": {
     "inputWidgets": {},
     "nuid": "d8d86da2-ebe5-462b-9f46-9cb5bacddf60",
     "showTitle": false,
     "title": ""
    },
    "colab": {
     "base_uri": "https://localhost:8080/",
     "height": 455
    },
    "id": "Z5kwbTRZw-zg",
    "outputId": "0078392a-2d37-4dae-ebf1-c536e01b6347"
   },
   "outputs": [],
   "source": [
    "# getting the probabilities of our predictions\n",
    "y_scores = clf_lr.predict_proba(X_train)\n",
    "y_scores = y_scores[:,1]\n",
    "\n",
    "precision, recall, threshold = precision_recall_curve(y_train, y_scores)\n",
    "\n",
    "def plot_precision_and_recall(precision, recall, threshold):\n",
    "    plt.plot(threshold, precision[:-1], \"r-\", label=\"precision\", linewidth=5)\n",
    "    plt.plot(threshold, recall[:-1], \"b\", label=\"recall\", linewidth=5)\n",
    "    plt.xlabel(\"threshold\", fontsize=19)\n",
    "    plt.legend(loc=\"upper right\", fontsize=19)\n",
    "    plt.ylim([0, 1])\n",
    "\n",
    "plt.figure(figsize=(14, 7))\n",
    "plot_precision_and_recall(precision, recall, threshold)\n",
    "plt.show()"
   ]
  },
  {
   "cell_type": "markdown",
   "metadata": {
    "application/vnd.databricks.v1+cell": {
     "inputWidgets": {},
     "nuid": "b0c5ceb5-dc2a-4937-afd3-b2406224c8c6",
     "showTitle": false,
     "title": ""
    },
    "id": "X-uvzHeHw-zi"
   },
   "source": [
    "Another way is to plot the precision and recall against each other:"
   ]
  },
  {
   "cell_type": "code",
   "execution_count": null,
   "metadata": {
    "application/vnd.databricks.v1+cell": {
     "inputWidgets": {},
     "nuid": "e8112b71-9488-4f95-8934-088b125b01ec",
     "showTitle": false,
     "title": ""
    },
    "colab": {
     "base_uri": "https://localhost:8080/",
     "height": 451
    },
    "id": "Ig33tm6hw-zi",
    "outputId": "835128e8-a15a-4464-baf3-8becaaf3f547"
   },
   "outputs": [],
   "source": [
    "def plot_precision_vs_recall(precision, recall):\n",
    "    plt.plot(recall, precision, \"g--\", linewidth=2.5)\n",
    "    plt.ylabel(\"recall\", fontsize=19)\n",
    "    plt.xlabel(\"precision\", fontsize=19)\n",
    "    plt.axis([0, 1.5, 0, 1.5])\n",
    "\n",
    "plt.figure(figsize=(14, 7))\n",
    "plot_precision_vs_recall(precision, recall)\n",
    "plt.show()"
   ]
  },
  {
   "cell_type": "markdown",
   "metadata": {
    "application/vnd.databricks.v1+cell": {
     "inputWidgets": {},
     "nuid": "baf1f0c9-fafd-405b-b861-8396cce4680b",
     "showTitle": false,
     "title": ""
    },
    "id": "X5IHNK5Pw-zl"
   },
   "source": [
    "#### [Ridge Classifier](http://scikit-learn.org/stable/modules/generated/sklearn.linear_model.RidgeClassifier.html)  \n",
    "\n",
    "Ridge Classifiers addresses some of the problems of Ordinary Least Squares by imposing a penalty on the size of coefficients. The ridge coefficients minimize a penalized residual sum of squares"
   ]
  },
  {
   "cell_type": "code",
   "execution_count": null,
   "metadata": {
    "application/vnd.databricks.v1+cell": {
     "inputWidgets": {},
     "nuid": "bab21d30-0648-44af-9b37-4d5552b267d1",
     "showTitle": false,
     "title": ""
    },
    "colab": {
     "base_uri": "https://localhost:8080/",
     "height": 888
    },
    "id": "ZkJrT3Vaw-zm",
    "outputId": "b53bfad4-da0d-44ee-ebb1-e85043ace979"
   },
   "outputs": [],
   "source": [
    "%%time\n",
    "\n",
    "from sklearn.linear_model import RidgeClassifier\n",
    "\n",
    "clf_rdg = RidgeClassifier(alpha=1.0, \n",
    "                          fit_intercept=True, \n",
    "                          normalize=False, \n",
    "                          copy_X=True, \n",
    "                          max_iter=None, \n",
    "                          tol=0.001, \n",
    "                          class_weight=None, \n",
    "                          solver='auto', \n",
    "                          random_state=0).fit(X_train, y_train)\n",
    "\n",
    "roc_rdg = clf_eval(clf_rdg, X_test, y_test)"
   ]
  },
  {
   "cell_type": "markdown",
   "metadata": {
    "application/vnd.databricks.v1+cell": {
     "inputWidgets": {},
     "nuid": "05c8f5b1-f385-4317-9f5f-73af5ad0d963",
     "showTitle": false,
     "title": ""
    },
    "id": "w86sTSNdw-zp"
   },
   "source": [
    "#### [Perceptron](http://scikit-learn.org/stable/modules/generated/sklearn.linear_model.Perceptron.html#sklearn.linear_model.Perceptron)\n",
    "\n",
    "Perceptron is an algorithm for supervised learning of binary classifiers (functions that can decide whether an input, represented by a vector of numbers, belongs to some specific class or not). It is a type of linear classifier, i.e. a classification algorithm that makes its predictions based on a linear predictor function combining a set of weights with the feature vector. The algorithm allows for online learning, in that it processes elements in the training set one at a time."
   ]
  },
  {
   "cell_type": "code",
   "execution_count": null,
   "metadata": {
    "application/vnd.databricks.v1+cell": {
     "inputWidgets": {},
     "nuid": "7997bd19-3108-4770-ae62-84dc4f787e8f",
     "showTitle": false,
     "title": ""
    },
    "colab": {
     "base_uri": "https://localhost:8080/",
     "height": 888
    },
    "id": "xAD2XxG4w-zp",
    "outputId": "1da2309c-e0c5-4b09-9b12-7c89a207dc7c"
   },
   "outputs": [],
   "source": [
    "%%time\n",
    "\n",
    "from sklearn.linear_model import Perceptron\n",
    "\n",
    "clf_pcp = Perceptron(penalty=None,\n",
    "                     alpha=0.001,\n",
    "                     fit_intercept=True,\n",
    "                     max_iter=230,\n",
    "                     shuffle=True,\n",
    "                     verbose=0,\n",
    "                     eta0=1.0,\n",
    "                     n_jobs=-1, \n",
    "                     random_state=0, \n",
    "                     class_weight=None, \n",
    "                     warm_start=False).fit(X_train, y_train)\n",
    "\n",
    "roc_pcp = clf_eval(clf_pcp, X_test, y_test)"
   ]
  },
  {
   "cell_type": "markdown",
   "metadata": {
    "application/vnd.databricks.v1+cell": {
     "inputWidgets": {},
     "nuid": "6bf2fc16-dc88-440c-b71f-6ec1d9d76138",
     "showTitle": false,
     "title": ""
    },
    "id": "ggcvafIXw-zr"
   },
   "source": [
    "#### [Passive Aggressive](http://scikit-learn.org/stable/modules/generated/sklearn.linear_model.PassiveAggressiveClassifier.html)  \n",
    "\n",
    "https://www.bonaccorso.eu/2017/10/06/ml-algorithms-addendum-passive-aggressive-algorithms/ \n",
    "\n",
    "Passive Aggressive Algorithms are a family of online learning algorithms (for both classification and regression) proposed by Crammer at al. The idea is very simple and their performance has been proofed to be superior to many other alternative methods like Online Perceptron and MIRA (see the original paper in the reference section). Passive: if correct classification, keep the model; Aggressive: if incorrect classification, update to adjust to this misclassified example. In my mind, in passive, the information hidden in the example is not enough for updating; in aggressive, the information shows that at lest this time you are wrong, a better model should modify this mistake."
   ]
  },
  {
   "cell_type": "code",
   "execution_count": null,
   "metadata": {
    "application/vnd.databricks.v1+cell": {
     "inputWidgets": {},
     "nuid": "9460aca7-af98-4cd8-9f8e-c67067a7ff27",
     "showTitle": false,
     "title": ""
    },
    "colab": {
     "base_uri": "https://localhost:8080/",
     "height": 888
    },
    "id": "X0EmVb8ew-zr",
    "outputId": "6beb569e-088f-497e-fafe-4b3edd79db12"
   },
   "outputs": [],
   "source": [
    "%%time\n",
    "\n",
    "from sklearn.linear_model import PassiveAggressiveClassifier\n",
    "\n",
    "clf_pac = PassiveAggressiveClassifier(C=0.1, \n",
    "                                      fit_intercept=True, \n",
    "                                      max_iter=100, \n",
    "                                      shuffle=True, \n",
    "                                      verbose=0, \n",
    "                                      loss='hinge', \n",
    "                                      n_jobs=-1, \n",
    "                                      random_state=0, \n",
    "                                      warm_start=False, \n",
    "                                      class_weight=None).fit(X_train, y_train)\n",
    "\n",
    "roc_pac = clf_eval(clf_pac, X_test, y_test)"
   ]
  },
  {
   "cell_type": "markdown",
   "metadata": {
    "application/vnd.databricks.v1+cell": {
     "inputWidgets": {},
     "nuid": "9db4c847-307a-4b69-8e5d-dc603b4b4abb",
     "showTitle": false,
     "title": ""
    },
    "id": "4RI6zMO6w-zt"
   },
   "source": [
    "#### [SGDC Classifier](http://scikit-learn.org/stable/modules/generated/sklearn.linear_model.SGDClassifier.html)  \n",
    "\n",
    "The SGDC classifier is a linear classifier (SVM, logistic regression) with SGD training. Implements regularized linear models with stochastic gradient descent (SGD) learning: the gradient of the loss is estimated each sample at a time and the model is updated along the way with a decreasing strength schedule (aka learning rate). SGD allows minibatch (online/out-of-core) learning, see the partial_fit method. For best results using the default learning rate schedule, the data should have zero mean and unit variance.  \n",
    "\n",
    "The regularizer is a penalty added to the loss function that shrinks model parameters towards the zero vector using either the squared euclidean norm L2 or the absolute norm L1 or a combination of both (Elastic Net). If the parameter update crosses the 0.0 value because of the regularizer, the update is truncated to 0.0 to allow for learning sparse models and achieve online feature selection."
   ]
  },
  {
   "cell_type": "code",
   "execution_count": null,
   "metadata": {
    "application/vnd.databricks.v1+cell": {
     "inputWidgets": {},
     "nuid": "558b8ee5-c6a4-4441-bf9b-ffbc33eeeb15",
     "showTitle": false,
     "title": ""
    },
    "colab": {
     "base_uri": "https://localhost:8080/",
     "height": 888
    },
    "id": "on7NDs41w-zt",
    "outputId": "117439e6-f327-4a6e-b05c-78f2d0d42fc4"
   },
   "outputs": [],
   "source": [
    "%%time\n",
    "\n",
    "from sklearn.linear_model import SGDClassifier\n",
    "\n",
    "clf_sgdc = SGDClassifier(loss='hinge',\n",
    "                         penalty='l2', \n",
    "                         alpha=0.0001,\n",
    "                         l1_ratio=0.15, \n",
    "                         fit_intercept=True,\n",
    "                         max_iter=200, \n",
    "                         shuffle=True,\n",
    "                         verbose=0,\n",
    "                         epsilon=0.1,\n",
    "                         n_jobs=-1,\n",
    "                         random_state=0,\n",
    "                         learning_rate='optimal',\n",
    "                         eta0=0.0, \n",
    "                         power_t=0.5,\n",
    "                         class_weight=None,\n",
    "                         warm_start=False, \n",
    "                         average=False).fit(X_train, y_train)\n",
    "\n",
    "roc_sgdc = clf_eval(clf_sgdc, X_test, y_test)"
   ]
  },
  {
   "cell_type": "markdown",
   "metadata": {
    "application/vnd.databricks.v1+cell": {
     "inputWidgets": {},
     "nuid": "0046f9af-7f90-4197-af59-94ea265c822a",
     "showTitle": false,
     "title": ""
    },
    "id": "-QXEC_Jew-zu"
   },
   "source": [
    "### [k-Nearest Neighbors](https://scikit-learn.org/stable/modules/neighbors.html)  \n",
    "\n",
    "k-nearest neighbors algorithm (k-NN) is a non-parametric method used for classification and regression. In both cases, the input consists of the k closest training examples in the feature space. The output depends on whether k-NN is used for classification or regression:\n",
    "\n",
    "+ In k-NN classification, the output is a class membership. An object is classified by a majority vote of its neighbors, with the object being assigned to the class most common among its k nearest neighbors (k is a positive integer, typically small). If k = 1, then the object is simply assigned to the class of that single nearest neighbor.\n",
    "\n",
    "+ In k-NN regression, the output is the property value for the object. This value is the average of the values of its k nearest neighbors.\n",
    "\n",
    "k-NN is a type of instance-based learning, or lazy learning, where the function is only approximated locally and all computation is deferred until classification. The k-NN algorithm is among the simplest of all machine learning algorithms.\n",
    "\n",
    "It works by finding the distances between the new data point added and the points already existed in the two separate classes. Whatever class got the highest votes, the new data point belongs to that class.\n",
    "\n",
    "EuclideanDistance(x, xi) = sqrt( sum( (xj — xij)² ) )\n",
    "\n",
    "![knn](../Images/knn.jpeg)"
   ]
  },
  {
   "cell_type": "code",
   "execution_count": null,
   "metadata": {
    "application/vnd.databricks.v1+cell": {
     "inputWidgets": {},
     "nuid": "75bfe30b-c1b1-4144-a7c2-f6887ba079d1",
     "showTitle": false,
     "title": ""
    },
    "colab": {
     "base_uri": "https://localhost:8080/",
     "height": 888
    },
    "id": "tDotN8XLw-zu",
    "outputId": "92edf948-ca0a-4e0b-b1dc-0f1997a2b880"
   },
   "outputs": [],
   "source": [
    "%%time\n",
    "\n",
    "from sklearn.neighbors import KNeighborsClassifier\n",
    "\n",
    "clf_knn = KNeighborsClassifier(n_neighbors=25,\n",
    "                               weights='uniform', \n",
    "                               algorithm='auto', \n",
    "                               leaf_size=30, \n",
    "                               p=4, \n",
    "                               metric='minkowski', \n",
    "                               metric_params=None, \n",
    "                               n_jobs=-1).fit(X_train, y_train)\n",
    "\n",
    "roc_knn = clf_eval(clf_knn, X_test, y_test)"
   ]
  },
  {
   "cell_type": "markdown",
   "metadata": {
    "application/vnd.databricks.v1+cell": {
     "inputWidgets": {},
     "nuid": "f2f4e16c-1d90-42b3-842e-b67a7a99e18a",
     "showTitle": false,
     "title": ""
    },
    "id": "Xpo2AZ1Hw-zw"
   },
   "source": [
    "### [Decision Trees](http://scikit-learn.org/stable/modules/generated/sklearn.tree.DecisionTreeClassifier.html)  \n",
    "\n",
    "Decision tree learning uses a decision tree (as a predictive model) to go from observations about an item (represented in the branches) to conclusions about the item's target value (represented in the leaves). Tree models where the target variable can take a discrete set of values are called classification trees; in these tree structures, leaves represent class labels and branches represent conjunctions of features that lead to those class labels. Decision trees where the target variable can take continuous values (typically real numbers) are called regression trees.\n",
    "\n",
    "Decision tree algorithms are referred to as CART or Classification and Regression Trees. It is a flowchart like a tree structure, where each internal node denotes a test on an attribute, each branch represents an outcome of the test, and each leaf node (terminal node) holds a class label.\n",
    "\n",
    "+ A Gini score gives an idea of how good a split is by how mixed the response classes are in the groups created by the split.\n",
    "\n",
    "![dtree](../Images/dtrees.jpeg)"
   ]
  },
  {
   "cell_type": "code",
   "execution_count": null,
   "metadata": {
    "application/vnd.databricks.v1+cell": {
     "inputWidgets": {},
     "nuid": "b310c6ec-b367-44b2-878e-84a5a4996f80",
     "showTitle": false,
     "title": ""
    },
    "colab": {
     "base_uri": "https://localhost:8080/",
     "height": 888
    },
    "id": "O3r9R8JFw-zw",
    "outputId": "7089823f-e76d-409d-bc96-3361942276eb"
   },
   "outputs": [],
   "source": [
    "%%time\n",
    "\n",
    "from sklearn.tree import DecisionTreeClassifier\n",
    "\n",
    "clf_dtc = DecisionTreeClassifier(criterion='gini', \n",
    "                                 splitter='best', \n",
    "                                 max_depth=None, \n",
    "                                 min_samples_split=3, \n",
    "                                 min_samples_leaf=1, \n",
    "                                 min_weight_fraction_leaf=0.0, \n",
    "                                 max_features=None, \n",
    "                                 random_state=0, \n",
    "                                 max_leaf_nodes=None, \n",
    "                                 class_weight=None,).fit(X_train, y_train)\n",
    "\n",
    "roc_dtc = clf_eval(clf_dtc, X_test, y_test)"
   ]
  },
  {
   "cell_type": "markdown",
   "metadata": {
    "application/vnd.databricks.v1+cell": {
     "inputWidgets": {},
     "nuid": "a204f8f0-8f66-4925-9d9a-fef5c48bca16",
     "showTitle": false,
     "title": ""
    },
    "id": "xcSMNs67w-zx"
   },
   "source": [
    "### Ensemble Classifiers\n",
    "\n",
    "A linear classifier achieves this by making a classification decision based on the value of a linear combination of the characteristics. An object's characteristics are also known as feature values and are typically presented to the machine in a vector called a feature vector. Such classifiers work well for practical problems such as document classification, and more generally for problems with many variables (features), reaching accuracy levels comparable to non-linear classifiers while taking less time to train and use.\n",
    "\n",
    "We have many type of ensembles: \n",
    "+ Bagging\n",
    "+ Boosting \n",
    "+ Voting \n",
    "+ Stacking"
   ]
  },
  {
   "cell_type": "markdown",
   "metadata": {
    "application/vnd.databricks.v1+cell": {
     "inputWidgets": {},
     "nuid": "1aefb4ee-7301-4bc9-ad7d-9ab61cc1f8db",
     "showTitle": false,
     "title": ""
    },
    "id": "-z38vJKkw-zx"
   },
   "source": [
    "### Bagging\n",
    "\n",
    "http://scikit-learn.org/stable/modules/ensemble.html\n",
    "\n",
    "Bootstrap aggregating, also called bagging, is a machine learning ensemble meta-algorithm designed to improve the stability and accuracy of machine learning algorithms used in statistical classification and regression. It also reduces variance and helps to avoid overfitting. Although it is usually applied to decision tree methods, it can be used with any type of method. Bagging is a special case of the model averaging approach. Random Forests are the most common type of bagging algorithms."
   ]
  },
  {
   "cell_type": "markdown",
   "metadata": {
    "application/vnd.databricks.v1+cell": {
     "inputWidgets": {},
     "nuid": "616e92cd-da5d-4498-903e-ced6ab1987d9",
     "showTitle": false,
     "title": ""
    },
    "id": "6x7pdyFIw-zy"
   },
   "source": [
    "#### [Random Forests](http://scikit-learn.org/stable/modules/generated/sklearn.ensemble.RandomForestClassifier.html)  \n",
    "\n",
    "http://blog.yhathq.com/posts/random-forests-in-python.html  \n",
    "http://www.analyticsvidhya.com/blog/2015/06/tuning-random-forest-model/  \n",
    "\n",
    "Random forests or random decision forests are an ensemble learning method for classification, regression and other tasks, that operate by constructing a multitude of decision trees at training time and outputting the class that is the mode of the classes (classification) or mean prediction (regression) of the individual trees. Random decision forests correct for decision trees' habit of overfitting to their training set.\n",
    "\n",
    "+ Random forests involve creating multiple decision trees using bootstrapped datasets of the original data and randomly selecting a subset of variables at each step of the decision tree.     \n",
    "+ The model then selects the mode of all of the predictions of each decision tree (bagging)."
   ]
  },
  {
   "cell_type": "code",
   "execution_count": null,
   "metadata": {
    "application/vnd.databricks.v1+cell": {
     "inputWidgets": {},
     "nuid": "dfe129a3-8bbf-44d7-9b74-7a19b677148b",
     "showTitle": false,
     "title": ""
    },
    "colab": {
     "base_uri": "https://localhost:8080/",
     "height": 888
    },
    "id": "GESByfjOw-zy",
    "outputId": "4261d136-dc22-42da-80e0-c639a6071ccc"
   },
   "outputs": [],
   "source": [
    "%%time\n",
    "\n",
    "from sklearn.ensemble import RandomForestClassifier\n",
    "\n",
    "clf_rf = RandomForestClassifier(n_estimators=300, \n",
    "                                criterion='gini', \n",
    "                                max_depth=None, \n",
    "                                min_samples_split=3, #2,\n",
    "                                min_samples_leaf=1, \n",
    "                                min_weight_fraction_leaf=0.0, \n",
    "                                max_features='sqrt', \n",
    "                                max_leaf_nodes=None, \n",
    "                                bootstrap=True, \n",
    "                                oob_score=False, \n",
    "                                n_jobs=-1, \n",
    "                                random_state=0, \n",
    "                                verbose=0, \n",
    "                                warm_start=False, \n",
    "                                class_weight=None).fit(X_train, y_train)\n",
    "\n",
    "\n",
    "\n",
    "roc_rf = clf_eval(clf_rf, X_test, y_test)"
   ]
  },
  {
   "cell_type": "markdown",
   "metadata": {
    "application/vnd.databricks.v1+cell": {
     "inputWidgets": {},
     "nuid": "d6894dd3-cdfc-4c6c-9084-26fe3b16d222",
     "showTitle": false,
     "title": ""
    },
    "id": "qE7a0VEfw-zz"
   },
   "source": [
    "#### Assessing the importance of the features"
   ]
  },
  {
   "cell_type": "code",
   "execution_count": null,
   "metadata": {
    "application/vnd.databricks.v1+cell": {
     "inputWidgets": {},
     "nuid": "cc4ea332-b464-450d-8682-b5ac32ac31d0",
     "showTitle": false,
     "title": ""
    },
    "colab": {
     "base_uri": "https://localhost:8080/",
     "height": 621
    },
    "id": "eSlZP8DAw-zz",
    "outputId": "fd911752-3eca-4865-cb48-0fa7ccf24dca"
   },
   "outputs": [],
   "source": [
    "features = df_train2.iloc[:,2:].columns\n",
    "importances = clf_rf.feature_importances_\n",
    "indices = np.argsort(importances) #[0:9])  # top 10 features\n",
    "plt.figure(figsize=(12,10))\n",
    "plt.title('Feature Importances')\n",
    "plt.barh(range(len(indices)), importances[indices], align='center')\n",
    "plt.yticks(range(len(indices)), [features[i] for i in indices])\n",
    "plt.xlabel('Relative Importance')\n",
    "plt.show()"
   ]
  },
  {
   "cell_type": "markdown",
   "metadata": {
    "application/vnd.databricks.v1+cell": {
     "inputWidgets": {},
     "nuid": "80de6a8d-d93b-4885-ab22-4e3679f5d44b",
     "showTitle": false,
     "title": ""
    },
    "id": "eMnWYnFPw-z0"
   },
   "source": [
    "#### [Plotting the confidence intervals](https://github.com/scikit-learn-contrib/forest-confidence-interval)"
   ]
  },
  {
   "cell_type": "code",
   "execution_count": null,
   "metadata": {
    "application/vnd.databricks.v1+cell": {
     "inputWidgets": {},
     "nuid": "6b72fd3c-a3f2-4d56-87e5-33711bdc223a",
     "showTitle": false,
     "title": ""
    },
    "colab": {
     "base_uri": "https://localhost:8080/",
     "height": 888
    },
    "id": "NNKb-jZDw-z2",
    "outputId": "3802544f-0388-42a3-e5b0-0354c4205836"
   },
   "outputs": [],
   "source": [
    "%%time\n",
    "\n",
    "from sklearn.ensemble import BaggingClassifier\n",
    "\n",
    "clf_bgc = BaggingClassifier().fit(X_train, y_train)\n",
    "\n",
    "roc_bgc = clf_eval(clf_bgc, X_test, y_test)"
   ]
  },
  {
   "cell_type": "markdown",
   "metadata": {
    "application/vnd.databricks.v1+cell": {
     "inputWidgets": {},
     "nuid": "b0b5233f-513d-4c4b-aec8-357f6130a088",
     "showTitle": false,
     "title": ""
    }
   },
   "source": [
    "#### [Extra Trees Classifier](https://scikit-learn.org/stable/modules/generated/sklearn.ensemble.ExtraTreesClassifier.html)"
   ]
  },
  {
   "cell_type": "code",
   "execution_count": null,
   "metadata": {
    "application/vnd.databricks.v1+cell": {
     "inputWidgets": {},
     "nuid": "6f2c8c32-c6d3-4c4a-9b96-c9f6eb2de512",
     "showTitle": false,
     "title": ""
    },
    "colab": {
     "base_uri": "https://localhost:8080/",
     "height": 888
    },
    "id": "uvVP2Kf2w-z4",
    "outputId": "a157f376-e38f-4aac-f391-9fb7384311c5"
   },
   "outputs": [],
   "source": [
    "%%time\n",
    "\n",
    "from sklearn.ensemble import ExtraTreesClassifier\n",
    "\n",
    "clf_etc = ExtraTreesClassifier(n_estimators=300,\n",
    "                               max_depth=None,\n",
    "                               min_samples_split=3,\n",
    "                               random_state=0).fit(X_train, y_train)\n",
    "\n",
    "roc_etc = clf_eval(clf_etc, X_test, y_test)"
   ]
  },
  {
   "cell_type": "markdown",
   "metadata": {
    "application/vnd.databricks.v1+cell": {
     "inputWidgets": {},
     "nuid": "67463eab-dd8b-43f2-8fa7-269009958e25",
     "showTitle": false,
     "title": ""
    },
    "id": "1BHi53UEw-z6"
   },
   "source": [
    "### Boosting\n",
    "\n",
    "Boosting is a machine learning ensemble meta-algorithm for primarily reducing bias, and also variance in supervised learning, and a family of machine learning algorithms that convert weak learners to strong ones. Boosting is based on the question posed by Kearns and Valiant (1988, 1989): Can a set of weak learners create a single strong learner? A weak learner is defined to be a classifier that is only slightly correlated with the true classification (it can label examples better than random guessing). In contrast, a strong learner is a classifier that is arbitrarily well-correlated with the true classification.\n",
    "\n",
    "\n",
    "#### [AdaBoost](http://scikit-learn.org/stable/modules/generated/sklearn.ensemble.AdaBoostClassifier.html)\n",
    "\n",
    "Adaptive boost is also an ensemble algorithm that leverages bagging and boosting methods to develop an enhanced predictor.\n",
    "\n",
    "+ AdaBoost creates a forest of stumps rather than trees. A stump is a tree that is made of only one node and two leaves.\n",
    "+ AdaBoost takes a more iterative approach in the sense that it seeks to iteratively improve from the mistakes that the previous stump(s) made."
   ]
  },
  {
   "cell_type": "code",
   "execution_count": null,
   "metadata": {
    "application/vnd.databricks.v1+cell": {
     "inputWidgets": {},
     "nuid": "055e3e66-b566-4459-94ec-2630b13e8973",
     "showTitle": false,
     "title": ""
    },
    "colab": {
     "base_uri": "https://localhost:8080/",
     "height": 888
    },
    "id": "zmU1o8-fw-z7",
    "outputId": "cbb016e7-2d92-4f15-a0f7-15e0146fa108"
   },
   "outputs": [],
   "source": [
    "%%time\n",
    "\n",
    "from sklearn.ensemble import AdaBoostClassifier\n",
    "\n",
    "clf_abc = AdaBoostClassifier(base_estimator=None,\n",
    "                             n_estimators=300,\n",
    "                             learning_rate=0.1,\n",
    "                             algorithm='SAMME.R',\n",
    "                             random_state=0).fit(X_train, y_train)\n",
    "\n",
    "roc_abc = clf_eval(clf_abc, X_test, y_test)"
   ]
  },
  {
   "cell_type": "markdown",
   "metadata": {
    "application/vnd.databricks.v1+cell": {
     "inputWidgets": {},
     "nuid": "a3b326bd-dbf4-4a1f-baa7-d6c917065723",
     "showTitle": false,
     "title": ""
    }
   },
   "source": [
    "#### [Gradient Boost](http://scikit-learn.org/stable/modules/generated/sklearn.ensemble.GradientBoostingClassifier.html):  \n",
    "\n",
    "Gradient Boost is also an ensemble algorithm that uses boosting methods to develop an enhanced predictor.\n",
    "\n",
    "+ Unlike AdaBoost which builds stumps, Gradient Boost builds trees with usually 8–32 leaves.\n",
    "+ Gradient Boost views the boosting problem as an optimization problem, where it uses a loss function and tries to minimize the error. This is why it’s called Gradient boost, as it’s inspired by gradient descent."
   ]
  },
  {
   "cell_type": "code",
   "execution_count": null,
   "metadata": {
    "application/vnd.databricks.v1+cell": {
     "inputWidgets": {},
     "nuid": "556083f2-ce37-4706-90e6-a6c3ef117076",
     "showTitle": false,
     "title": ""
    },
    "colab": {
     "base_uri": "https://localhost:8080/",
     "height": 888
    },
    "id": "0mLc_GVhw-z8",
    "outputId": "a42ce21d-8b94-46ab-fd54-772859d5a360"
   },
   "outputs": [],
   "source": [
    "%%time\n",
    "\n",
    "from sklearn.ensemble import GradientBoostingClassifier\n",
    "\n",
    "clf_gbc = GradientBoostingClassifier(loss='log_loss',\n",
    "                                     learning_rate=0.1,\n",
    "                                     n_estimators=200,\n",
    "                                     subsample=1.0, \n",
    "                                     min_samples_split=3, \n",
    "                                     min_samples_leaf=1, \n",
    "                                     min_weight_fraction_leaf=0.0, \n",
    "                                     max_depth=3, \n",
    "                                     init=None, \n",
    "                                     random_state=0, \n",
    "                                     max_features=None, \n",
    "                                     verbose=0, \n",
    "                                     max_leaf_nodes=None, \n",
    "                                     warm_start=False,).fit(X_train, y_train)\n",
    "\n",
    "roc_gbc = clf_eval(clf_gbc, X_test, y_test)"
   ]
  },
  {
   "cell_type": "markdown",
   "metadata": {
    "application/vnd.databricks.v1+cell": {
     "inputWidgets": {},
     "nuid": "a3964554-778c-469b-bc32-fb0bb34d0c37",
     "showTitle": false,
     "title": ""
    }
   },
   "source": [
    "#### XGBoost:\n",
    "\n",
    "https://github.com/dmlc/xgboost/tree/master/python-package  \n",
    "https://xgboost.readthedocs.io/en/latest/build.html#building-on-ubuntu-debian  \n",
    "http://xgboost.readthedocs.io/en/latest/build.html#python-package-installation  \n",
    "http://xgboost.readthedocs.io/en/latest/parameter.html  \n",
    "https://www.analyticsvidhya.com/blog/2016/03/complete-guide-parameter-tuning-xgboost-with-codes-python/  \n",
    "https://www.kaggle.com/cbrogan/titanic/xgboost-example-python/run/1620  \n",
    "http://xgboost.readthedocs.io/en/latest//python/python_api.html#module-xgboost.sklearn  \n",
    "\n",
    "XGBoost is one of the most popular and widely used algorithms today because it is simply so powerful.\n",
    "\n",
    "+ It is similar to Gradient Boost but has a few extra features that make it that much stronger.\n",
    "+ Newton Boosting — Provides a direct route to the minima than gradient descent, making it much faster.\n",
    "+ An extra randomization parameter — reduces the correlation between trees, ultimately improving the strength of the ensemble."
   ]
  },
  {
   "cell_type": "code",
   "execution_count": null,
   "metadata": {
    "application/vnd.databricks.v1+cell": {
     "inputWidgets": {},
     "nuid": "32001f29-5f2a-4c00-bfce-5a68d35cf2c6",
     "showTitle": false,
     "title": ""
    },
    "colab": {
     "base_uri": "https://localhost:8080/",
     "height": 1000
    },
    "id": "ZwkRhl1cw-z_",
    "outputId": "0453c9ff-5dc3-433d-dbe1-fb8724c7f0b7"
   },
   "outputs": [],
   "source": [
    "%%time\n",
    "\n",
    "import xgboost\n",
    "\n",
    "clf_xgb = xgboost.sklearn.XGBClassifier(base_score=0.5,\n",
    "                                        learning_rate=0.1,\n",
    "                                        n_estimators=250,\n",
    "                                        max_delta_step=0,\n",
    "                                        max_depth=2,\n",
    "                                        min_child_weight=1,\n",
    "                                        missing=1,\n",
    "                                        gamma=0.1,\n",
    "                                        subsample=1,\n",
    "                                        colsample_bylevel=1,\n",
    "                                        colsample_bytree=1,\n",
    "                                        objective= 'binary:logitraw',\n",
    "                                        #objective='multi:softprob',\n",
    "                                        eval_metric='auc',\n",
    "                                        #eval_metric='logloss',\n",
    "                                        reg_alpha=0, \n",
    "                                        reg_lambda=1,\n",
    "                                        nthread=-1,\n",
    "                                        scale_pos_weight=1,\n",
    "                                        seed=0,\n",
    "                                        silent=False,\n",
    "                                        use_label_encoder=False,\n",
    "                                        random_state=0).fit(X_train, y_train)\n",
    "\n",
    "roc_xgb = clf_eval(clf_xgb, X_test, y_test)"
   ]
  },
  {
   "cell_type": "markdown",
   "metadata": {
    "application/vnd.databricks.v1+cell": {
     "inputWidgets": {},
     "nuid": "1b9539cc-4889-423f-819b-c16c1c1ffb1d",
     "showTitle": false,
     "title": ""
    }
   },
   "source": [
    "#### Light GBM: \n",
    "\n",
    "It is another type of boosting algorithm that has shown to be faster and sometimes more accurate than XGBoost.\n",
    "\n",
    "+ It uses a unique technique called Gradient-based One-side sampling (GOSS) to filter out the data instances to find a split value."
   ]
  },
  {
   "cell_type": "code",
   "execution_count": null,
   "metadata": {
    "application/vnd.databricks.v1+cell": {
     "inputWidgets": {},
     "nuid": "8450daf1-32ea-4183-94c2-a7948bc948aa",
     "showTitle": false,
     "title": ""
    },
    "colab": {
     "base_uri": "https://localhost:8080/",
     "height": 888
    },
    "id": "CEcVQR3rw-0A",
    "outputId": "d2d5a673-4025-462c-ac07-ba889a6faa96"
   },
   "outputs": [],
   "source": [
    "%%time\n",
    "\n",
    "import lightgbm as lgb\n",
    "\n",
    "params = {'boosting_type': 'gbdt',\n",
    "          'max_depth' : -1,\n",
    "          'objective': 'binary',\n",
    "          'num_leaves': 64, \n",
    "          'learning_rate': 0.05, \n",
    "          'max_bin': 512, \n",
    "          'subsample_for_bin': 200,\n",
    "          'subsample': 1, \n",
    "          'subsample_freq': 1, \n",
    "          'colsample_bytree': 0.8, \n",
    "          'reg_alpha': 5, \n",
    "          'reg_lambda': 10,\n",
    "          'min_split_gain': 0.15, \n",
    "          'min_child_weight': 1, \n",
    "          'min_child_samples': 5, \n",
    "          'scale_pos_weight': 1,\n",
    "          'num_class' : 1,\n",
    "          'metric' : 'binary_error'}\n",
    "\n",
    "lgb_train = lgb.Dataset(X_train, y_train)\n",
    "lgb_eval = lgb.Dataset(X_test, y_test, reference=lgb_train)\n",
    "\n",
    "clf_lgb = lgb.LGBMClassifier(boosting_type= 'gbdt',\n",
    "                             objective = 'binary',\n",
    "                             n_jobs = -1,\n",
    "                             max_depth = params['max_depth'],\n",
    "                             max_bin = params['max_bin'],\n",
    "                             subsample_for_bin = params['subsample_for_bin'],\n",
    "                             subsample = params['subsample'],\n",
    "                             subsample_freq = params['subsample_freq'],\n",
    "                             min_split_gain = params['min_split_gain'], \n",
    "                             min_child_weight = params['min_child_weight'], \n",
    "                             min_child_samples = params['min_child_samples'], \n",
    "                             scale_pos_weight = params['scale_pos_weight'])\n",
    "\n",
    "clf_lgb.fit(X_train, y_train)\n",
    "\n",
    "\n",
    "roc_lgb = clf_eval(clf_lgb, X_test, y_test)"
   ]
  },
  {
   "cell_type": "markdown",
   "metadata": {
    "application/vnd.databricks.v1+cell": {
     "inputWidgets": {},
     "nuid": "c2237da5-aa9d-4611-a23a-540033011695",
     "showTitle": false,
     "title": ""
    },
    "id": "GTOEEyeTw-0B"
   },
   "source": [
    "#### Regularized Greedy Forest\n",
    "\n",
    "https://www.analyticsvidhya.com/blog/2018/02/introductory-guide-regularized-greedy-forests-rgf-python/  \n",
    "https://github.com/fukatani/rgf_python  \n",
    "https://github.com/MLWave/RGF-sklearn -- another implementation  \n",
    "https://github.com/RGF-team/rgf_python -- another implementation  \n",
    "\n",
    "\n",
    "In Boosting algorithms, each classifier/regressor is trained on data, taking into account the previous classifiers’/regressors’ success. After each training step, the weights are redistributed. Mis-classified data increases its weights to emphasize the most difficult cases. In this way, subsequent learners will focus on them during their training. However, the boosting methods simply treat the decision tree base learner as a black box and it does not take advantage of the tree structure itself.  In a sense, boosting does a partial corrective step to the model at each iteration. In contrast, RGF performs 2 steps:\n",
    "\n",
    "+ Finds the one step structural change to the current forest to obtain the new forest that minimises the loss function (e.g. Least squares or logloss)\n",
    "+ Adjusts the leaf weights for the entire forest to minimize the loss function"
   ]
  },
  {
   "cell_type": "code",
   "execution_count": null,
   "metadata": {
    "application/vnd.databricks.v1+cell": {
     "inputWidgets": {},
     "nuid": "12191080-0da1-4d3e-8b9b-e6f3d8ef222b",
     "showTitle": false,
     "title": ""
    },
    "colab": {
     "base_uri": "https://localhost:8080/",
     "height": 888
    },
    "id": "uuBvRjMiw-0B",
    "outputId": "a0e06dc8-0a67-4b44-d1d5-c77c35fa40b7"
   },
   "outputs": [],
   "source": [
    "%%time\n",
    "\n",
    "from rgf.sklearn import RGFClassifier, FastRGFClassifier\n",
    "\n",
    "clf_rgf = RGFClassifier(max_leaf=100,\n",
    "                        algorithm=\"RGF_Sib\",\n",
    "                        test_interval=60,\n",
    "                        verbose=False,).fit(X_train, y_train)\n",
    "\n",
    "roc_rgf = clf_eval(clf_rgf, X_test, y_test)"
   ]
  },
  {
   "cell_type": "markdown",
   "metadata": {
    "application/vnd.databricks.v1+cell": {
     "inputWidgets": {},
     "nuid": "a899d8ef-02a7-418b-9d3a-605b173c6828",
     "showTitle": false,
     "title": ""
    },
    "id": "bYJZWp0ww-0C"
   },
   "source": [
    "### [Bayesian Classifiers](http://scikit-learn.org/stable/modules/naive_bayes.html)  \n",
    "\n",
    "http://scikit-learn.org/stable/modules/generated/sklearn.naive_bayes.GaussianNB.html  \n",
    "http://scikit-learn.org/stable/modules/generated/sklearn.naive_bayes.BernoulliNB.html  \n",
    "\n",
    "Naive Bayes classifiers are a family of simple probabilistic classifiers based on applying Bayes theorem with strong (naive) independence assumptions between the features. Naive Bayes classifiers are highly scalable, requiring a number of parameters linear in the number of variables (features/predictors) in a learning problem. Maximum-likelihood training can be done by evaluating a closed-form expression, which takes linear time, rather than by expensive iterative approximation as used for many other types of classifiers.\n",
    "\n",
    "+ As the name specifies, this algorithm is entirely based on Bayes's theorem. Bayes’ theorem says we can calculate the probability of a piece of data belonging to a given class if prior knowledge is given.  \n",
    "+ P(class|data) = (P(data|class) * P(class)) / P(data)"
   ]
  },
  {
   "cell_type": "code",
   "execution_count": null,
   "metadata": {
    "application/vnd.databricks.v1+cell": {
     "inputWidgets": {},
     "nuid": "182a81b1-a4af-4e62-9871-e070bdfee9aa",
     "showTitle": false,
     "title": ""
    },
    "colab": {
     "base_uri": "https://localhost:8080/",
     "height": 888
    },
    "id": "AiQOkoDWw-0D",
    "outputId": "873caaee-6fae-47d8-fb12-36dca6bd360b"
   },
   "outputs": [],
   "source": [
    "%%time\n",
    "\n",
    "from sklearn.naive_bayes import GaussianNB\n",
    "\n",
    "clf_gnb = GaussianNB().fit(X_train, y_train)\n",
    "\n",
    "roc_gnb = clf_eval(clf_gnb, X_test, y_test)"
   ]
  },
  {
   "cell_type": "code",
   "execution_count": null,
   "metadata": {
    "application/vnd.databricks.v1+cell": {
     "inputWidgets": {},
     "nuid": "bee87853-720d-4e36-b456-99120a70ccf3",
     "showTitle": false,
     "title": ""
    },
    "colab": {
     "base_uri": "https://localhost:8080/",
     "height": 888
    },
    "id": "pQS2GQAyw-0E",
    "outputId": "f142dfd0-2ae9-48b9-8d9a-c6611ebe0183"
   },
   "outputs": [],
   "source": [
    "%%time\n",
    "\n",
    "from sklearn.naive_bayes import BernoulliNB\n",
    "\n",
    "clf_bnb = BernoulliNB(alpha=0.20, \n",
    "                     binarize=0.0, \n",
    "                     fit_prior=True, \n",
    "                     class_prior=None).fit(X_train, y_train)\n",
    "\n",
    "roc_bnb = clf_eval(clf_bnb, X_test, y_test)"
   ]
  },
  {
   "cell_type": "markdown",
   "metadata": {
    "application/vnd.databricks.v1+cell": {
     "inputWidgets": {},
     "nuid": "4456be0a-9736-480f-acff-636e41dc9d8e",
     "showTitle": false,
     "title": ""
    },
    "id": "32Hk3WZUw-0F"
   },
   "source": [
    "### Gaussian Processes\n",
    "\n",
    "In the simple linear regression setting, we have a dependent variable y that we assume can be modeled as a function of an independent variable x, i.e. y=f(x)+ϵ (where ϵ is the irreducible error) but we assume further that the function f defines a linear relationship and so we are trying to find the parameters θ0  and θ1 which define the intercept and slope of the line respectively, i.e. y=θ0+θ1x+ϵ. Bayesian linear regression provides a probabilistic approach to this by finding a distribution over the parameters that gets updated whenever new data points are observed. The GP approach, in contrast, is a non-parametric approach, in that it finds a distribution over the possible functions f(x) that are consistent with the observed data. As with all Bayesian methods it begins with a prior distribution and updates this as data points are observed, producing the posterior distribution over functions."
   ]
  },
  {
   "cell_type": "code",
   "execution_count": null,
   "metadata": {
    "application/vnd.databricks.v1+cell": {
     "inputWidgets": {},
     "nuid": "71564f5b-2908-48b7-87ce-97d79e614c49",
     "showTitle": false,
     "title": ""
    },
    "colab": {
     "base_uri": "https://localhost:8080/",
     "height": 888
    },
    "id": "6vuX7hmVw-0F",
    "outputId": "3a03b036-a0e0-48a7-eb0f-73acca8573a2"
   },
   "outputs": [],
   "source": [
    "%%time\n",
    "\n",
    "from sklearn.gaussian_process import GaussianProcessClassifier\n",
    "\n",
    "clf_gpc = GaussianProcessClassifier(kernel=None, \n",
    "                                    optimizer='fmin_l_bfgs_b', \n",
    "                                    n_restarts_optimizer=0, \n",
    "                                    max_iter_predict=100, \n",
    "                                    warm_start=False, \n",
    "                                    copy_X_train=True, \n",
    "                                    random_state=0, \n",
    "                                    multi_class='one_vs_rest', \n",
    "                                    n_jobs=-1).fit(X_train, y_train)\n",
    "\n",
    "roc_gpc = clf_eval(clf_gpc, X_test, y_test)"
   ]
  },
  {
   "cell_type": "markdown",
   "metadata": {
    "application/vnd.databricks.v1+cell": {
     "inputWidgets": {},
     "nuid": "89787022-2817-4deb-b4c8-a4daeecaf1c0",
     "showTitle": false,
     "title": ""
    },
    "id": "qcFXsJQOw-0G"
   },
   "source": [
    "### Neural Networks\n",
    "\n",
    "#### Tensorflow and Keras"
   ]
  },
  {
   "cell_type": "code",
   "execution_count": null,
   "metadata": {
    "application/vnd.databricks.v1+cell": {
     "inputWidgets": {},
     "nuid": "000acb37-49dd-4429-a156-d50b9292ae2d",
     "showTitle": false,
     "title": ""
    },
    "colab": {
     "base_uri": "https://localhost:8080/",
     "height": 1000
    },
    "id": "3J4Bq3yTw-0G",
    "outputId": "7703b5b1-8391-4ad1-b781-ba698624a075"
   },
   "outputs": [],
   "source": [
    "%%time\n",
    "\n",
    "import tensorflow as tf\n",
    "\n",
    "X_train_kr = X_train.astype('float32') \n",
    "X_test_kr = X_test.astype('float32')\n",
    "y_train_kr = y_train\n",
    "y_test_kr = y_test\n",
    "\n",
    "print(X_train_kr.shape[0], 'train samples')\n",
    "print(X_test_kr.shape[0], 'test samples')\n",
    "\n",
    "\n",
    "\n",
    "batch_size = int(len(X_train_kr)/25)\n",
    "num_classes = 2\n",
    "epochs = 11\n",
    "np.random.seed(0)\n",
    "\n",
    "model = tf.keras.Sequential()\n",
    "model.add(tf.keras.layers.Dense(input_dim=X_train_kr.shape[1], units=100, activation='relu'))\n",
    "model.add(tf.keras.layers.Dropout(0.25))\n",
    "model.add(tf.keras.layers.Dense(units=100, activation='relu'))\n",
    "model.add(tf.keras.layers.Dropout(0.25))\n",
    "model.add(tf.keras.layers.Dense(units=100, activation='relu'))\n",
    "model.add(tf.keras.layers.Dropout(0.25))\n",
    "model.add(tf.keras.layers.Dense(units=24, activation='relu'))\n",
    "model.add(tf.keras.layers.Dropout(0.25))\n",
    "model.add(tf.keras.layers.Dense(units=1, activation='sigmoid')) #kernel_initializer='uniform',\n",
    "model.summary()\n",
    "\n",
    "#opt = tf.keras.optimizers.SGD(lr=0.01, momentum=0.9)\n",
    "opt = tf.keras.optimizers.RMSprop(learning_rate=0.001, rho=0.9, momentum=0.01, epsilon=1e-07, centered=False, name='RMSprop')\n",
    "\n",
    "\n",
    "model.compile(loss='binary_crossentropy',\n",
    "              optimizer=opt,\n",
    "              metrics=['binary_accuracy'])\n",
    "\n",
    "history = model.fit(X_train_kr, y_train_kr,\n",
    "                    batch_size=batch_size,\n",
    "                    epochs=epochs,\n",
    "                    verbose=0,\n",
    "                    shuffle=False,\n",
    "                    validation_data=(X_test_kr, y_test_kr))\n",
    "\n",
    "score = model.evaluate(X_test_kr, y_test_kr, verbose=0)\n",
    "print('Test loss:', score[0])\n",
    "print('Test accuracy:', score[1])\n",
    "\n",
    "#WARNING:tensorflow:From <timed exec>:50: Sequential.predict_classes (from tensorflow.python.keras.engine.sequential) is deprecated \n",
    "# and will be removed after 2021-01-01. Instructions for updating:\n",
    "# Please use instead: `np.argmax(model.predict(x), axis=-1)`,   if your model does multi-class classification   \n",
    "#(e.g. if it uses a `softmax` last-layer activation).\n",
    "#`(model.predict(x) > 0.5).astype(\"int32\")`, if your model does binary classification (e.g. if it uses a `sigmoid` last-layer activation).\n",
    "\n",
    "#y_pred = model.predict_classes(X_test_kr) \n",
    "y_pred = (model.predict(X_test_kr) > 0.5).astype(\"int32\")\n",
    "\n",
    "clf_matrix = confusion_matrix(y_test_kr, y_pred)\n",
    "print('Classification Report')\n",
    "print(classification_report(y_test_kr, y_pred, target_names=['Perished', 'Survived']))\n",
    "print('ROC Score: {}'.format(roc_auc_score(y_test_kr, y_pred)))\n",
    "print('Accuracy Score: {}'.format(accuracy_score(y_test_kr, y_pred)))\n",
    "print('Average Precision Score: {}'.format(average_precision_score(y_test_kr, y_pred)))\n",
    "print('f1 Score: {}'.format(f1_score(y_test_kr, y_pred)))\n",
    "plot_confusion_matrix(clf_matrix, classes=['Perished', 'Survived'])\n",
    "roc_keras = roc_auc_score(y_test_kr, y_pred)"
   ]
  },
  {
   "cell_type": "code",
   "execution_count": null,
   "metadata": {
    "application/vnd.databricks.v1+cell": {
     "inputWidgets": {},
     "nuid": "94bf76c5-7c81-406f-8599-c128078fe20f",
     "showTitle": false,
     "title": ""
    },
    "colab": {
     "base_uri": "https://localhost:8080/"
    },
    "id": "_13zi8EKw-0H",
    "outputId": "1524d97d-08ca-40e6-a5d3-f08d7fea7c04"
   },
   "outputs": [],
   "source": [
    "# list all data in history\n",
    "print(history.history.keys())"
   ]
  },
  {
   "cell_type": "code",
   "execution_count": null,
   "metadata": {
    "application/vnd.databricks.v1+cell": {
     "inputWidgets": {},
     "nuid": "a6e510f7-efb5-42dd-8229-d564c802c7e1",
     "showTitle": false,
     "title": ""
    },
    "colab": {
     "base_uri": "https://localhost:8080/",
     "height": 513
    },
    "id": "kt74Mzwpw-0I",
    "outputId": "a0d8f0fa-f6bf-4677-c08d-e7af7d9c671d"
   },
   "outputs": [],
   "source": [
    "# summarize history for loss\n",
    "plt.figure(figsize=(12,8))\n",
    "plt.plot(history.history['loss'])\n",
    "plt.plot(history.history['val_loss'])\n",
    "plt.title('model loss')\n",
    "plt.ylabel('loss')\n",
    "plt.xlabel('epoch')\n",
    "plt.legend(['train', 'test'], loc='upper left')\n",
    "plt.show()"
   ]
  },
  {
   "cell_type": "code",
   "execution_count": null,
   "metadata": {
    "application/vnd.databricks.v1+cell": {
     "inputWidgets": {},
     "nuid": "18a96203-a2bd-465a-97dd-e9b076b42d2a",
     "showTitle": false,
     "title": ""
    },
    "colab": {
     "base_uri": "https://localhost:8080/",
     "height": 513
    },
    "id": "xQ024SOBw-0K",
    "outputId": "8e0db2dd-8bcc-42e0-896e-488ceb75ceef"
   },
   "outputs": [],
   "source": [
    "# summarize history for accuracy\n",
    "plt.figure(figsize=(12,8))\n",
    "plt.plot(history.history['binary_accuracy'])\n",
    "plt.plot(history.history['val_binary_accuracy'])\n",
    "plt.title('model accuracy')\n",
    "plt.ylabel('accuracy')\n",
    "plt.xlabel('epoch')\n",
    "plt.legend(['train', 'test'], loc='upper left')\n",
    "plt.show()"
   ]
  },
  {
   "cell_type": "markdown",
   "metadata": {
    "application/vnd.databricks.v1+cell": {
     "inputWidgets": {},
     "nuid": "84453a15-068b-429c-bdd7-8ab954fb6aca",
     "showTitle": false,
     "title": ""
    },
    "id": "DMn2UYUcw-0L"
   },
   "source": [
    "### Genetic Algorithms / AutoML\n",
    "\n",
    "https://github.com/rhiever/tpot  \n",
    "https://github.com/rhiever/tpot/blob/master/tutorials/Titanic_Kaggle.ipynb"
   ]
  },
  {
   "cell_type": "code",
   "execution_count": null,
   "metadata": {
    "application/vnd.databricks.v1+cell": {
     "inputWidgets": {},
     "nuid": "b6c3f5f5-2c0c-4da3-ad47-b0afe41e47d5",
     "showTitle": false,
     "title": ""
    },
    "colab": {
     "base_uri": "https://localhost:8080/",
     "height": 1000
    },
    "id": "umVGFHeYw-0L",
    "outputId": "6bc7cfe0-ad92-4f3c-9432-76c08eb6b28c",
    "scrolled": true
   },
   "outputs": [],
   "source": [
    "%%time\n",
    "\n",
    "from tpot import TPOTClassifier\n",
    "\n",
    "clf_tpot = TPOTClassifier(verbosity=1, \n",
    "                          max_time_mins=60, \n",
    "                          max_eval_time_mins=10, \n",
    "                          population_size=100,\n",
    "                          generations=100,\n",
    "                          n_jobs=-1)\n",
    "\n",
    "clf_tpot.fit(X_train, y_train)\n",
    "roc_tpot = clf_eval(clf_tpot, X_test, y_test)\n",
    "\n",
    "#clf_tpot.export('tpot_exported_pipeline.py')"
   ]
  },
  {
   "cell_type": "code",
   "execution_count": null,
   "metadata": {
    "application/vnd.databricks.v1+cell": {
     "inputWidgets": {},
     "nuid": "338fddf2-5b75-4095-8530-cb886e3cd6cc",
     "showTitle": false,
     "title": ""
    }
   },
   "outputs": [],
   "source": [
    "# %load tpot_exported_pipeline.py"
   ]
  },
  {
   "cell_type": "markdown",
   "metadata": {
    "application/vnd.databricks.v1+cell": {
     "inputWidgets": {},
     "nuid": "54fe3551-7568-413a-ade5-9f34eaeda82a",
     "showTitle": false,
     "title": ""
    },
    "id": "wXpNNPPzw-0M"
   },
   "source": [
    "### [Voting / Stacking](http://scikit-learn.org/stable/modules/ensemble.html#votingclassifier)  \n",
    "\n",
    "[article](https://medium.com/@satyam-kumar/use-voting-classifier-to-improve-the-performance-of-your-ml-model-805345f9de0e)  \n",
    "\n",
    "Voting algorithms are simple strategies, where you aglomerate results of classifiers' decisions by for example taking the class which appears in most cases. \n",
    "\n",
    "Stacking/grading strategies are generalizations of this concept. Instead of simply saying \"ok, I have a scheme v, which I will use to select the best answer among my k classifiers\" you create another abstraction layer, where you actually learn to predict the correct label having k votes."
   ]
  },
  {
   "cell_type": "code",
   "execution_count": null,
   "metadata": {
    "application/vnd.databricks.v1+cell": {
     "inputWidgets": {},
     "nuid": "3a48164d-4add-458a-a0b6-1da5b46927a3",
     "showTitle": false,
     "title": ""
    },
    "colab": {
     "base_uri": "https://localhost:8080/",
     "height": 1000
    },
    "id": "Ykas88_xw-0N",
    "outputId": "ceef258a-f870-4167-d3f5-9e328f2f16a8",
    "scrolled": true,
    "tags": []
   },
   "outputs": [],
   "source": [
    "%%time\n",
    "\n",
    "from sklearn.ensemble import VotingClassifier \n",
    "\n",
    "with warnings.catch_warnings():\n",
    "    warnings.simplefilter(\"ignore\", category=RuntimeWarning)\n",
    "    ensemble = VotingClassifier(estimators=[('clf_sgdc', clf_sgdc),\n",
    "                                            ('clf_lgr', clf_lr),\n",
    "                                            ('clf_rdg', clf_rgf),\n",
    "                                            ('clf_bgc', clf_bgc),\n",
    "                                            ('clf_etc', clf_etc),\n",
    "                                            ('clf_abc', clf_abc),\n",
    "                                            ('clf_pct', clf_pcp),\n",
    "                                            ('clf_xgb', clf_xgb),\n",
    "                                            ('clf_rf', clf_rf),\n",
    "                                            ('clf_knn', clf_knn),\n",
    "                                            ('clf_rgf', clf_rgf),\n",
    "                                            #('clf_autoskl', clf_autoskl),\n",
    "                                            #('clf_tpot', clf_tpot),\n",
    "                                            ],\n",
    "                                voting='hard',\n",
    "                                weights=[1,1,1,1,1,1,1,2,1,2,1]).fit(X_train, y_train)\n",
    "\n",
    "roc_ens = clf_eval(ensemble, X_test, y_test)"
   ]
  },
  {
   "cell_type": "markdown",
   "metadata": {
    "application/vnd.databricks.v1+cell": {
     "inputWidgets": {},
     "nuid": "09c57860-91e1-474b-927f-7f264d79a5e4",
     "showTitle": false,
     "title": ""
    },
    "id": "W5Zxu9Pww-0P"
   },
   "source": [
    "### Plotting the results:"
   ]
  },
  {
   "cell_type": "code",
   "execution_count": null,
   "metadata": {
    "application/vnd.databricks.v1+cell": {
     "inputWidgets": {},
     "nuid": "b1b9a64b-8be8-4f4f-8a14-835e9ef0daa6",
     "showTitle": false,
     "title": ""
    },
    "colab": {
     "base_uri": "https://localhost:8080/",
     "height": 646
    },
    "id": "LQogr_YRw-0P",
    "outputId": "86b611d1-d2c3-45bd-e720-718e47920c7b"
   },
   "outputs": [],
   "source": [
    "dic_results = {'SVM': roc_svc2,\n",
    "               'RandomForest': roc_rf,\n",
    "               'DecisionTree': roc_dtc,\n",
    "               'ExtraTree': roc_etc,\n",
    "               'AdaBoost': roc_abc,\n",
    "               'GradBoost': roc_gbc,\n",
    "               'LightGBM': roc_lgb,\n",
    "               'SGDC': roc_sgdc,\n",
    "               'Ridge': roc_rdg,\n",
    "               'Perceptron': roc_pcp,\n",
    "               'PassAgre': roc_pac,\n",
    "               'LogiReg': roc_lr,\n",
    "               'GaussianNB': roc_gnb,\n",
    "               'BernouNB': roc_bnb,\n",
    "               'RGF': roc_rgf,\n",
    "               'XGBoost':roc_xgb,\n",
    "               'Knn':roc_knn,\n",
    "               'Tensorflow': roc_keras,\n",
    "               'Bagging': roc_bgc,\n",
    "               'Voting': roc_ens,\n",
    "               'Tpot': roc_tpot,\n",
    "               'RGF': roc_rgf,\n",
    "               #'AutoSKL': roc_autoskl,\n",
    "               'GaussianP': roc_gpc,\n",
    "              }\n",
    "\n",
    "import operator\n",
    "tup_results = sorted(dic_results.items(), key=operator.itemgetter(1))\n",
    "\n",
    "N = len(dic_results)\n",
    "ind = np.arange(N)  # the x locations for the groups\n",
    "width = 0.40       # the width of the bars\n",
    "\n",
    "fig = plt.figure(figsize=(16,10))\n",
    "ax = fig.add_subplot(111)\n",
    "rects = ax.bar(ind+0.5, list(zip(*tup_results))[1], width,)\n",
    "for rect in rects:\n",
    "    height = rect.get_height()\n",
    "    ax.text(rect.get_x()+rect.get_width()/2., \n",
    "            1.005*height, \n",
    "            '{0:.4f}'.format(height), \n",
    "            ha='center', \n",
    "            va='bottom',)\n",
    "\n",
    "ax.set_ylabel('Scores')\n",
    "ax.set_ylim(ymin=0.65,ymax = 0.85)\n",
    "ax.set_title(\"Classificators' performance\")\n",
    "ax.set_xticks(ind + width/2.)\n",
    "ax.set_xticklabels(list(zip(*tup_results))[0], rotation=45)\n",
    "\n",
    "plt.show()"
   ]
  },
  {
   "cell_type": "code",
   "execution_count": null,
   "metadata": {
    "application/vnd.databricks.v1+cell": {
     "inputWidgets": {},
     "nuid": "d06a3440-99d2-474d-828a-621bb3cbd9bd",
     "showTitle": false,
     "title": ""
    },
    "colab": {
     "base_uri": "https://localhost:8080/",
     "height": 824
    },
    "id": "cF-leFcUw-0Q",
    "outputId": "87761db5-7510-45f4-9516-9dfe216bfa09"
   },
   "outputs": [],
   "source": [
    "features = df_train2.iloc[:,2:].columns\n",
    "df_fi = pd.DataFrame({'clf_lr': (abs(clf_lr.coef_[0])/sum(abs(clf_lr.coef_[0]))),    #a sort of adaptation\n",
    "                      'clf_rf':clf_rf.feature_importances_,\n",
    "                      'clf_xgb':clf_xgb.feature_importances_,\n",
    "                      'clf_etc':clf_etc.feature_importances_,\n",
    "                      'clf_abc':clf_abc.feature_importances_,\n",
    "                      'clf_bgc':clf_bgc.estimators_[0].feature_importances_,\n",
    "                      'clf_gbc':clf_gbc.feature_importances_,\n",
    "                      'clf_lgb':clf_lgb.feature_importances_ / sum(clf_lgb.feature_importances_),\n",
    "                     },\n",
    "                      index=features)\n",
    "df_fi['mean_importance'] = df_fi.mean(axis=1)\n",
    "df_fi.sort_values(['mean_importance'], ascending=False, inplace=True)\n",
    "df_fi"
   ]
  },
  {
   "cell_type": "markdown",
   "metadata": {
    "application/vnd.databricks.v1+cell": {
     "inputWidgets": {},
     "nuid": "f73f30ad-1241-4f99-88d2-6c61ed908a15",
     "showTitle": false,
     "title": ""
    },
    "id": "dT2_Iqqiw-0R"
   },
   "source": [
    "Choosing the best classifier and training with all training data:"
   ]
  },
  {
   "cell_type": "code",
   "execution_count": null,
   "metadata": {
    "application/vnd.databricks.v1+cell": {
     "inputWidgets": {},
     "nuid": "c2923160-ff18-41ee-bac0-3ef308b795b9",
     "showTitle": false,
     "title": ""
    },
    "colab": {
     "base_uri": "https://localhost:8080/"
    },
    "id": "H7EHNt-Mw-0R",
    "outputId": "8b88b946-bafb-4423-f229-ffb0e979fc39"
   },
   "outputs": [],
   "source": [
    "output = clf_rgf.predict(X_test)\n",
    "print(output[10:20])\n",
    "print()\n",
    "\n",
    "output_prob = clf_rgf.predict_proba(X_test)\n",
    "print(output_prob[10:20])"
   ]
  },
  {
   "cell_type": "markdown",
   "metadata": {
    "application/vnd.databricks.v1+cell": {
     "inputWidgets": {},
     "nuid": "fbeb7da0-29e2-4a4f-bb1c-99633994e7ef",
     "showTitle": false,
     "title": ""
    },
    "id": "TounV34Mw-0S"
   },
   "source": [
    "#### Examining the ROC Curve"
   ]
  },
  {
   "cell_type": "code",
   "execution_count": null,
   "metadata": {
    "application/vnd.databricks.v1+cell": {
     "inputWidgets": {},
     "nuid": "003a39a1-f6e3-4deb-864c-1de8db3b1270",
     "showTitle": false,
     "title": ""
    },
    "colab": {
     "base_uri": "https://localhost:8080/",
     "height": 513
    },
    "id": "cn3ZQZSRw-0S",
    "outputId": "6191dbb2-511b-421d-cee6-cda304ef5790"
   },
   "outputs": [],
   "source": [
    "# calculate the fpr and tpr for all thresholds of the classification\n",
    "probs = clf_rgf.predict_proba(X_train)\n",
    "y_hat = probs[:,1]\n",
    "fpr, tpr, threshold = roc_curve(y_train, y_hat)\n",
    "roc_auc = auc(fpr, tpr)\n",
    "\n",
    "plt.figure(figsize=(12,8))\n",
    "plt.title('Receiver Operating Characteristic')\n",
    "plt.plot(fpr, tpr, 'b', label = 'AUC = %0.2f' % roc_auc)\n",
    "plt.legend(loc = 'lower right')\n",
    "plt.plot([0, 1], [0, 1],'r--')\n",
    "plt.xlim([0, 1])\n",
    "plt.ylim([0, 1])\n",
    "plt.ylabel('True Positive Rate')\n",
    "plt.xlabel('False Positive Rate')\n",
    "plt.show()"
   ]
  }
 ],
 "metadata": {
  "application/vnd.databricks.v1+notebook": {
   "dashboards": [],
   "language": "python",
   "notebookMetadata": {
    "pythonIndentUnit": 4
   },
   "notebookName": "1_Modeling_Classification",
   "notebookOrigID": 3469504630704289,
   "widgets": {}
  },
  "colab": {
   "collapsed_sections": [
    "Xy0C3Pi2w-zW",
    "-z38vJKkw-zx"
   ],
   "name": "ML_Pipeline.ipynb",
   "provenance": [],
   "toc_visible": true
  },
  "kernelspec": {
   "display_name": "Python 3 (ipykernel)",
   "language": "python",
   "name": "python3"
  },
  "language_info": {
   "codemirror_mode": {
    "name": "ipython",
    "version": 3
   },
   "file_extension": ".py",
   "mimetype": "text/x-python",
   "name": "python",
   "nbconvert_exporter": "python",
   "pygments_lexer": "ipython3",
   "version": "3.10.6"
  }
 },
 "nbformat": 4,
 "nbformat_minor": 4
}
